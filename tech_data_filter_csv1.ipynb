{
 "cells": [
  {
   "cell_type": "code",
   "execution_count": 101,
   "metadata": {},
   "outputs": [],
   "source": [
    "import numpy as np\n",
    "import pandas as pd"
   ]
  },
  {
   "cell_type": "code",
   "execution_count": 102,
   "metadata": {},
   "outputs": [
    {
     "data": {
      "text/html": [
       "<div>\n",
       "<style scoped>\n",
       "    .dataframe tbody tr th:only-of-type {\n",
       "        vertical-align: middle;\n",
       "    }\n",
       "\n",
       "    .dataframe tbody tr th {\n",
       "        vertical-align: top;\n",
       "    }\n",
       "\n",
       "    .dataframe thead th {\n",
       "        text-align: right;\n",
       "    }\n",
       "</style>\n",
       "<table border=\"1\" class=\"dataframe\">\n",
       "  <thead>\n",
       "    <tr style=\"text-align: right;\">\n",
       "      <th></th>\n",
       "      <th>ResponseId</th>\n",
       "      <th>MainBranch</th>\n",
       "      <th>Employment</th>\n",
       "      <th>RemoteWork</th>\n",
       "      <th>CodingActivities</th>\n",
       "      <th>EdLevel</th>\n",
       "      <th>LearnCode</th>\n",
       "      <th>LearnCodeOnline</th>\n",
       "      <th>LearnCodeCoursesCert</th>\n",
       "      <th>YearsCode</th>\n",
       "      <th>...</th>\n",
       "      <th>TimeSearching</th>\n",
       "      <th>TimeAnswering</th>\n",
       "      <th>Onboarding</th>\n",
       "      <th>ProfessionalTech</th>\n",
       "      <th>TrueFalse_1</th>\n",
       "      <th>TrueFalse_2</th>\n",
       "      <th>TrueFalse_3</th>\n",
       "      <th>SurveyLength</th>\n",
       "      <th>SurveyEase</th>\n",
       "      <th>ConvertedCompYearly</th>\n",
       "    </tr>\n",
       "  </thead>\n",
       "  <tbody>\n",
       "    <tr>\n",
       "      <th>0</th>\n",
       "      <td>1</td>\n",
       "      <td>None of these</td>\n",
       "      <td>NaN</td>\n",
       "      <td>NaN</td>\n",
       "      <td>NaN</td>\n",
       "      <td>NaN</td>\n",
       "      <td>NaN</td>\n",
       "      <td>NaN</td>\n",
       "      <td>NaN</td>\n",
       "      <td>NaN</td>\n",
       "      <td>...</td>\n",
       "      <td>NaN</td>\n",
       "      <td>NaN</td>\n",
       "      <td>NaN</td>\n",
       "      <td>NaN</td>\n",
       "      <td>NaN</td>\n",
       "      <td>NaN</td>\n",
       "      <td>NaN</td>\n",
       "      <td>NaN</td>\n",
       "      <td>NaN</td>\n",
       "      <td>NaN</td>\n",
       "    </tr>\n",
       "    <tr>\n",
       "      <th>1</th>\n",
       "      <td>2</td>\n",
       "      <td>I am a developer by profession</td>\n",
       "      <td>Employed, full-time</td>\n",
       "      <td>Fully remote</td>\n",
       "      <td>Hobby;Contribute to open-source projects</td>\n",
       "      <td>NaN</td>\n",
       "      <td>NaN</td>\n",
       "      <td>NaN</td>\n",
       "      <td>NaN</td>\n",
       "      <td>NaN</td>\n",
       "      <td>...</td>\n",
       "      <td>NaN</td>\n",
       "      <td>NaN</td>\n",
       "      <td>NaN</td>\n",
       "      <td>NaN</td>\n",
       "      <td>NaN</td>\n",
       "      <td>NaN</td>\n",
       "      <td>NaN</td>\n",
       "      <td>Too long</td>\n",
       "      <td>Difficult</td>\n",
       "      <td>NaN</td>\n",
       "    </tr>\n",
       "    <tr>\n",
       "      <th>2</th>\n",
       "      <td>3</td>\n",
       "      <td>I am not primarily a developer, but I write co...</td>\n",
       "      <td>Employed, full-time</td>\n",
       "      <td>Hybrid (some remote, some in-person)</td>\n",
       "      <td>Hobby</td>\n",
       "      <td>Master’s degree (M.A., M.S., M.Eng., MBA, etc.)</td>\n",
       "      <td>Books / Physical media;Friend or family member...</td>\n",
       "      <td>Technical documentation;Blogs;Programming Game...</td>\n",
       "      <td>NaN</td>\n",
       "      <td>14</td>\n",
       "      <td>...</td>\n",
       "      <td>NaN</td>\n",
       "      <td>NaN</td>\n",
       "      <td>NaN</td>\n",
       "      <td>NaN</td>\n",
       "      <td>NaN</td>\n",
       "      <td>NaN</td>\n",
       "      <td>NaN</td>\n",
       "      <td>Appropriate in length</td>\n",
       "      <td>Neither easy nor difficult</td>\n",
       "      <td>40205.0</td>\n",
       "    </tr>\n",
       "    <tr>\n",
       "      <th>3</th>\n",
       "      <td>4</td>\n",
       "      <td>I am a developer by profession</td>\n",
       "      <td>Employed, full-time</td>\n",
       "      <td>Fully remote</td>\n",
       "      <td>I don’t code outside of work</td>\n",
       "      <td>Bachelor’s degree (B.A., B.S., B.Eng., etc.)</td>\n",
       "      <td>Books / Physical media;School (i.e., Universit...</td>\n",
       "      <td>NaN</td>\n",
       "      <td>NaN</td>\n",
       "      <td>20</td>\n",
       "      <td>...</td>\n",
       "      <td>NaN</td>\n",
       "      <td>NaN</td>\n",
       "      <td>NaN</td>\n",
       "      <td>NaN</td>\n",
       "      <td>NaN</td>\n",
       "      <td>NaN</td>\n",
       "      <td>NaN</td>\n",
       "      <td>Appropriate in length</td>\n",
       "      <td>Easy</td>\n",
       "      <td>215232.0</td>\n",
       "    </tr>\n",
       "    <tr>\n",
       "      <th>4</th>\n",
       "      <td>5</td>\n",
       "      <td>I am a developer by profession</td>\n",
       "      <td>Employed, full-time</td>\n",
       "      <td>Hybrid (some remote, some in-person)</td>\n",
       "      <td>Hobby</td>\n",
       "      <td>Bachelor’s degree (B.A., B.S., B.Eng., etc.)</td>\n",
       "      <td>Other online resources (e.g., videos, blogs, f...</td>\n",
       "      <td>Technical documentation;Blogs;Stack Overflow;O...</td>\n",
       "      <td>NaN</td>\n",
       "      <td>8</td>\n",
       "      <td>...</td>\n",
       "      <td>NaN</td>\n",
       "      <td>NaN</td>\n",
       "      <td>NaN</td>\n",
       "      <td>NaN</td>\n",
       "      <td>NaN</td>\n",
       "      <td>NaN</td>\n",
       "      <td>NaN</td>\n",
       "      <td>Too long</td>\n",
       "      <td>Easy</td>\n",
       "      <td>NaN</td>\n",
       "    </tr>\n",
       "  </tbody>\n",
       "</table>\n",
       "<p>5 rows × 79 columns</p>\n",
       "</div>"
      ],
      "text/plain": [
       "   ResponseId                                         MainBranch  \\\n",
       "0           1                                      None of these   \n",
       "1           2                     I am a developer by profession   \n",
       "2           3  I am not primarily a developer, but I write co...   \n",
       "3           4                     I am a developer by profession   \n",
       "4           5                     I am a developer by profession   \n",
       "\n",
       "            Employment                            RemoteWork  \\\n",
       "0                  NaN                                   NaN   \n",
       "1  Employed, full-time                          Fully remote   \n",
       "2  Employed, full-time  Hybrid (some remote, some in-person)   \n",
       "3  Employed, full-time                          Fully remote   \n",
       "4  Employed, full-time  Hybrid (some remote, some in-person)   \n",
       "\n",
       "                           CodingActivities  \\\n",
       "0                                       NaN   \n",
       "1  Hobby;Contribute to open-source projects   \n",
       "2                                     Hobby   \n",
       "3              I don’t code outside of work   \n",
       "4                                     Hobby   \n",
       "\n",
       "                                           EdLevel  \\\n",
       "0                                              NaN   \n",
       "1                                              NaN   \n",
       "2  Master’s degree (M.A., M.S., M.Eng., MBA, etc.)   \n",
       "3     Bachelor’s degree (B.A., B.S., B.Eng., etc.)   \n",
       "4     Bachelor’s degree (B.A., B.S., B.Eng., etc.)   \n",
       "\n",
       "                                           LearnCode  \\\n",
       "0                                                NaN   \n",
       "1                                                NaN   \n",
       "2  Books / Physical media;Friend or family member...   \n",
       "3  Books / Physical media;School (i.e., Universit...   \n",
       "4  Other online resources (e.g., videos, blogs, f...   \n",
       "\n",
       "                                     LearnCodeOnline LearnCodeCoursesCert  \\\n",
       "0                                                NaN                  NaN   \n",
       "1                                                NaN                  NaN   \n",
       "2  Technical documentation;Blogs;Programming Game...                  NaN   \n",
       "3                                                NaN                  NaN   \n",
       "4  Technical documentation;Blogs;Stack Overflow;O...                  NaN   \n",
       "\n",
       "  YearsCode  ... TimeSearching TimeAnswering Onboarding ProfessionalTech  \\\n",
       "0       NaN  ...           NaN           NaN        NaN              NaN   \n",
       "1       NaN  ...           NaN           NaN        NaN              NaN   \n",
       "2        14  ...           NaN           NaN        NaN              NaN   \n",
       "3        20  ...           NaN           NaN        NaN              NaN   \n",
       "4         8  ...           NaN           NaN        NaN              NaN   \n",
       "\n",
       "  TrueFalse_1 TrueFalse_2 TrueFalse_3           SurveyLength  \\\n",
       "0         NaN         NaN         NaN                    NaN   \n",
       "1         NaN         NaN         NaN               Too long   \n",
       "2         NaN         NaN         NaN  Appropriate in length   \n",
       "3         NaN         NaN         NaN  Appropriate in length   \n",
       "4         NaN         NaN         NaN               Too long   \n",
       "\n",
       "                   SurveyEase ConvertedCompYearly  \n",
       "0                         NaN                 NaN  \n",
       "1                   Difficult                 NaN  \n",
       "2  Neither easy nor difficult             40205.0  \n",
       "3                        Easy            215232.0  \n",
       "4                        Easy                 NaN  \n",
       "\n",
       "[5 rows x 79 columns]"
      ]
     },
     "execution_count": 102,
     "metadata": {},
     "output_type": "execute_result"
    }
   ],
   "source": [
    "df = pd.read_csv('survey_results_public.csv')\n",
    "df.head()"
   ]
  },
  {
   "cell_type": "code",
   "execution_count": 103,
   "metadata": {},
   "outputs": [
    {
     "data": {
      "text/plain": [
       "(73268, 79)"
      ]
     },
     "execution_count": 103,
     "metadata": {},
     "output_type": "execute_result"
    }
   ],
   "source": [
    "df.shape"
   ]
  },
  {
   "attachments": {},
   "cell_type": "markdown",
   "metadata": {},
   "source": [
    "supprimer les noms trop longs ou avec des caractères spéciaux"
   ]
  },
  {
   "cell_type": "code",
   "execution_count": 104,
   "metadata": {},
   "outputs": [],
   "source": [
    "df['EdLevel'] = df['EdLevel'].replace(to_replace=\"Master’s degree (M.A., M.S., M.Eng., MBA, etc.)\", value='Master')\n",
    "df['EdLevel'] = df['EdLevel'].replace(to_replace=\"Bachelor’s degree (B.A., B.S., B.Eng., etc.)\", value='Bachelor')\n",
    "df['EdLevel'] = df['EdLevel'].replace(to_replace=\"Secondary school (e.g. American high school, German Realschule or Gymnasium, etc.)\", value='Gymnasium')\n",
    "df['EdLevel'] = df['EdLevel'].replace(to_replace=\"Some college/university study without earning a degree\", value='University study without earning a degree')\n",
    "df['EdLevel'] = df['EdLevel'].replace(to_replace=\"Associate degree (A.A., A.S., etc.)\", value='Associate degree')\n",
    "df['EdLevel'] = df['EdLevel'].replace(to_replace=\"Professional degree (JD, MD, etc.)\", value='Professional degree')\n",
    "df['EdLevel'] = df['EdLevel'].replace(to_replace=\"Other doctoral degree (Ph.D., Ed.D., etc.)\", value='Ph.D.')\n",
    "df['EdLevel'] = df['EdLevel'].replace(to_replace=\"Primary/elementary school\", value='Elementary school')\n",
    "df['Country'] = df['Country'].replace(to_replace=\"United Kingdom of Great Britain and Northern Ireland\", value='United Kingdom')\n",
    "df['YearsCodePro'] = df['YearsCodePro'].replace(to_replace=\"Less than 1 year\", value='0')\n",
    "df['YearsCodePro'] = df['YearsCodePro'].replace(to_replace=\"More than 50 years\", value='50')\n",
    "df['LanguageHaveWorkedWith'] = df['LanguageHaveWorkedWith'].replace(to_replace=\"C\\+\\+\", value='Cpp', regex=True)"
   ]
  },
  {
   "attachments": {},
   "cell_type": "markdown",
   "metadata": {},
   "source": [
    "extraire les bonnes données"
   ]
  },
  {
   "cell_type": "code",
   "execution_count": 105,
   "metadata": {},
   "outputs": [],
   "source": [
    "def filter(df, column, filters):\n",
    "    return df[df[column].isin(filters)]"
   ]
  },
  {
   "cell_type": "code",
   "execution_count": 106,
   "metadata": {},
   "outputs": [],
   "source": [
    "countries = [\n",
    "    'United States of America',\n",
    "    'Switzerland',\n",
    "    'United Kingdom of Great Britain and Northern Ireland',\n",
    "    'France',\n",
    "    'Germany',\n",
    "    'Netherlands',\n",
    "    'Spain',\n",
    "    'Italy',\n",
    "    'Austria',\n",
    "    'Italy',\n",
    "    'Canada',\n",
    "    'Ireland',\n",
    "    'Sweden',\n",
    "    'Norway',\n",
    "    'Australia',\n",
    "    'Denmark'\n",
    "]\n",
    "\n",
    "#entrées : âge, type de dev (poste), formation, (taux d’activité, taille d'entreprise, home office)\n",
    "#sorties : salaire, tech connues (à préciser le type : langage / database / framework), nombre d’années d’expériences\n",
    "\n",
    "selected_columns = [\n",
    "    # inputs\n",
    "    'EdLevel','DevType','Employment','Age',\n",
    "    # outputs\n",
    "    'CompTotal',\n",
    "    'YearsCodePro',\n",
    "    'LanguageHaveWorkedWith',\n",
    "    'DatabaseHaveWorkedWith',\n",
    "    'PlatformHaveWorkedWith',\n",
    "    'WebframeHaveWorkedWith',\n",
    "    'MiscTechHaveWorkedWith',\n",
    "    'ToolsTechHaveWorkedWith',\n",
    "    'NEWCollabToolsHaveWorkedWith',\n",
    "]"
   ]
  },
  {
   "cell_type": "code",
   "execution_count": 107,
   "metadata": {},
   "outputs": [
    {
     "data": {
      "text/plain": [
       "0        NaN\n",
       "1        NaN\n",
       "2          5\n",
       "3         17\n",
       "4          3\n",
       "        ... \n",
       "73263      5\n",
       "73264      5\n",
       "73265     33\n",
       "73266     31\n",
       "73267      5\n",
       "Name: YearsCodePro, Length: 73268, dtype: object"
      ]
     },
     "execution_count": 107,
     "metadata": {},
     "output_type": "execute_result"
    }
   ],
   "source": [
    "df['YearsCodePro']"
   ]
  },
  {
   "attachments": {},
   "cell_type": "markdown",
   "metadata": {},
   "source": [
    "supprimer les NaN dans les colonnes categoriques"
   ]
  },
  {
   "cell_type": "code",
   "execution_count": 108,
   "metadata": {},
   "outputs": [],
   "source": [
    "df[selected_columns[6:]] = df[selected_columns[6:]].fillna('None')"
   ]
  },
  {
   "cell_type": "code",
   "execution_count": 109,
   "metadata": {},
   "outputs": [
    {
     "data": {
      "text/plain": [
       "{'LanguageHaveWorkedWith': ['JavaScript',\n",
       "  'TypeScript',\n",
       "  'C#',\n",
       "  'Cpp',\n",
       "  'HTML/CSS',\n",
       "  'Python',\n",
       "  'SQL',\n",
       "  'Swift',\n",
       "  'Lua',\n",
       "  'PHP',\n",
       "  'C',\n",
       "  'Java',\n",
       "  'Delphi',\n",
       "  'Bash/Shell',\n",
       "  'PowerShell',\n",
       "  'Rust',\n",
       "  'Elixir',\n",
       "  'Erlang',\n",
       "  'Ruby',\n",
       "  'R',\n",
       "  'Scala',\n",
       "  'VBA',\n",
       "  'Dart',\n",
       "  'Go',\n",
       "  'Kotlin',\n",
       "  'Groovy',\n",
       "  'MATLAB',\n",
       "  'Perl',\n",
       "  'Haskell',\n",
       "  'Julia',\n",
       "  'LISP',\n",
       "  'Assembly',\n",
       "  'F#',\n",
       "  'Clojure',\n",
       "  'APL',\n",
       "  'Crystal',\n",
       "  'Fortran',\n",
       "  'Objective-C',\n",
       "  'SAS',\n",
       "  'OCaml',\n",
       "  'Solidity',\n",
       "  'COBOL'],\n",
       " 'DatabaseHaveWorkedWith': ['Microsoft SQL Server',\n",
       "  'Cloud Firestore',\n",
       "  'Elasticsearch',\n",
       "  'Firebase Realtime Database',\n",
       "  'MongoDB',\n",
       "  'MySQL',\n",
       "  'Couchbase',\n",
       "  'CouchDB',\n",
       "  'PostgreSQL',\n",
       "  'Redis',\n",
       "  'DynamoDB',\n",
       "  'Neo4j',\n",
       "  'SQLite',\n",
       "  'Cassandra',\n",
       "  'MariaDB',\n",
       "  'Oracle',\n",
       "  'IBM DB2'],\n",
       " 'PlatformHaveWorkedWith': ['Firebase',\n",
       "  'Microsoft Azure',\n",
       "  'AWS',\n",
       "  'Google Cloud',\n",
       "  'Heroku',\n",
       "  'DigitalOcean',\n",
       "  'VMware',\n",
       "  'OVH',\n",
       "  'Linode',\n",
       "  'Managed Hosting',\n",
       "  'IBM Cloud or Watson',\n",
       "  'Oracle Cloud Infrastructure',\n",
       "  'OpenStack',\n",
       "  'Colocation'],\n",
       " 'WebframeHaveWorkedWith': ['Angular.js',\n",
       "  'ASP.NET',\n",
       "  'ASP.NET Core ',\n",
       "  'Angular',\n",
       "  'jQuery',\n",
       "  'Node.js',\n",
       "  'Next.js',\n",
       "  'React.js',\n",
       "  'Svelte',\n",
       "  'Vue.js',\n",
       "  'Express',\n",
       "  'Phoenix',\n",
       "  'Ruby on Rails',\n",
       "  'Django',\n",
       "  'Flask',\n",
       "  'Laravel',\n",
       "  'FastAPI',\n",
       "  'Gatsby',\n",
       "  'Nuxt.js',\n",
       "  'Drupal',\n",
       "  'Symfony',\n",
       "  'Blazor',\n",
       "  'Fastify',\n",
       "  'Deno',\n",
       "  'Play Framework'],\n",
       " 'MiscTechHaveWorkedWith': ['Pandas',\n",
       "  '.NET',\n",
       "  'Keras',\n",
       "  'NumPy',\n",
       "  'Scikit-learn',\n",
       "  'TensorFlow',\n",
       "  'Torch/PyTorch',\n",
       "  'Hugging Face Transformers',\n",
       "  'Apache Kafka',\n",
       "  'Apache Spark',\n",
       "  'Tidyverse',\n",
       "  'Electron',\n",
       "  'React Native',\n",
       "  'Spring',\n",
       "  'Flutter',\n",
       "  'Qt',\n",
       "  'Xamarin',\n",
       "  'Capacitor',\n",
       "  'Cordova',\n",
       "  'Ionic',\n",
       "  'Hadoop',\n",
       "  'GTK',\n",
       "  'Uno Platform'],\n",
       " 'ToolsTechHaveWorkedWith': ['npm',\n",
       "  'Homebrew',\n",
       "  'Docker',\n",
       "  'Terraform',\n",
       "  'Kubernetes',\n",
       "  'Yarn',\n",
       "  'Ansible',\n",
       "  'Unity 3D',\n",
       "  'Puppet',\n",
       "  'Flow',\n",
       "  'Unreal Engine',\n",
       "  'Chef',\n",
       "  'Pulumi'],\n",
       " 'NEWCollabToolsHaveWorkedWith': ['Notepad++',\n",
       "  'Visual Studio',\n",
       "  'Visual Studio Code',\n",
       "  'Xcode',\n",
       "  'Atom',\n",
       "  'IntelliJ',\n",
       "  'PyCharm',\n",
       "  'Sublime Text',\n",
       "  'CLion',\n",
       "  'Eclipse',\n",
       "  'Emacs',\n",
       "  'Android Studio',\n",
       "  'RAD Studio (Delphi, C++ Builder)',\n",
       "  'Rider',\n",
       "  'IPython/Jupyter',\n",
       "  'Neovim',\n",
       "  'Vim',\n",
       "  'Nano',\n",
       "  'RStudio',\n",
       "  'NetBeans',\n",
       "  'PhpStorm',\n",
       "  'Webstorm',\n",
       "  'GoLand',\n",
       "  'RubyMine',\n",
       "  'Spyder',\n",
       "  'Qt Creator',\n",
       "  'TextMate']}"
      ]
     },
     "execution_count": 109,
     "metadata": {},
     "output_type": "execute_result"
    }
   ],
   "source": [
    "tech_values = {col: df[col].str.split(';').explode().unique().tolist() for col in selected_columns[6:]}\n",
    "for k in tech_values.keys():\n",
    "    tech_values[k].remove('None')\n",
    "tech_values"
   ]
  },
  {
   "cell_type": "code",
   "execution_count": 110,
   "metadata": {},
   "outputs": [
    {
     "data": {
      "text/plain": [
       "(73268, 79)"
      ]
     },
     "execution_count": 110,
     "metadata": {},
     "output_type": "execute_result"
    }
   ],
   "source": [
    "df.dropna()\n",
    "df.shape"
   ]
  },
  {
   "cell_type": "code",
   "execution_count": 111,
   "metadata": {},
   "outputs": [],
   "source": [
    "def filter_multicat(df : pd.DataFrame, column, filter) -> pd.DataFrame:\n",
    "    return df[df[column].str.contains(filter)]"
   ]
  },
  {
   "cell_type": "code",
   "execution_count": 112,
   "metadata": {},
   "outputs": [
    {
     "name": "stdout",
     "output_type": "stream",
     "text": [
      "(25869, 79)\n"
     ]
    }
   ],
   "source": [
    "country_filter = filter(df, 'Country', countries)\n",
    "# Filter the data to only keep profesionnal developers\n",
    "df_filtered = filter_multicat(country_filter,'MainBranch',\"I am a developer by profession\")\n",
    "print(df_filtered.shape)"
   ]
  },
  {
   "cell_type": "code",
   "execution_count": 113,
   "metadata": {},
   "outputs": [
    {
     "name": "stdout",
     "output_type": "stream",
     "text": [
      "(25869, 13)\n"
     ]
    }
   ],
   "source": [
    "df_filtered = df_filtered[selected_columns]\n",
    "\n",
    "print(df_filtered.shape)"
   ]
  },
  {
   "cell_type": "code",
   "execution_count": 114,
   "metadata": {},
   "outputs": [
    {
     "data": {
      "text/html": [
       "<div>\n",
       "<style scoped>\n",
       "    .dataframe tbody tr th:only-of-type {\n",
       "        vertical-align: middle;\n",
       "    }\n",
       "\n",
       "    .dataframe tbody tr th {\n",
       "        vertical-align: top;\n",
       "    }\n",
       "\n",
       "    .dataframe thead th {\n",
       "        text-align: right;\n",
       "    }\n",
       "</style>\n",
       "<table border=\"1\" class=\"dataframe\">\n",
       "  <thead>\n",
       "    <tr style=\"text-align: right;\">\n",
       "      <th></th>\n",
       "      <th>EdLevel</th>\n",
       "      <th>DevType</th>\n",
       "      <th>Employment</th>\n",
       "      <th>Age</th>\n",
       "      <th>CompTotal</th>\n",
       "      <th>YearsCodePro</th>\n",
       "      <th>LanguageHaveWorkedWith</th>\n",
       "      <th>DatabaseHaveWorkedWith</th>\n",
       "      <th>PlatformHaveWorkedWith</th>\n",
       "      <th>WebframeHaveWorkedWith</th>\n",
       "      <th>MiscTechHaveWorkedWith</th>\n",
       "      <th>ToolsTechHaveWorkedWith</th>\n",
       "      <th>NEWCollabToolsHaveWorkedWith</th>\n",
       "    </tr>\n",
       "  </thead>\n",
       "  <tbody>\n",
       "    <tr>\n",
       "      <th>1</th>\n",
       "      <td>NaN</td>\n",
       "      <td>NaN</td>\n",
       "      <td>Employed, full-time</td>\n",
       "      <td>NaN</td>\n",
       "      <td>NaN</td>\n",
       "      <td>NaN</td>\n",
       "      <td>JavaScript;TypeScript</td>\n",
       "      <td>None</td>\n",
       "      <td>None</td>\n",
       "      <td>None</td>\n",
       "      <td>None</td>\n",
       "      <td>None</td>\n",
       "      <td>None</td>\n",
       "    </tr>\n",
       "    <tr>\n",
       "      <th>4</th>\n",
       "      <td>Bachelor</td>\n",
       "      <td>Developer, front-end;Developer, full-stack;Dev...</td>\n",
       "      <td>Employed, full-time</td>\n",
       "      <td>25-34 years old</td>\n",
       "      <td>NaN</td>\n",
       "      <td>3</td>\n",
       "      <td>C#;HTML/CSS;JavaScript;SQL;Swift;TypeScript</td>\n",
       "      <td>Cloud Firestore;Elasticsearch;Microsoft SQL Se...</td>\n",
       "      <td>Firebase;Microsoft Azure</td>\n",
       "      <td>Angular;ASP.NET;ASP.NET Core ;jQuery;Node.js</td>\n",
       "      <td>.NET</td>\n",
       "      <td>npm</td>\n",
       "      <td>Notepad++;Visual Studio;Visual Studio Code;Xcode</td>\n",
       "    </tr>\n",
       "    <tr>\n",
       "      <th>8</th>\n",
       "      <td>Master</td>\n",
       "      <td>Developer, back-end</td>\n",
       "      <td>Employed, full-time</td>\n",
       "      <td>25-34 years old</td>\n",
       "      <td>46000.0</td>\n",
       "      <td>6</td>\n",
       "      <td>None</td>\n",
       "      <td>None</td>\n",
       "      <td>None</td>\n",
       "      <td>None</td>\n",
       "      <td>None</td>\n",
       "      <td>None</td>\n",
       "      <td>Emacs;Notepad++</td>\n",
       "    </tr>\n",
       "    <tr>\n",
       "      <th>12</th>\n",
       "      <td>Bachelor</td>\n",
       "      <td>Developer, full-stack</td>\n",
       "      <td>Employed, full-time</td>\n",
       "      <td>25-34 years old</td>\n",
       "      <td>65000.0</td>\n",
       "      <td>5</td>\n",
       "      <td>C;HTML/CSS;Rust;SQL;Swift;TypeScript</td>\n",
       "      <td>PostgreSQL</td>\n",
       "      <td>AWS</td>\n",
       "      <td>React.js</td>\n",
       "      <td>Torch/PyTorch</td>\n",
       "      <td>Docker</td>\n",
       "      <td>Vim;Visual Studio</td>\n",
       "    </tr>\n",
       "    <tr>\n",
       "      <th>13</th>\n",
       "      <td>Bachelor</td>\n",
       "      <td>Developer, front-end;Developer, full-stack;Dev...</td>\n",
       "      <td>Employed, part-time</td>\n",
       "      <td>35-44 years old</td>\n",
       "      <td>NaN</td>\n",
       "      <td>15</td>\n",
       "      <td>Elixir;Erlang;HTML/CSS;JavaScript;Ruby;SQL;Typ...</td>\n",
       "      <td>DynamoDB;PostgreSQL</td>\n",
       "      <td>AWS;Heroku</td>\n",
       "      <td>jQuery;Next.js;Node.js;Phoenix;React.js;Ruby o...</td>\n",
       "      <td>None</td>\n",
       "      <td>Docker;Homebrew;npm;Yarn</td>\n",
       "      <td>Visual Studio Code</td>\n",
       "    </tr>\n",
       "  </tbody>\n",
       "</table>\n",
       "</div>"
      ],
      "text/plain": [
       "     EdLevel                                            DevType  \\\n",
       "1        NaN                                                NaN   \n",
       "4   Bachelor  Developer, front-end;Developer, full-stack;Dev...   \n",
       "8     Master                                Developer, back-end   \n",
       "12  Bachelor                              Developer, full-stack   \n",
       "13  Bachelor  Developer, front-end;Developer, full-stack;Dev...   \n",
       "\n",
       "             Employment              Age  CompTotal YearsCodePro  \\\n",
       "1   Employed, full-time              NaN        NaN          NaN   \n",
       "4   Employed, full-time  25-34 years old        NaN            3   \n",
       "8   Employed, full-time  25-34 years old    46000.0            6   \n",
       "12  Employed, full-time  25-34 years old    65000.0            5   \n",
       "13  Employed, part-time  35-44 years old        NaN           15   \n",
       "\n",
       "                               LanguageHaveWorkedWith  \\\n",
       "1                               JavaScript;TypeScript   \n",
       "4         C#;HTML/CSS;JavaScript;SQL;Swift;TypeScript   \n",
       "8                                                None   \n",
       "12               C;HTML/CSS;Rust;SQL;Swift;TypeScript   \n",
       "13  Elixir;Erlang;HTML/CSS;JavaScript;Ruby;SQL;Typ...   \n",
       "\n",
       "                               DatabaseHaveWorkedWith  \\\n",
       "1                                                None   \n",
       "4   Cloud Firestore;Elasticsearch;Microsoft SQL Se...   \n",
       "8                                                None   \n",
       "12                                         PostgreSQL   \n",
       "13                                DynamoDB;PostgreSQL   \n",
       "\n",
       "      PlatformHaveWorkedWith  \\\n",
       "1                       None   \n",
       "4   Firebase;Microsoft Azure   \n",
       "8                       None   \n",
       "12                       AWS   \n",
       "13                AWS;Heroku   \n",
       "\n",
       "                               WebframeHaveWorkedWith MiscTechHaveWorkedWith  \\\n",
       "1                                                None                   None   \n",
       "4        Angular;ASP.NET;ASP.NET Core ;jQuery;Node.js                   .NET   \n",
       "8                                                None                   None   \n",
       "12                                           React.js          Torch/PyTorch   \n",
       "13  jQuery;Next.js;Node.js;Phoenix;React.js;Ruby o...                   None   \n",
       "\n",
       "     ToolsTechHaveWorkedWith                      NEWCollabToolsHaveWorkedWith  \n",
       "1                       None                                              None  \n",
       "4                        npm  Notepad++;Visual Studio;Visual Studio Code;Xcode  \n",
       "8                       None                                   Emacs;Notepad++  \n",
       "12                    Docker                                 Vim;Visual Studio  \n",
       "13  Docker;Homebrew;npm;Yarn                                Visual Studio Code  "
      ]
     },
     "execution_count": 114,
     "metadata": {},
     "output_type": "execute_result"
    }
   ],
   "source": [
    "df_filtered.head()"
   ]
  },
  {
   "cell_type": "code",
   "execution_count": 115,
   "metadata": {},
   "outputs": [
    {
     "data": {
      "text/plain": [
       "(18653, 13)"
      ]
     },
     "execution_count": 115,
     "metadata": {},
     "output_type": "execute_result"
    }
   ],
   "source": [
    "df_filtered = df_filtered.dropna()\n",
    "df_filtered.shape"
   ]
  },
  {
   "attachments": {},
   "cell_type": "markdown",
   "metadata": {},
   "source": [
    "filtrer les entrées"
   ]
  },
  {
   "cell_type": "code",
   "execution_count": 116,
   "metadata": {},
   "outputs": [],
   "source": [
    "DevType = [\n",
    "    'Developer, full-stack',\n",
    "    'Academic researcher',\n",
    "    'DevOps specialist',\n",
    "    'Developer, back-end',\n",
    "    'Developer, desktop or enterprise applications',\n",
    "    'Developer, embedded applications or devices',\n",
    "    'Developer, game or graphics',\n",
    "    'Developer, front-end',\n",
    "    'Engineer, data',\n",
    "    'Developer, QA or test',\n",
    "    'Developer, mobile',\n",
    "    'Database administrator',\n",
    "    'Cloud infrastructure engineer',\n",
    "    'Data or business analyst',\n",
    "    'Designer',\n",
    "    'Marketing or sales professional',\n",
    "    'Data scientist or machine learning specialist',\n",
    "    'Security professional',\n",
    "    'Project manager',\n",
    "    'Senior Executive (C-Suite, VP, etc.)',\n",
    "    'Engineering manager',\n",
    "    'System administrator',\n",
    "    'Scientist',\n",
    "    'Product manager',\n",
    "    'Engineer, site reliability',\n",
    "    'Educator',\n",
    "    'Other (please specify):',\n",
    "    'Blockchain',\n",
    "    'Student'\n",
    "]\n",
    "\n",
    "Employment = [\n",
    "    'Employed, full-time',\n",
    "    'Student, full-time',\n",
    "    'Student, part-time',\n",
    "    'Not employed, but looking for work',\n",
    "    'Independent contractor, freelancer, or self-employed',\n",
    "    'Employed, part-time',\n",
    "    'Not employed, and not looking for work',\n",
    "    'Retired',\n",
    "    'I prefer not to say',\n",
    "]\n",
    "\n",
    "EdLevel = [\n",
    "    \"Master\",\n",
    "    \"Bachelor\",\n",
    "    'Gymnasium',\n",
    "    'University study without earning a degree',\n",
    "    'Something else',\n",
    "    'Elementary school',\n",
    "    'Ph.D.',\n",
    "    'Associate degree',\n",
    "    'Professional degree'\n",
    "]\n",
    "\n",
    "Age = [\n",
    "    'Under 18 years old',\n",
    "    '18-24 years old',\n",
    "    '25-34 years old',\n",
    "    '35-44 years old',\n",
    "    '45-54 years old',\n",
    "    '55-64 years old',\n",
    "    '65 years or older',\n",
    "    'Prefer not to say'\n",
    "]\n"
   ]
  },
  {
   "attachments": {},
   "cell_type": "markdown",
   "metadata": {},
   "source": [
    "pour chacune des entrées, tester nombre de lignes qui contient cette entrée et ne garder dans les choix que les colonnes qui contiennent cette entrée"
   ]
  },
  {
   "cell_type": "code",
   "execution_count": 117,
   "metadata": {},
   "outputs": [],
   "source": [
    "def countLinesByCategory(data, col_name, col_categories):\n",
    "    return {cat:filter_multicat(data,col_name,cat).shape[0] for cat in col_categories}"
   ]
  },
  {
   "cell_type": "code",
   "execution_count": 118,
   "metadata": {},
   "outputs": [
    {
     "name": "stderr",
     "output_type": "stream",
     "text": [
      "C:\\Users\\AnneSo\\AppData\\Local\\Temp\\ipykernel_22296\\4175930426.py:2: UserWarning:\n",
      "\n",
      "This pattern is interpreted as a regular expression, and has match groups. To actually get the groups, use str.extract.\n",
      "\n"
     ]
    }
   ],
   "source": [
    "def testColumnCategories(df, col_name, col_categories: list):\n",
    "    res = countLinesByCategory(df, col_name, col_categories)\n",
    "\n",
    "    for cat in res.keys():\n",
    "        if res[cat] == 0:\n",
    "            col_categories.remove(cat)\n",
    "\n",
    "testColumnCategories(df_filtered, 'DevType', DevType)\n",
    "testColumnCategories(df_filtered, 'EdLevel', EdLevel)\n",
    "testColumnCategories(df_filtered, 'Employment', Employment)\n",
    "testColumnCategories(df_filtered, 'Age', Age)"
   ]
  },
  {
   "cell_type": "code",
   "execution_count": 119,
   "metadata": {},
   "outputs": [
    {
     "data": {
      "text/plain": [
       "Index(['EdLevel', 'DevType', 'Employment', 'Age', 'CompTotal', 'YearsCodePro',\n",
       "       'LanguageHaveWorkedWith', 'DatabaseHaveWorkedWith',\n",
       "       'PlatformHaveWorkedWith', 'WebframeHaveWorkedWith',\n",
       "       'MiscTechHaveWorkedWith', 'ToolsTechHaveWorkedWith',\n",
       "       'NEWCollabToolsHaveWorkedWith'],\n",
       "      dtype='object')"
      ]
     },
     "execution_count": 119,
     "metadata": {},
     "output_type": "execute_result"
    }
   ],
   "source": [
    "df_filtered.columns"
   ]
  },
  {
   "attachments": {},
   "cell_type": "markdown",
   "metadata": {},
   "source": [
    "enregistrer le CSV filtré"
   ]
  },
  {
   "cell_type": "code",
   "execution_count": 126,
   "metadata": {},
   "outputs": [],
   "source": [
    "df_filtered.to_csv('app/tech_data.csv')"
   ]
  },
  {
   "attachments": {},
   "cell_type": "markdown",
   "metadata": {},
   "source": [
    "récupérer les sorties à partir des entrées"
   ]
  },
  {
   "cell_type": "code",
   "execution_count": 121,
   "metadata": {},
   "outputs": [],
   "source": [
    "def aggregate(data, outputName):\n",
    "    output = {'techs':tech_values[outputName], 'CompTotal':[], 'YearsCodePro':[], 'Number':[] }\n",
    "    for tech_type in output['techs']:\n",
    "        #print(tech_type)\n",
    "        df = filter_multicat(data, outputName, tech_type)\n",
    "        output['CompTotal'].append(df['CompTotal'].median())\n",
    "        output['YearsCodePro'].append(df['YearsCodePro'].median())\n",
    "        output['Number'].append(len(df))\n",
    "    return pd.DataFrame(output)"
   ]
  },
  {
   "cell_type": "code",
   "execution_count": 122,
   "metadata": {},
   "outputs": [],
   "source": [
    "def getOutput(data, devType, edLevel, employment, age, outputName):\n",
    "    df = data\n",
    "    df = filter_multicat(df,'DevType',devType)\n",
    "    df = filter_multicat(df,'EdLevel',edLevel)\n",
    "    df = filter_multicat(df,'Employment',employment)\n",
    "    df = filter_multicat(df,'Age', age)\n",
    "    # il faut calculer salaire moyen et nb années exp moyen\n",
    "    return aggregate(df, outputName)"
   ]
  },
  {
   "cell_type": "code",
   "execution_count": 123,
   "metadata": {},
   "outputs": [
    {
     "data": {
      "text/html": [
       "<div>\n",
       "<style scoped>\n",
       "    .dataframe tbody tr th:only-of-type {\n",
       "        vertical-align: middle;\n",
       "    }\n",
       "\n",
       "    .dataframe tbody tr th {\n",
       "        vertical-align: top;\n",
       "    }\n",
       "\n",
       "    .dataframe thead th {\n",
       "        text-align: right;\n",
       "    }\n",
       "</style>\n",
       "<table border=\"1\" class=\"dataframe\">\n",
       "  <thead>\n",
       "    <tr style=\"text-align: right;\">\n",
       "      <th></th>\n",
       "      <th>techs</th>\n",
       "      <th>CompTotal</th>\n",
       "      <th>YearsCodePro</th>\n",
       "      <th>Number</th>\n",
       "    </tr>\n",
       "  </thead>\n",
       "  <tbody>\n",
       "    <tr>\n",
       "      <th>0</th>\n",
       "      <td>JavaScript</td>\n",
       "      <td>40750.0</td>\n",
       "      <td>2.0</td>\n",
       "      <td>92</td>\n",
       "    </tr>\n",
       "    <tr>\n",
       "      <th>1</th>\n",
       "      <td>TypeScript</td>\n",
       "      <td>42000.0</td>\n",
       "      <td>2.0</td>\n",
       "      <td>73</td>\n",
       "    </tr>\n",
       "    <tr>\n",
       "      <th>2</th>\n",
       "      <td>C#</td>\n",
       "      <td>40000.0</td>\n",
       "      <td>3.0</td>\n",
       "      <td>29</td>\n",
       "    </tr>\n",
       "    <tr>\n",
       "      <th>3</th>\n",
       "      <td>Cpp</td>\n",
       "      <td>38000.0</td>\n",
       "      <td>2.0</td>\n",
       "      <td>33</td>\n",
       "    </tr>\n",
       "    <tr>\n",
       "      <th>4</th>\n",
       "      <td>HTML/CSS</td>\n",
       "      <td>40000.0</td>\n",
       "      <td>2.0</td>\n",
       "      <td>81</td>\n",
       "    </tr>\n",
       "    <tr>\n",
       "      <th>5</th>\n",
       "      <td>Python</td>\n",
       "      <td>46000.0</td>\n",
       "      <td>2.0</td>\n",
       "      <td>63</td>\n",
       "    </tr>\n",
       "    <tr>\n",
       "      <th>6</th>\n",
       "      <td>SQL</td>\n",
       "      <td>42000.0</td>\n",
       "      <td>2.0</td>\n",
       "      <td>67</td>\n",
       "    </tr>\n",
       "    <tr>\n",
       "      <th>7</th>\n",
       "      <td>Swift</td>\n",
       "      <td>51000.0</td>\n",
       "      <td>4.0</td>\n",
       "      <td>5</td>\n",
       "    </tr>\n",
       "    <tr>\n",
       "      <th>8</th>\n",
       "      <td>Lua</td>\n",
       "      <td>16545.0</td>\n",
       "      <td>1.0</td>\n",
       "      <td>2</td>\n",
       "    </tr>\n",
       "    <tr>\n",
       "      <th>9</th>\n",
       "      <td>PHP</td>\n",
       "      <td>40000.0</td>\n",
       "      <td>2.5</td>\n",
       "      <td>34</td>\n",
       "    </tr>\n",
       "    <tr>\n",
       "      <th>10</th>\n",
       "      <td>C</td>\n",
       "      <td>41750.0</td>\n",
       "      <td>2.0</td>\n",
       "      <td>98</td>\n",
       "    </tr>\n",
       "    <tr>\n",
       "      <th>11</th>\n",
       "      <td>Java</td>\n",
       "      <td>40000.0</td>\n",
       "      <td>2.0</td>\n",
       "      <td>100</td>\n",
       "    </tr>\n",
       "    <tr>\n",
       "      <th>13</th>\n",
       "      <td>Bash/Shell</td>\n",
       "      <td>42000.0</td>\n",
       "      <td>2.0</td>\n",
       "      <td>42</td>\n",
       "    </tr>\n",
       "    <tr>\n",
       "      <th>14</th>\n",
       "      <td>PowerShell</td>\n",
       "      <td>35000.0</td>\n",
       "      <td>2.0</td>\n",
       "      <td>13</td>\n",
       "    </tr>\n",
       "    <tr>\n",
       "      <th>15</th>\n",
       "      <td>Rust</td>\n",
       "      <td>37250.0</td>\n",
       "      <td>1.5</td>\n",
       "      <td>12</td>\n",
       "    </tr>\n",
       "    <tr>\n",
       "      <th>16</th>\n",
       "      <td>Elixir</td>\n",
       "      <td>21800.0</td>\n",
       "      <td>4.5</td>\n",
       "      <td>2</td>\n",
       "    </tr>\n",
       "    <tr>\n",
       "      <th>17</th>\n",
       "      <td>Erlang</td>\n",
       "      <td>1100.0</td>\n",
       "      <td>5.0</td>\n",
       "      <td>1</td>\n",
       "    </tr>\n",
       "    <tr>\n",
       "      <th>18</th>\n",
       "      <td>Ruby</td>\n",
       "      <td>27100.0</td>\n",
       "      <td>0.0</td>\n",
       "      <td>4</td>\n",
       "    </tr>\n",
       "    <tr>\n",
       "      <th>19</th>\n",
       "      <td>R</td>\n",
       "      <td>38000.0</td>\n",
       "      <td>2.0</td>\n",
       "      <td>19</td>\n",
       "    </tr>\n",
       "    <tr>\n",
       "      <th>20</th>\n",
       "      <td>Scala</td>\n",
       "      <td>48500.0</td>\n",
       "      <td>2.0</td>\n",
       "      <td>6</td>\n",
       "    </tr>\n",
       "    <tr>\n",
       "      <th>21</th>\n",
       "      <td>VBA</td>\n",
       "      <td>24000.0</td>\n",
       "      <td>5.0</td>\n",
       "      <td>1</td>\n",
       "    </tr>\n",
       "    <tr>\n",
       "      <th>22</th>\n",
       "      <td>Dart</td>\n",
       "      <td>38000.0</td>\n",
       "      <td>2.5</td>\n",
       "      <td>8</td>\n",
       "    </tr>\n",
       "    <tr>\n",
       "      <th>23</th>\n",
       "      <td>Go</td>\n",
       "      <td>72500.0</td>\n",
       "      <td>2.0</td>\n",
       "      <td>14</td>\n",
       "    </tr>\n",
       "    <tr>\n",
       "      <th>24</th>\n",
       "      <td>Kotlin</td>\n",
       "      <td>38000.0</td>\n",
       "      <td>2.0</td>\n",
       "      <td>11</td>\n",
       "    </tr>\n",
       "    <tr>\n",
       "      <th>25</th>\n",
       "      <td>Groovy</td>\n",
       "      <td>33000.0</td>\n",
       "      <td>2.0</td>\n",
       "      <td>3</td>\n",
       "    </tr>\n",
       "    <tr>\n",
       "      <th>26</th>\n",
       "      <td>MATLAB</td>\n",
       "      <td>104000.0</td>\n",
       "      <td>1.0</td>\n",
       "      <td>3</td>\n",
       "    </tr>\n",
       "    <tr>\n",
       "      <th>28</th>\n",
       "      <td>Haskell</td>\n",
       "      <td>42500.0</td>\n",
       "      <td>4.0</td>\n",
       "      <td>3</td>\n",
       "    </tr>\n",
       "    <tr>\n",
       "      <th>29</th>\n",
       "      <td>Julia</td>\n",
       "      <td>80000.0</td>\n",
       "      <td>1.0</td>\n",
       "      <td>2</td>\n",
       "    </tr>\n",
       "    <tr>\n",
       "      <th>31</th>\n",
       "      <td>Assembly</td>\n",
       "      <td>42500.0</td>\n",
       "      <td>3.0</td>\n",
       "      <td>5</td>\n",
       "    </tr>\n",
       "    <tr>\n",
       "      <th>32</th>\n",
       "      <td>F#</td>\n",
       "      <td>39000.0</td>\n",
       "      <td>3.0</td>\n",
       "      <td>1</td>\n",
       "    </tr>\n",
       "    <tr>\n",
       "      <th>33</th>\n",
       "      <td>Clojure</td>\n",
       "      <td>36000.0</td>\n",
       "      <td>1.0</td>\n",
       "      <td>1</td>\n",
       "    </tr>\n",
       "    <tr>\n",
       "      <th>36</th>\n",
       "      <td>Fortran</td>\n",
       "      <td>104000.0</td>\n",
       "      <td>0.0</td>\n",
       "      <td>1</td>\n",
       "    </tr>\n",
       "    <tr>\n",
       "      <th>39</th>\n",
       "      <td>OCaml</td>\n",
       "      <td>106250.0</td>\n",
       "      <td>4.5</td>\n",
       "      <td>2</td>\n",
       "    </tr>\n",
       "    <tr>\n",
       "      <th>40</th>\n",
       "      <td>Solidity</td>\n",
       "      <td>45000.0</td>\n",
       "      <td>2.0</td>\n",
       "      <td>3</td>\n",
       "    </tr>\n",
       "  </tbody>\n",
       "</table>\n",
       "</div>"
      ],
      "text/plain": [
       "         techs  CompTotal  YearsCodePro  Number\n",
       "0   JavaScript    40750.0           2.0      92\n",
       "1   TypeScript    42000.0           2.0      73\n",
       "2           C#    40000.0           3.0      29\n",
       "3          Cpp    38000.0           2.0      33\n",
       "4     HTML/CSS    40000.0           2.0      81\n",
       "5       Python    46000.0           2.0      63\n",
       "6          SQL    42000.0           2.0      67\n",
       "7        Swift    51000.0           4.0       5\n",
       "8          Lua    16545.0           1.0       2\n",
       "9          PHP    40000.0           2.5      34\n",
       "10           C    41750.0           2.0      98\n",
       "11        Java    40000.0           2.0     100\n",
       "13  Bash/Shell    42000.0           2.0      42\n",
       "14  PowerShell    35000.0           2.0      13\n",
       "15        Rust    37250.0           1.5      12\n",
       "16      Elixir    21800.0           4.5       2\n",
       "17      Erlang     1100.0           5.0       1\n",
       "18        Ruby    27100.0           0.0       4\n",
       "19           R    38000.0           2.0      19\n",
       "20       Scala    48500.0           2.0       6\n",
       "21         VBA    24000.0           5.0       1\n",
       "22        Dart    38000.0           2.5       8\n",
       "23          Go    72500.0           2.0      14\n",
       "24      Kotlin    38000.0           2.0      11\n",
       "25      Groovy    33000.0           2.0       3\n",
       "26      MATLAB   104000.0           1.0       3\n",
       "28     Haskell    42500.0           4.0       3\n",
       "29       Julia    80000.0           1.0       2\n",
       "31    Assembly    42500.0           3.0       5\n",
       "32          F#    39000.0           3.0       1\n",
       "33     Clojure    36000.0           1.0       1\n",
       "36     Fortran   104000.0           0.0       1\n",
       "39       OCaml   106250.0           4.5       2\n",
       "40    Solidity    45000.0           2.0       3"
      ]
     },
     "execution_count": 123,
     "metadata": {},
     "output_type": "execute_result"
    }
   ],
   "source": [
    "a = getOutput(df_filtered, DevType[0], EdLevel[0], Employment[0], Age[1], 'LanguageHaveWorkedWith')\n",
    "a.dropna()"
   ]
  },
  {
   "attachments": {},
   "cell_type": "markdown",
   "metadata": {},
   "source": [
    "test d'affichage"
   ]
  },
  {
   "cell_type": "code",
   "execution_count": 124,
   "metadata": {},
   "outputs": [
    {
     "data": {
      "application/vnd.plotly.v1+json": {
       "config": {
        "plotlyServerURL": "https://plot.ly"
       },
       "data": [
        {
         "hovertemplate": "<b>%{hovertext}</b><br><br>YearsCodePro=%{x}<br>CompTotal=%{y}<br>Number=%{marker.size}<extra></extra>",
         "hovertext": [
          "JavaScript",
          "TypeScript",
          "C#",
          "Cpp",
          "HTML/CSS",
          "Python",
          "SQL",
          "Swift",
          "Lua",
          "PHP",
          "C",
          "Java",
          "Delphi",
          "Bash/Shell",
          "PowerShell",
          "Rust",
          "Elixir",
          "Erlang",
          "Ruby",
          "R",
          "Scala",
          "VBA",
          "Dart",
          "Go",
          "Kotlin",
          "Groovy",
          "MATLAB",
          "Perl",
          "Haskell",
          "Julia",
          "LISP",
          "Assembly",
          "F#",
          "Clojure",
          "APL",
          "Crystal",
          "Fortran",
          "Objective-C",
          "SAS",
          "OCaml",
          "Solidity",
          "COBOL"
         ],
         "legendgroup": "",
         "marker": {
          "color": "#636efa",
          "size": [
           92,
           73,
           29,
           33,
           81,
           63,
           67,
           5,
           2,
           34,
           98,
           100,
           0,
           42,
           13,
           12,
           2,
           1,
           4,
           19,
           6,
           1,
           8,
           14,
           11,
           3,
           3,
           0,
           3,
           2,
           0,
           5,
           1,
           1,
           0,
           0,
           1,
           0,
           0,
           2,
           3,
           0
          ],
          "sizemode": "area",
          "sizeref": 0.1111111111111111,
          "symbol": "circle"
         },
         "mode": "markers",
         "name": "",
         "orientation": "v",
         "showlegend": false,
         "type": "scatter",
         "x": [
          2,
          2,
          3,
          2,
          2,
          2,
          2,
          4,
          1,
          2.5,
          2,
          2,
          null,
          2,
          2,
          1.5,
          4.5,
          5,
          0,
          2,
          2,
          5,
          2.5,
          2,
          2,
          2,
          1,
          null,
          4,
          1,
          null,
          3,
          3,
          1,
          null,
          null,
          0,
          null,
          null,
          4.5,
          2,
          null
         ],
         "xaxis": "x",
         "y": [
          40750,
          42000,
          40000,
          38000,
          40000,
          46000,
          42000,
          51000,
          16545,
          40000,
          41750,
          40000,
          null,
          42000,
          35000,
          37250,
          21800,
          1100,
          27100,
          38000,
          48500,
          24000,
          38000,
          72500,
          38000,
          33000,
          104000,
          null,
          42500,
          80000,
          null,
          42500,
          39000,
          36000,
          null,
          null,
          104000,
          null,
          null,
          106250,
          45000,
          null
         ],
         "yaxis": "y"
        }
       ],
       "layout": {
        "legend": {
         "itemsizing": "constant",
         "tracegroupgap": 0
        },
        "margin": {
         "t": 60
        },
        "template": {
         "data": {
          "bar": [
           {
            "error_x": {
             "color": "#2a3f5f"
            },
            "error_y": {
             "color": "#2a3f5f"
            },
            "marker": {
             "line": {
              "color": "#E5ECF6",
              "width": 0.5
             },
             "pattern": {
              "fillmode": "overlay",
              "size": 10,
              "solidity": 0.2
             }
            },
            "type": "bar"
           }
          ],
          "barpolar": [
           {
            "marker": {
             "line": {
              "color": "#E5ECF6",
              "width": 0.5
             },
             "pattern": {
              "fillmode": "overlay",
              "size": 10,
              "solidity": 0.2
             }
            },
            "type": "barpolar"
           }
          ],
          "carpet": [
           {
            "aaxis": {
             "endlinecolor": "#2a3f5f",
             "gridcolor": "white",
             "linecolor": "white",
             "minorgridcolor": "white",
             "startlinecolor": "#2a3f5f"
            },
            "baxis": {
             "endlinecolor": "#2a3f5f",
             "gridcolor": "white",
             "linecolor": "white",
             "minorgridcolor": "white",
             "startlinecolor": "#2a3f5f"
            },
            "type": "carpet"
           }
          ],
          "choropleth": [
           {
            "colorbar": {
             "outlinewidth": 0,
             "ticks": ""
            },
            "type": "choropleth"
           }
          ],
          "contour": [
           {
            "colorbar": {
             "outlinewidth": 0,
             "ticks": ""
            },
            "colorscale": [
             [
              0,
              "#0d0887"
             ],
             [
              0.1111111111111111,
              "#46039f"
             ],
             [
              0.2222222222222222,
              "#7201a8"
             ],
             [
              0.3333333333333333,
              "#9c179e"
             ],
             [
              0.4444444444444444,
              "#bd3786"
             ],
             [
              0.5555555555555556,
              "#d8576b"
             ],
             [
              0.6666666666666666,
              "#ed7953"
             ],
             [
              0.7777777777777778,
              "#fb9f3a"
             ],
             [
              0.8888888888888888,
              "#fdca26"
             ],
             [
              1,
              "#f0f921"
             ]
            ],
            "type": "contour"
           }
          ],
          "contourcarpet": [
           {
            "colorbar": {
             "outlinewidth": 0,
             "ticks": ""
            },
            "type": "contourcarpet"
           }
          ],
          "heatmap": [
           {
            "colorbar": {
             "outlinewidth": 0,
             "ticks": ""
            },
            "colorscale": [
             [
              0,
              "#0d0887"
             ],
             [
              0.1111111111111111,
              "#46039f"
             ],
             [
              0.2222222222222222,
              "#7201a8"
             ],
             [
              0.3333333333333333,
              "#9c179e"
             ],
             [
              0.4444444444444444,
              "#bd3786"
             ],
             [
              0.5555555555555556,
              "#d8576b"
             ],
             [
              0.6666666666666666,
              "#ed7953"
             ],
             [
              0.7777777777777778,
              "#fb9f3a"
             ],
             [
              0.8888888888888888,
              "#fdca26"
             ],
             [
              1,
              "#f0f921"
             ]
            ],
            "type": "heatmap"
           }
          ],
          "heatmapgl": [
           {
            "colorbar": {
             "outlinewidth": 0,
             "ticks": ""
            },
            "colorscale": [
             [
              0,
              "#0d0887"
             ],
             [
              0.1111111111111111,
              "#46039f"
             ],
             [
              0.2222222222222222,
              "#7201a8"
             ],
             [
              0.3333333333333333,
              "#9c179e"
             ],
             [
              0.4444444444444444,
              "#bd3786"
             ],
             [
              0.5555555555555556,
              "#d8576b"
             ],
             [
              0.6666666666666666,
              "#ed7953"
             ],
             [
              0.7777777777777778,
              "#fb9f3a"
             ],
             [
              0.8888888888888888,
              "#fdca26"
             ],
             [
              1,
              "#f0f921"
             ]
            ],
            "type": "heatmapgl"
           }
          ],
          "histogram": [
           {
            "marker": {
             "pattern": {
              "fillmode": "overlay",
              "size": 10,
              "solidity": 0.2
             }
            },
            "type": "histogram"
           }
          ],
          "histogram2d": [
           {
            "colorbar": {
             "outlinewidth": 0,
             "ticks": ""
            },
            "colorscale": [
             [
              0,
              "#0d0887"
             ],
             [
              0.1111111111111111,
              "#46039f"
             ],
             [
              0.2222222222222222,
              "#7201a8"
             ],
             [
              0.3333333333333333,
              "#9c179e"
             ],
             [
              0.4444444444444444,
              "#bd3786"
             ],
             [
              0.5555555555555556,
              "#d8576b"
             ],
             [
              0.6666666666666666,
              "#ed7953"
             ],
             [
              0.7777777777777778,
              "#fb9f3a"
             ],
             [
              0.8888888888888888,
              "#fdca26"
             ],
             [
              1,
              "#f0f921"
             ]
            ],
            "type": "histogram2d"
           }
          ],
          "histogram2dcontour": [
           {
            "colorbar": {
             "outlinewidth": 0,
             "ticks": ""
            },
            "colorscale": [
             [
              0,
              "#0d0887"
             ],
             [
              0.1111111111111111,
              "#46039f"
             ],
             [
              0.2222222222222222,
              "#7201a8"
             ],
             [
              0.3333333333333333,
              "#9c179e"
             ],
             [
              0.4444444444444444,
              "#bd3786"
             ],
             [
              0.5555555555555556,
              "#d8576b"
             ],
             [
              0.6666666666666666,
              "#ed7953"
             ],
             [
              0.7777777777777778,
              "#fb9f3a"
             ],
             [
              0.8888888888888888,
              "#fdca26"
             ],
             [
              1,
              "#f0f921"
             ]
            ],
            "type": "histogram2dcontour"
           }
          ],
          "mesh3d": [
           {
            "colorbar": {
             "outlinewidth": 0,
             "ticks": ""
            },
            "type": "mesh3d"
           }
          ],
          "parcoords": [
           {
            "line": {
             "colorbar": {
              "outlinewidth": 0,
              "ticks": ""
             }
            },
            "type": "parcoords"
           }
          ],
          "pie": [
           {
            "automargin": true,
            "type": "pie"
           }
          ],
          "scatter": [
           {
            "fillpattern": {
             "fillmode": "overlay",
             "size": 10,
             "solidity": 0.2
            },
            "type": "scatter"
           }
          ],
          "scatter3d": [
           {
            "line": {
             "colorbar": {
              "outlinewidth": 0,
              "ticks": ""
             }
            },
            "marker": {
             "colorbar": {
              "outlinewidth": 0,
              "ticks": ""
             }
            },
            "type": "scatter3d"
           }
          ],
          "scattercarpet": [
           {
            "marker": {
             "colorbar": {
              "outlinewidth": 0,
              "ticks": ""
             }
            },
            "type": "scattercarpet"
           }
          ],
          "scattergeo": [
           {
            "marker": {
             "colorbar": {
              "outlinewidth": 0,
              "ticks": ""
             }
            },
            "type": "scattergeo"
           }
          ],
          "scattergl": [
           {
            "marker": {
             "colorbar": {
              "outlinewidth": 0,
              "ticks": ""
             }
            },
            "type": "scattergl"
           }
          ],
          "scattermapbox": [
           {
            "marker": {
             "colorbar": {
              "outlinewidth": 0,
              "ticks": ""
             }
            },
            "type": "scattermapbox"
           }
          ],
          "scatterpolar": [
           {
            "marker": {
             "colorbar": {
              "outlinewidth": 0,
              "ticks": ""
             }
            },
            "type": "scatterpolar"
           }
          ],
          "scatterpolargl": [
           {
            "marker": {
             "colorbar": {
              "outlinewidth": 0,
              "ticks": ""
             }
            },
            "type": "scatterpolargl"
           }
          ],
          "scatterternary": [
           {
            "marker": {
             "colorbar": {
              "outlinewidth": 0,
              "ticks": ""
             }
            },
            "type": "scatterternary"
           }
          ],
          "surface": [
           {
            "colorbar": {
             "outlinewidth": 0,
             "ticks": ""
            },
            "colorscale": [
             [
              0,
              "#0d0887"
             ],
             [
              0.1111111111111111,
              "#46039f"
             ],
             [
              0.2222222222222222,
              "#7201a8"
             ],
             [
              0.3333333333333333,
              "#9c179e"
             ],
             [
              0.4444444444444444,
              "#bd3786"
             ],
             [
              0.5555555555555556,
              "#d8576b"
             ],
             [
              0.6666666666666666,
              "#ed7953"
             ],
             [
              0.7777777777777778,
              "#fb9f3a"
             ],
             [
              0.8888888888888888,
              "#fdca26"
             ],
             [
              1,
              "#f0f921"
             ]
            ],
            "type": "surface"
           }
          ],
          "table": [
           {
            "cells": {
             "fill": {
              "color": "#EBF0F8"
             },
             "line": {
              "color": "white"
             }
            },
            "header": {
             "fill": {
              "color": "#C8D4E3"
             },
             "line": {
              "color": "white"
             }
            },
            "type": "table"
           }
          ]
         },
         "layout": {
          "annotationdefaults": {
           "arrowcolor": "#2a3f5f",
           "arrowhead": 0,
           "arrowwidth": 1
          },
          "autotypenumbers": "strict",
          "coloraxis": {
           "colorbar": {
            "outlinewidth": 0,
            "ticks": ""
           }
          },
          "colorscale": {
           "diverging": [
            [
             0,
             "#8e0152"
            ],
            [
             0.1,
             "#c51b7d"
            ],
            [
             0.2,
             "#de77ae"
            ],
            [
             0.3,
             "#f1b6da"
            ],
            [
             0.4,
             "#fde0ef"
            ],
            [
             0.5,
             "#f7f7f7"
            ],
            [
             0.6,
             "#e6f5d0"
            ],
            [
             0.7,
             "#b8e186"
            ],
            [
             0.8,
             "#7fbc41"
            ],
            [
             0.9,
             "#4d9221"
            ],
            [
             1,
             "#276419"
            ]
           ],
           "sequential": [
            [
             0,
             "#0d0887"
            ],
            [
             0.1111111111111111,
             "#46039f"
            ],
            [
             0.2222222222222222,
             "#7201a8"
            ],
            [
             0.3333333333333333,
             "#9c179e"
            ],
            [
             0.4444444444444444,
             "#bd3786"
            ],
            [
             0.5555555555555556,
             "#d8576b"
            ],
            [
             0.6666666666666666,
             "#ed7953"
            ],
            [
             0.7777777777777778,
             "#fb9f3a"
            ],
            [
             0.8888888888888888,
             "#fdca26"
            ],
            [
             1,
             "#f0f921"
            ]
           ],
           "sequentialminus": [
            [
             0,
             "#0d0887"
            ],
            [
             0.1111111111111111,
             "#46039f"
            ],
            [
             0.2222222222222222,
             "#7201a8"
            ],
            [
             0.3333333333333333,
             "#9c179e"
            ],
            [
             0.4444444444444444,
             "#bd3786"
            ],
            [
             0.5555555555555556,
             "#d8576b"
            ],
            [
             0.6666666666666666,
             "#ed7953"
            ],
            [
             0.7777777777777778,
             "#fb9f3a"
            ],
            [
             0.8888888888888888,
             "#fdca26"
            ],
            [
             1,
             "#f0f921"
            ]
           ]
          },
          "colorway": [
           "#636efa",
           "#EF553B",
           "#00cc96",
           "#ab63fa",
           "#FFA15A",
           "#19d3f3",
           "#FF6692",
           "#B6E880",
           "#FF97FF",
           "#FECB52"
          ],
          "font": {
           "color": "#2a3f5f"
          },
          "geo": {
           "bgcolor": "white",
           "lakecolor": "white",
           "landcolor": "#E5ECF6",
           "showlakes": true,
           "showland": true,
           "subunitcolor": "white"
          },
          "hoverlabel": {
           "align": "left"
          },
          "hovermode": "closest",
          "mapbox": {
           "style": "light"
          },
          "paper_bgcolor": "white",
          "plot_bgcolor": "#E5ECF6",
          "polar": {
           "angularaxis": {
            "gridcolor": "white",
            "linecolor": "white",
            "ticks": ""
           },
           "bgcolor": "#E5ECF6",
           "radialaxis": {
            "gridcolor": "white",
            "linecolor": "white",
            "ticks": ""
           }
          },
          "scene": {
           "xaxis": {
            "backgroundcolor": "#E5ECF6",
            "gridcolor": "white",
            "gridwidth": 2,
            "linecolor": "white",
            "showbackground": true,
            "ticks": "",
            "zerolinecolor": "white"
           },
           "yaxis": {
            "backgroundcolor": "#E5ECF6",
            "gridcolor": "white",
            "gridwidth": 2,
            "linecolor": "white",
            "showbackground": true,
            "ticks": "",
            "zerolinecolor": "white"
           },
           "zaxis": {
            "backgroundcolor": "#E5ECF6",
            "gridcolor": "white",
            "gridwidth": 2,
            "linecolor": "white",
            "showbackground": true,
            "ticks": "",
            "zerolinecolor": "white"
           }
          },
          "shapedefaults": {
           "line": {
            "color": "#2a3f5f"
           }
          },
          "ternary": {
           "aaxis": {
            "gridcolor": "white",
            "linecolor": "white",
            "ticks": ""
           },
           "baxis": {
            "gridcolor": "white",
            "linecolor": "white",
            "ticks": ""
           },
           "bgcolor": "#E5ECF6",
           "caxis": {
            "gridcolor": "white",
            "linecolor": "white",
            "ticks": ""
           }
          },
          "title": {
           "x": 0.05
          },
          "xaxis": {
           "automargin": true,
           "gridcolor": "white",
           "linecolor": "white",
           "ticks": "",
           "title": {
            "standoff": 15
           },
           "zerolinecolor": "white",
           "zerolinewidth": 2
          },
          "yaxis": {
           "automargin": true,
           "gridcolor": "white",
           "linecolor": "white",
           "ticks": "",
           "title": {
            "standoff": 15
           },
           "zerolinecolor": "white",
           "zerolinewidth": 2
          }
         }
        },
        "xaxis": {
         "anchor": "y",
         "domain": [
          0,
          1
         ],
         "title": {
          "text": "YearsCodePro"
         }
        },
        "yaxis": {
         "anchor": "x",
         "domain": [
          0,
          1
         ],
         "title": {
          "text": "CompTotal"
         }
        }
       }
      }
     },
     "metadata": {},
     "output_type": "display_data"
    }
   ],
   "source": [
    "import plotly.express as px\n",
    "\n",
    "fig = px.scatter(a, x=\"YearsCodePro\", y=\"CompTotal\",\n",
    "                 hover_name=\"techs\", size='Number',\n",
    "                 log_x=False, size_max=30)\n",
    "fig"
   ]
  }
 ],
 "metadata": {
  "kernelspec": {
   "display_name": "Python 3",
   "language": "python",
   "name": "python3"
  },
  "language_info": {
   "codemirror_mode": {
    "name": "ipython",
    "version": 3
   },
   "file_extension": ".py",
   "mimetype": "text/x-python",
   "name": "python",
   "nbconvert_exporter": "python",
   "pygments_lexer": "ipython3",
   "version": "3.10.8"
  },
  "orig_nbformat": 4,
  "vscode": {
   "interpreter": {
    "hash": "811a7362ed9f666189841f0798f909cd2b4bf640e24017338d8fe21f8e275376"
   }
  }
 },
 "nbformat": 4,
 "nbformat_minor": 2
}
