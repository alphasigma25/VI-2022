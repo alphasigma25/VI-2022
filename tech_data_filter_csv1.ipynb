{
 "cells": [
  {
   "cell_type": "code",
   "execution_count": 1,
   "metadata": {},
   "outputs": [],
   "source": [
    "import numpy as np\n",
    "import pandas as pd"
   ]
  },
  {
   "cell_type": "code",
   "execution_count": 2,
   "metadata": {},
   "outputs": [
    {
     "data": {
      "text/html": [
       "<div>\n",
       "<style scoped>\n",
       "    .dataframe tbody tr th:only-of-type {\n",
       "        vertical-align: middle;\n",
       "    }\n",
       "\n",
       "    .dataframe tbody tr th {\n",
       "        vertical-align: top;\n",
       "    }\n",
       "\n",
       "    .dataframe thead th {\n",
       "        text-align: right;\n",
       "    }\n",
       "</style>\n",
       "<table border=\"1\" class=\"dataframe\">\n",
       "  <thead>\n",
       "    <tr style=\"text-align: right;\">\n",
       "      <th></th>\n",
       "      <th>ResponseId</th>\n",
       "      <th>MainBranch</th>\n",
       "      <th>Employment</th>\n",
       "      <th>RemoteWork</th>\n",
       "      <th>CodingActivities</th>\n",
       "      <th>EdLevel</th>\n",
       "      <th>LearnCode</th>\n",
       "      <th>LearnCodeOnline</th>\n",
       "      <th>LearnCodeCoursesCert</th>\n",
       "      <th>YearsCode</th>\n",
       "      <th>...</th>\n",
       "      <th>TimeSearching</th>\n",
       "      <th>TimeAnswering</th>\n",
       "      <th>Onboarding</th>\n",
       "      <th>ProfessionalTech</th>\n",
       "      <th>TrueFalse_1</th>\n",
       "      <th>TrueFalse_2</th>\n",
       "      <th>TrueFalse_3</th>\n",
       "      <th>SurveyLength</th>\n",
       "      <th>SurveyEase</th>\n",
       "      <th>ConvertedCompYearly</th>\n",
       "    </tr>\n",
       "  </thead>\n",
       "  <tbody>\n",
       "    <tr>\n",
       "      <th>0</th>\n",
       "      <td>1</td>\n",
       "      <td>None of these</td>\n",
       "      <td>NaN</td>\n",
       "      <td>NaN</td>\n",
       "      <td>NaN</td>\n",
       "      <td>NaN</td>\n",
       "      <td>NaN</td>\n",
       "      <td>NaN</td>\n",
       "      <td>NaN</td>\n",
       "      <td>NaN</td>\n",
       "      <td>...</td>\n",
       "      <td>NaN</td>\n",
       "      <td>NaN</td>\n",
       "      <td>NaN</td>\n",
       "      <td>NaN</td>\n",
       "      <td>NaN</td>\n",
       "      <td>NaN</td>\n",
       "      <td>NaN</td>\n",
       "      <td>NaN</td>\n",
       "      <td>NaN</td>\n",
       "      <td>NaN</td>\n",
       "    </tr>\n",
       "    <tr>\n",
       "      <th>1</th>\n",
       "      <td>2</td>\n",
       "      <td>I am a developer by profession</td>\n",
       "      <td>Employed, full-time</td>\n",
       "      <td>Fully remote</td>\n",
       "      <td>Hobby;Contribute to open-source projects</td>\n",
       "      <td>NaN</td>\n",
       "      <td>NaN</td>\n",
       "      <td>NaN</td>\n",
       "      <td>NaN</td>\n",
       "      <td>NaN</td>\n",
       "      <td>...</td>\n",
       "      <td>NaN</td>\n",
       "      <td>NaN</td>\n",
       "      <td>NaN</td>\n",
       "      <td>NaN</td>\n",
       "      <td>NaN</td>\n",
       "      <td>NaN</td>\n",
       "      <td>NaN</td>\n",
       "      <td>Too long</td>\n",
       "      <td>Difficult</td>\n",
       "      <td>NaN</td>\n",
       "    </tr>\n",
       "    <tr>\n",
       "      <th>2</th>\n",
       "      <td>3</td>\n",
       "      <td>I am not primarily a developer, but I write co...</td>\n",
       "      <td>Employed, full-time</td>\n",
       "      <td>Hybrid (some remote, some in-person)</td>\n",
       "      <td>Hobby</td>\n",
       "      <td>Master’s degree (M.A., M.S., M.Eng., MBA, etc.)</td>\n",
       "      <td>Books / Physical media;Friend or family member...</td>\n",
       "      <td>Technical documentation;Blogs;Programming Game...</td>\n",
       "      <td>NaN</td>\n",
       "      <td>14</td>\n",
       "      <td>...</td>\n",
       "      <td>NaN</td>\n",
       "      <td>NaN</td>\n",
       "      <td>NaN</td>\n",
       "      <td>NaN</td>\n",
       "      <td>NaN</td>\n",
       "      <td>NaN</td>\n",
       "      <td>NaN</td>\n",
       "      <td>Appropriate in length</td>\n",
       "      <td>Neither easy nor difficult</td>\n",
       "      <td>40205.0</td>\n",
       "    </tr>\n",
       "    <tr>\n",
       "      <th>3</th>\n",
       "      <td>4</td>\n",
       "      <td>I am a developer by profession</td>\n",
       "      <td>Employed, full-time</td>\n",
       "      <td>Fully remote</td>\n",
       "      <td>I don’t code outside of work</td>\n",
       "      <td>Bachelor’s degree (B.A., B.S., B.Eng., etc.)</td>\n",
       "      <td>Books / Physical media;School (i.e., Universit...</td>\n",
       "      <td>NaN</td>\n",
       "      <td>NaN</td>\n",
       "      <td>20</td>\n",
       "      <td>...</td>\n",
       "      <td>NaN</td>\n",
       "      <td>NaN</td>\n",
       "      <td>NaN</td>\n",
       "      <td>NaN</td>\n",
       "      <td>NaN</td>\n",
       "      <td>NaN</td>\n",
       "      <td>NaN</td>\n",
       "      <td>Appropriate in length</td>\n",
       "      <td>Easy</td>\n",
       "      <td>215232.0</td>\n",
       "    </tr>\n",
       "    <tr>\n",
       "      <th>4</th>\n",
       "      <td>5</td>\n",
       "      <td>I am a developer by profession</td>\n",
       "      <td>Employed, full-time</td>\n",
       "      <td>Hybrid (some remote, some in-person)</td>\n",
       "      <td>Hobby</td>\n",
       "      <td>Bachelor’s degree (B.A., B.S., B.Eng., etc.)</td>\n",
       "      <td>Other online resources (e.g., videos, blogs, f...</td>\n",
       "      <td>Technical documentation;Blogs;Stack Overflow;O...</td>\n",
       "      <td>NaN</td>\n",
       "      <td>8</td>\n",
       "      <td>...</td>\n",
       "      <td>NaN</td>\n",
       "      <td>NaN</td>\n",
       "      <td>NaN</td>\n",
       "      <td>NaN</td>\n",
       "      <td>NaN</td>\n",
       "      <td>NaN</td>\n",
       "      <td>NaN</td>\n",
       "      <td>Too long</td>\n",
       "      <td>Easy</td>\n",
       "      <td>NaN</td>\n",
       "    </tr>\n",
       "  </tbody>\n",
       "</table>\n",
       "<p>5 rows × 79 columns</p>\n",
       "</div>"
      ],
      "text/plain": [
       "   ResponseId                                         MainBranch  \\\n",
       "0           1                                      None of these   \n",
       "1           2                     I am a developer by profession   \n",
       "2           3  I am not primarily a developer, but I write co...   \n",
       "3           4                     I am a developer by profession   \n",
       "4           5                     I am a developer by profession   \n",
       "\n",
       "            Employment                            RemoteWork  \\\n",
       "0                  NaN                                   NaN   \n",
       "1  Employed, full-time                          Fully remote   \n",
       "2  Employed, full-time  Hybrid (some remote, some in-person)   \n",
       "3  Employed, full-time                          Fully remote   \n",
       "4  Employed, full-time  Hybrid (some remote, some in-person)   \n",
       "\n",
       "                           CodingActivities  \\\n",
       "0                                       NaN   \n",
       "1  Hobby;Contribute to open-source projects   \n",
       "2                                     Hobby   \n",
       "3              I don’t code outside of work   \n",
       "4                                     Hobby   \n",
       "\n",
       "                                           EdLevel  \\\n",
       "0                                              NaN   \n",
       "1                                              NaN   \n",
       "2  Master’s degree (M.A., M.S., M.Eng., MBA, etc.)   \n",
       "3     Bachelor’s degree (B.A., B.S., B.Eng., etc.)   \n",
       "4     Bachelor’s degree (B.A., B.S., B.Eng., etc.)   \n",
       "\n",
       "                                           LearnCode  \\\n",
       "0                                                NaN   \n",
       "1                                                NaN   \n",
       "2  Books / Physical media;Friend or family member...   \n",
       "3  Books / Physical media;School (i.e., Universit...   \n",
       "4  Other online resources (e.g., videos, blogs, f...   \n",
       "\n",
       "                                     LearnCodeOnline LearnCodeCoursesCert  \\\n",
       "0                                                NaN                  NaN   \n",
       "1                                                NaN                  NaN   \n",
       "2  Technical documentation;Blogs;Programming Game...                  NaN   \n",
       "3                                                NaN                  NaN   \n",
       "4  Technical documentation;Blogs;Stack Overflow;O...                  NaN   \n",
       "\n",
       "  YearsCode  ... TimeSearching TimeAnswering Onboarding ProfessionalTech  \\\n",
       "0       NaN  ...           NaN           NaN        NaN              NaN   \n",
       "1       NaN  ...           NaN           NaN        NaN              NaN   \n",
       "2        14  ...           NaN           NaN        NaN              NaN   \n",
       "3        20  ...           NaN           NaN        NaN              NaN   \n",
       "4         8  ...           NaN           NaN        NaN              NaN   \n",
       "\n",
       "  TrueFalse_1 TrueFalse_2 TrueFalse_3           SurveyLength  \\\n",
       "0         NaN         NaN         NaN                    NaN   \n",
       "1         NaN         NaN         NaN               Too long   \n",
       "2         NaN         NaN         NaN  Appropriate in length   \n",
       "3         NaN         NaN         NaN  Appropriate in length   \n",
       "4         NaN         NaN         NaN               Too long   \n",
       "\n",
       "                   SurveyEase ConvertedCompYearly  \n",
       "0                         NaN                 NaN  \n",
       "1                   Difficult                 NaN  \n",
       "2  Neither easy nor difficult             40205.0  \n",
       "3                        Easy            215232.0  \n",
       "4                        Easy                 NaN  \n",
       "\n",
       "[5 rows x 79 columns]"
      ]
     },
     "execution_count": 2,
     "metadata": {},
     "output_type": "execute_result"
    }
   ],
   "source": [
    "df = pd.read_csv('survey_results_public.csv')\n",
    "df.head()"
   ]
  },
  {
   "cell_type": "code",
   "execution_count": 3,
   "metadata": {},
   "outputs": [
    {
     "data": {
      "text/plain": [
       "(73268, 79)"
      ]
     },
     "execution_count": 3,
     "metadata": {},
     "output_type": "execute_result"
    }
   ],
   "source": [
    "df.shape"
   ]
  },
  {
   "attachments": {},
   "cell_type": "markdown",
   "metadata": {},
   "source": [
    "supprimer les noms trop longs ou avec des caractères spéciaux"
   ]
  },
  {
   "cell_type": "code",
   "execution_count": 4,
   "metadata": {},
   "outputs": [],
   "source": [
    "df['EdLevel'] = df['EdLevel'].replace(to_replace=\"Master’s degree (M.A., M.S., M.Eng., MBA, etc.)\", value='Master')\n",
    "df['EdLevel'] = df['EdLevel'].replace(to_replace=\"Bachelor’s degree (B.A., B.S., B.Eng., etc.)\", value='Bachelor')\n",
    "df['LanguageHaveWorkedWith'] = df['LanguageHaveWorkedWith'].replace(to_replace=\"C\\+\\+\", value='Cpp', regex=True)"
   ]
  },
  {
   "attachments": {},
   "cell_type": "markdown",
   "metadata": {},
   "source": [
    "extraire les bonnes données"
   ]
  },
  {
   "cell_type": "code",
   "execution_count": 5,
   "metadata": {},
   "outputs": [],
   "source": [
    "def filter(df, column, filters):\n",
    "    return df[df[column].isin(filters)]"
   ]
  },
  {
   "cell_type": "code",
   "execution_count": 6,
   "metadata": {},
   "outputs": [],
   "source": [
    "countries = [\n",
    "    'United States of America',\n",
    "    'Switzerland',\n",
    "    'United Kingdom of Great Britain and Northern Ireland',\n",
    "    'France',\n",
    "    'Germany',\n",
    "    'Netherlands',\n",
    "    'Spain',\n",
    "    'Italy',\n",
    "    'Austria',\n",
    "    'Italy',\n",
    "    'Canada',\n",
    "    'Ireland',\n",
    "    'Sweden',\n",
    "    'Norway',\n",
    "    'Australia',\n",
    "    'Denmark'\n",
    "]\n",
    "\n",
    "#entrées : âge, type de dev (poste), formation, (taux d’activité, taille d'entreprise, home office)\n",
    "#sorties : salaire, tech connues (à préciser le type : langage / database / framework), nombre d’années d’expériences\n",
    "\n",
    "selected_columns = [\n",
    "    # inputs\n",
    "    'EdLevel','DevType','Employment','Age',\n",
    "    # outputs\n",
    "    'CompTotal',\n",
    "    'YearsCodePro',\n",
    "    'LanguageHaveWorkedWith',\n",
    "    'DatabaseHaveWorkedWith',\n",
    "    'PlatformHaveWorkedWith',\n",
    "    'WebframeHaveWorkedWith',\n",
    "    'MiscTechHaveWorkedWith',\n",
    "    'ToolsTechHaveWorkedWith',\n",
    "    'NEWCollabToolsHaveWorkedWith',\n",
    "]"
   ]
  },
  {
   "attachments": {},
   "cell_type": "markdown",
   "metadata": {},
   "source": [
    "supprimer les NaN dans les colonnes categoriques"
   ]
  },
  {
   "cell_type": "code",
   "execution_count": 7,
   "metadata": {},
   "outputs": [],
   "source": [
    "df[selected_columns[6:]] = df[selected_columns[6:]].fillna('None')"
   ]
  },
  {
   "cell_type": "code",
   "execution_count": 8,
   "metadata": {},
   "outputs": [
    {
     "data": {
      "text/plain": [
       "{'LanguageHaveWorkedWith': ['JavaScript',\n",
       "  'TypeScript',\n",
       "  'C#',\n",
       "  'Cpp',\n",
       "  'HTML/CSS',\n",
       "  'Python',\n",
       "  'SQL',\n",
       "  'Swift',\n",
       "  'Lua',\n",
       "  'PHP',\n",
       "  'C',\n",
       "  'Java',\n",
       "  'Delphi',\n",
       "  'Bash/Shell',\n",
       "  'PowerShell',\n",
       "  'Rust',\n",
       "  'Elixir',\n",
       "  'Erlang',\n",
       "  'Ruby',\n",
       "  'R',\n",
       "  'Scala',\n",
       "  'VBA',\n",
       "  'Dart',\n",
       "  'Go',\n",
       "  'Kotlin',\n",
       "  'Groovy',\n",
       "  'MATLAB',\n",
       "  'Perl',\n",
       "  'Haskell',\n",
       "  'Julia',\n",
       "  'LISP',\n",
       "  'Assembly',\n",
       "  'F#',\n",
       "  'Clojure',\n",
       "  'APL',\n",
       "  'Crystal',\n",
       "  'Fortran',\n",
       "  'Objective-C',\n",
       "  'SAS',\n",
       "  'OCaml',\n",
       "  'Solidity',\n",
       "  'COBOL'],\n",
       " 'DatabaseHaveWorkedWith': ['Microsoft SQL Server',\n",
       "  'Cloud Firestore',\n",
       "  'Elasticsearch',\n",
       "  'Firebase Realtime Database',\n",
       "  'MongoDB',\n",
       "  'MySQL',\n",
       "  'Couchbase',\n",
       "  'CouchDB',\n",
       "  'PostgreSQL',\n",
       "  'Redis',\n",
       "  'DynamoDB',\n",
       "  'Neo4j',\n",
       "  'SQLite',\n",
       "  'Cassandra',\n",
       "  'MariaDB',\n",
       "  'Oracle',\n",
       "  'IBM DB2'],\n",
       " 'PlatformHaveWorkedWith': ['Firebase',\n",
       "  'Microsoft Azure',\n",
       "  'AWS',\n",
       "  'Google Cloud',\n",
       "  'Heroku',\n",
       "  'DigitalOcean',\n",
       "  'VMware',\n",
       "  'OVH',\n",
       "  'Linode',\n",
       "  'Managed Hosting',\n",
       "  'IBM Cloud or Watson',\n",
       "  'Oracle Cloud Infrastructure',\n",
       "  'OpenStack',\n",
       "  'Colocation'],\n",
       " 'WebframeHaveWorkedWith': ['Angular.js',\n",
       "  'ASP.NET',\n",
       "  'ASP.NET Core ',\n",
       "  'Angular',\n",
       "  'jQuery',\n",
       "  'Node.js',\n",
       "  'Next.js',\n",
       "  'React.js',\n",
       "  'Svelte',\n",
       "  'Vue.js',\n",
       "  'Express',\n",
       "  'Phoenix',\n",
       "  'Ruby on Rails',\n",
       "  'Django',\n",
       "  'Flask',\n",
       "  'Laravel',\n",
       "  'FastAPI',\n",
       "  'Gatsby',\n",
       "  'Nuxt.js',\n",
       "  'Drupal',\n",
       "  'Symfony',\n",
       "  'Blazor',\n",
       "  'Fastify',\n",
       "  'Deno',\n",
       "  'Play Framework'],\n",
       " 'MiscTechHaveWorkedWith': ['Pandas',\n",
       "  '.NET',\n",
       "  'Keras',\n",
       "  'NumPy',\n",
       "  'Scikit-learn',\n",
       "  'TensorFlow',\n",
       "  'Torch/PyTorch',\n",
       "  'Hugging Face Transformers',\n",
       "  'Apache Kafka',\n",
       "  'Apache Spark',\n",
       "  'Tidyverse',\n",
       "  'Electron',\n",
       "  'React Native',\n",
       "  'Spring',\n",
       "  'Flutter',\n",
       "  'Qt',\n",
       "  'Xamarin',\n",
       "  'Capacitor',\n",
       "  'Cordova',\n",
       "  'Ionic',\n",
       "  'Hadoop',\n",
       "  'GTK',\n",
       "  'Uno Platform'],\n",
       " 'ToolsTechHaveWorkedWith': ['npm',\n",
       "  'Homebrew',\n",
       "  'Docker',\n",
       "  'Terraform',\n",
       "  'Kubernetes',\n",
       "  'Yarn',\n",
       "  'Ansible',\n",
       "  'Unity 3D',\n",
       "  'Puppet',\n",
       "  'Flow',\n",
       "  'Unreal Engine',\n",
       "  'Chef',\n",
       "  'Pulumi'],\n",
       " 'NEWCollabToolsHaveWorkedWith': ['Notepad++',\n",
       "  'Visual Studio',\n",
       "  'Visual Studio Code',\n",
       "  'Xcode',\n",
       "  'Atom',\n",
       "  'IntelliJ',\n",
       "  'PyCharm',\n",
       "  'Sublime Text',\n",
       "  'CLion',\n",
       "  'Eclipse',\n",
       "  'Emacs',\n",
       "  'Android Studio',\n",
       "  'RAD Studio (Delphi, C++ Builder)',\n",
       "  'Rider',\n",
       "  'IPython/Jupyter',\n",
       "  'Neovim',\n",
       "  'Vim',\n",
       "  'Nano',\n",
       "  'RStudio',\n",
       "  'NetBeans',\n",
       "  'PhpStorm',\n",
       "  'Webstorm',\n",
       "  'GoLand',\n",
       "  'RubyMine',\n",
       "  'Spyder',\n",
       "  'Qt Creator',\n",
       "  'TextMate']}"
      ]
     },
     "execution_count": 8,
     "metadata": {},
     "output_type": "execute_result"
    }
   ],
   "source": [
    "tech_values = {col: df[col].str.split(';').explode().unique().tolist() for col in selected_columns[6:]}\n",
    "for k in tech_values.keys():\n",
    "    tech_values[k].remove('None')\n",
    "tech_values"
   ]
  },
  {
   "cell_type": "code",
   "execution_count": 9,
   "metadata": {},
   "outputs": [
    {
     "data": {
      "text/plain": [
       "(73268, 79)"
      ]
     },
     "execution_count": 9,
     "metadata": {},
     "output_type": "execute_result"
    }
   ],
   "source": [
    "df.dropna()\n",
    "df.shape"
   ]
  },
  {
   "cell_type": "code",
   "execution_count": 10,
   "metadata": {},
   "outputs": [],
   "source": [
    "def filter_multicat(df : pd.DataFrame, column, filter) -> pd.DataFrame:\n",
    "    return df[df[column].str.contains(filter)]"
   ]
  },
  {
   "cell_type": "code",
   "execution_count": 11,
   "metadata": {},
   "outputs": [
    {
     "name": "stdout",
     "output_type": "stream",
     "text": [
      "(29061, 79)\n"
     ]
    }
   ],
   "source": [
    "country_filter = filter(df, 'Country', countries)\n",
    "# Filter the data to only keep profesionnal developers\n",
    "df_filtered = filter_multicat(country_filter,'MainBranch',\"I am a developer by profession\")\n",
    "print(df_filtered.shape)"
   ]
  },
  {
   "cell_type": "code",
   "execution_count": 12,
   "metadata": {},
   "outputs": [
    {
     "name": "stdout",
     "output_type": "stream",
     "text": [
      "(29061, 13)\n"
     ]
    }
   ],
   "source": [
    "df_filtered = df_filtered[selected_columns]\n",
    "\n",
    "print(df_filtered.shape)"
   ]
  },
  {
   "cell_type": "code",
   "execution_count": 13,
   "metadata": {},
   "outputs": [
    {
     "data": {
      "text/html": [
       "<div>\n",
       "<style scoped>\n",
       "    .dataframe tbody tr th:only-of-type {\n",
       "        vertical-align: middle;\n",
       "    }\n",
       "\n",
       "    .dataframe tbody tr th {\n",
       "        vertical-align: top;\n",
       "    }\n",
       "\n",
       "    .dataframe thead th {\n",
       "        text-align: right;\n",
       "    }\n",
       "</style>\n",
       "<table border=\"1\" class=\"dataframe\">\n",
       "  <thead>\n",
       "    <tr style=\"text-align: right;\">\n",
       "      <th></th>\n",
       "      <th>EdLevel</th>\n",
       "      <th>DevType</th>\n",
       "      <th>Employment</th>\n",
       "      <th>Age</th>\n",
       "      <th>CompTotal</th>\n",
       "      <th>YearsCodePro</th>\n",
       "      <th>LanguageHaveWorkedWith</th>\n",
       "      <th>DatabaseHaveWorkedWith</th>\n",
       "      <th>PlatformHaveWorkedWith</th>\n",
       "      <th>WebframeHaveWorkedWith</th>\n",
       "      <th>MiscTechHaveWorkedWith</th>\n",
       "      <th>ToolsTechHaveWorkedWith</th>\n",
       "      <th>NEWCollabToolsHaveWorkedWith</th>\n",
       "    </tr>\n",
       "  </thead>\n",
       "  <tbody>\n",
       "    <tr>\n",
       "      <th>1</th>\n",
       "      <td>NaN</td>\n",
       "      <td>NaN</td>\n",
       "      <td>Employed, full-time</td>\n",
       "      <td>NaN</td>\n",
       "      <td>NaN</td>\n",
       "      <td>NaN</td>\n",
       "      <td>JavaScript;TypeScript</td>\n",
       "      <td>None</td>\n",
       "      <td>None</td>\n",
       "      <td>None</td>\n",
       "      <td>None</td>\n",
       "      <td>None</td>\n",
       "      <td>None</td>\n",
       "    </tr>\n",
       "    <tr>\n",
       "      <th>4</th>\n",
       "      <td>Bachelor</td>\n",
       "      <td>Developer, front-end;Developer, full-stack;Dev...</td>\n",
       "      <td>Employed, full-time</td>\n",
       "      <td>25-34 years old</td>\n",
       "      <td>NaN</td>\n",
       "      <td>3</td>\n",
       "      <td>C#;HTML/CSS;JavaScript;SQL;Swift;TypeScript</td>\n",
       "      <td>Cloud Firestore;Elasticsearch;Microsoft SQL Se...</td>\n",
       "      <td>Firebase;Microsoft Azure</td>\n",
       "      <td>Angular;ASP.NET;ASP.NET Core ;jQuery;Node.js</td>\n",
       "      <td>.NET</td>\n",
       "      <td>npm</td>\n",
       "      <td>Notepad++;Visual Studio;Visual Studio Code;Xcode</td>\n",
       "    </tr>\n",
       "    <tr>\n",
       "      <th>8</th>\n",
       "      <td>Master</td>\n",
       "      <td>Developer, back-end</td>\n",
       "      <td>Employed, full-time</td>\n",
       "      <td>25-34 years old</td>\n",
       "      <td>46000.0</td>\n",
       "      <td>6</td>\n",
       "      <td>None</td>\n",
       "      <td>None</td>\n",
       "      <td>None</td>\n",
       "      <td>None</td>\n",
       "      <td>None</td>\n",
       "      <td>None</td>\n",
       "      <td>Emacs;Notepad++</td>\n",
       "    </tr>\n",
       "    <tr>\n",
       "      <th>10</th>\n",
       "      <td>Bachelor</td>\n",
       "      <td>Developer, full-stack;Developer, back-end</td>\n",
       "      <td>Employed, full-time</td>\n",
       "      <td>18-24 years old</td>\n",
       "      <td>48000.0</td>\n",
       "      <td>2</td>\n",
       "      <td>Bash/Shell;C#;HTML/CSS;JavaScript;PowerShell;SQL</td>\n",
       "      <td>Microsoft SQL Server</td>\n",
       "      <td>AWS;Microsoft Azure</td>\n",
       "      <td>ASP.NET;ASP.NET Core ;Vue.js</td>\n",
       "      <td>.NET</td>\n",
       "      <td>Docker;npm;Terraform</td>\n",
       "      <td>Rider;Visual Studio;Visual Studio Code</td>\n",
       "    </tr>\n",
       "    <tr>\n",
       "      <th>12</th>\n",
       "      <td>Bachelor</td>\n",
       "      <td>Developer, full-stack</td>\n",
       "      <td>Employed, full-time</td>\n",
       "      <td>25-34 years old</td>\n",
       "      <td>65000.0</td>\n",
       "      <td>5</td>\n",
       "      <td>C;HTML/CSS;Rust;SQL;Swift;TypeScript</td>\n",
       "      <td>PostgreSQL</td>\n",
       "      <td>AWS</td>\n",
       "      <td>React.js</td>\n",
       "      <td>Torch/PyTorch</td>\n",
       "      <td>Docker</td>\n",
       "      <td>Vim;Visual Studio</td>\n",
       "    </tr>\n",
       "  </tbody>\n",
       "</table>\n",
       "</div>"
      ],
      "text/plain": [
       "     EdLevel                                            DevType  \\\n",
       "1        NaN                                                NaN   \n",
       "4   Bachelor  Developer, front-end;Developer, full-stack;Dev...   \n",
       "8     Master                                Developer, back-end   \n",
       "10  Bachelor          Developer, full-stack;Developer, back-end   \n",
       "12  Bachelor                              Developer, full-stack   \n",
       "\n",
       "             Employment              Age  CompTotal YearsCodePro  \\\n",
       "1   Employed, full-time              NaN        NaN          NaN   \n",
       "4   Employed, full-time  25-34 years old        NaN            3   \n",
       "8   Employed, full-time  25-34 years old    46000.0            6   \n",
       "10  Employed, full-time  18-24 years old    48000.0            2   \n",
       "12  Employed, full-time  25-34 years old    65000.0            5   \n",
       "\n",
       "                              LanguageHaveWorkedWith  \\\n",
       "1                              JavaScript;TypeScript   \n",
       "4        C#;HTML/CSS;JavaScript;SQL;Swift;TypeScript   \n",
       "8                                               None   \n",
       "10  Bash/Shell;C#;HTML/CSS;JavaScript;PowerShell;SQL   \n",
       "12              C;HTML/CSS;Rust;SQL;Swift;TypeScript   \n",
       "\n",
       "                               DatabaseHaveWorkedWith  \\\n",
       "1                                                None   \n",
       "4   Cloud Firestore;Elasticsearch;Microsoft SQL Se...   \n",
       "8                                                None   \n",
       "10                               Microsoft SQL Server   \n",
       "12                                         PostgreSQL   \n",
       "\n",
       "      PlatformHaveWorkedWith                        WebframeHaveWorkedWith  \\\n",
       "1                       None                                          None   \n",
       "4   Firebase;Microsoft Azure  Angular;ASP.NET;ASP.NET Core ;jQuery;Node.js   \n",
       "8                       None                                          None   \n",
       "10       AWS;Microsoft Azure                  ASP.NET;ASP.NET Core ;Vue.js   \n",
       "12                       AWS                                      React.js   \n",
       "\n",
       "   MiscTechHaveWorkedWith ToolsTechHaveWorkedWith  \\\n",
       "1                    None                    None   \n",
       "4                    .NET                     npm   \n",
       "8                    None                    None   \n",
       "10                   .NET    Docker;npm;Terraform   \n",
       "12          Torch/PyTorch                  Docker   \n",
       "\n",
       "                        NEWCollabToolsHaveWorkedWith  \n",
       "1                                               None  \n",
       "4   Notepad++;Visual Studio;Visual Studio Code;Xcode  \n",
       "8                                    Emacs;Notepad++  \n",
       "10            Rider;Visual Studio;Visual Studio Code  \n",
       "12                                 Vim;Visual Studio  "
      ]
     },
     "execution_count": 13,
     "metadata": {},
     "output_type": "execute_result"
    }
   ],
   "source": [
    "df_filtered.head()"
   ]
  },
  {
   "cell_type": "code",
   "execution_count": 14,
   "metadata": {},
   "outputs": [
    {
     "data": {
      "text/plain": [
       "(21076, 13)"
      ]
     },
     "execution_count": 14,
     "metadata": {},
     "output_type": "execute_result"
    }
   ],
   "source": [
    "df_filtered = df_filtered.dropna()\n",
    "df_filtered.shape"
   ]
  },
  {
   "attachments": {},
   "cell_type": "markdown",
   "metadata": {},
   "source": [
    "filtrer les entrées"
   ]
  },
  {
   "cell_type": "code",
   "execution_count": 15,
   "metadata": {},
   "outputs": [],
   "source": [
    "DevType = [\n",
    "    'Developer, full-stack',\n",
    "    'Academic researcher',\n",
    "    'DevOps specialist',\n",
    "    'Developer, back-end',\n",
    "    'Developer, desktop or enterprise applications',\n",
    "    'Developer, embedded applications or devices',\n",
    "    'Developer, game or graphics',\n",
    "    'Developer, front-end',\n",
    "    'Engineer, data',\n",
    "    'Developer, QA or test',\n",
    "    'Developer, mobile',\n",
    "    'Database administrator',\n",
    "    'Cloud infrastructure engineer',\n",
    "    'Data or business analyst',\n",
    "    'Designer',\n",
    "    'Marketing or sales professional',\n",
    "    'Data scientist or machine learning specialist',\n",
    "    'Security professional',\n",
    "    'Project manager',\n",
    "    'Senior Executive (C-Suite, VP, etc.)',\n",
    "    'Engineering manager',\n",
    "    'System administrator',\n",
    "    'Scientist',\n",
    "    'Product manager',\n",
    "    'Engineer, site reliability',\n",
    "    'Educator',\n",
    "    'Other (please specify):',\n",
    "    'Blockchain',\n",
    "    'Student'\n",
    "]\n",
    "\n",
    "Employment = [\n",
    "    'Employed, full-time',\n",
    "    'Student, full-time',\n",
    "    'Student, part-time',\n",
    "    'Not employed, but looking for work',\n",
    "    'Independent contractor, freelancer, or self-employed',\n",
    "    'Employed, part-time',\n",
    "    'Not employed, and not looking for work',\n",
    "    'Retired',\n",
    "    'I prefer not to say',\n",
    "]\n",
    "\n",
    "EdLevel = [\n",
    "    \"Master\",\n",
    "    \"Bachelor\",\n",
    "    'Secondary school (e.g. American high school, German Realschule or Gymnasium, etc.)',\n",
    "    'Some college/university study without earning a degree',\n",
    "    'Something else',\n",
    "    'Primary/elementary school',\n",
    "    'Other doctoral degree (Ph.D., Ed.D., etc.)',\n",
    "    'Associate degree (A.A., A.S., etc.)',\n",
    "    'Professional degree (JD, MD, etc.)'\n",
    "]\n",
    "\n",
    "Age = [\n",
    "    'Under 18 years old',\n",
    "    '18-24 years old',\n",
    "    '25-34 years old',\n",
    "    '35-44 years old',\n",
    "    '45-54 years old',\n",
    "    '55-64 years old',\n",
    "    '65 years or older',\n",
    "    'Prefer not to say'\n",
    "]\n"
   ]
  },
  {
   "attachments": {},
   "cell_type": "markdown",
   "metadata": {},
   "source": [
    "pour chacune des entrées, tester nombre de lignes qui contient cette entrée et ne garder dans les choix que les colonnes qui contiennent cette entrée"
   ]
  },
  {
   "cell_type": "code",
   "execution_count": 16,
   "metadata": {},
   "outputs": [],
   "source": [
    "def countLinesByCategory(data, col_name, col_categories):\n",
    "    return {cat:filter_multicat(data,col_name,cat).shape[0] for cat in col_categories}"
   ]
  },
  {
   "cell_type": "code",
   "execution_count": 17,
   "metadata": {},
   "outputs": [
    {
     "name": "stderr",
     "output_type": "stream",
     "text": [
      "C:\\Users\\AnneSo\\AppData\\Local\\Temp\\ipykernel_25780\\4175930426.py:2: UserWarning: This pattern is interpreted as a regular expression, and has match groups. To actually get the groups, use str.extract.\n",
      "  return df[df[column].str.contains(filter)]\n"
     ]
    }
   ],
   "source": [
    "def testColumnCategories(df, col_name, col_categories: list):\n",
    "    res = countLinesByCategory(df, col_name, col_categories)\n",
    "\n",
    "    for cat in res.keys():\n",
    "        if res[cat] == 0:\n",
    "            col_categories.remove(cat)\n",
    "\n",
    "testColumnCategories(df_filtered, 'DevType', DevType)\n",
    "testColumnCategories(df_filtered, 'EdLevel', EdLevel)\n",
    "testColumnCategories(df_filtered, 'Employment', Employment)\n",
    "testColumnCategories(df_filtered, 'Age', Age)"
   ]
  },
  {
   "cell_type": "code",
   "execution_count": 18,
   "metadata": {},
   "outputs": [
    {
     "data": {
      "text/plain": [
       "Index(['EdLevel', 'DevType', 'Employment', 'Age', 'CompTotal', 'YearsCodePro',\n",
       "       'LanguageHaveWorkedWith', 'DatabaseHaveWorkedWith',\n",
       "       'PlatformHaveWorkedWith', 'WebframeHaveWorkedWith',\n",
       "       'MiscTechHaveWorkedWith', 'ToolsTechHaveWorkedWith',\n",
       "       'NEWCollabToolsHaveWorkedWith'],\n",
       "      dtype='object')"
      ]
     },
     "execution_count": 18,
     "metadata": {},
     "output_type": "execute_result"
    }
   ],
   "source": [
    "df_filtered.columns"
   ]
  },
  {
   "attachments": {},
   "cell_type": "markdown",
   "metadata": {},
   "source": [
    "récupérer les sorties à partir des entrées"
   ]
  },
  {
   "cell_type": "code",
   "execution_count": 27,
   "metadata": {},
   "outputs": [],
   "source": [
    "def aggregate(data, outputName):\n",
    "    output = {'techs':tech_values[outputName], 'CompTotal':[], 'YearsCodePro':[] }\n",
    "    for tech_type in output['techs']:\n",
    "        #print(tech_type)\n",
    "        df = filter_multicat(data, outputName, tech_type)\n",
    "        output['CompTotal'].append(df['CompTotal'].median())\n",
    "        output['YearsCodePro'].append(df['YearsCodePro'].median())\n",
    "    return pd.DataFrame(output)"
   ]
  },
  {
   "cell_type": "code",
   "execution_count": 28,
   "metadata": {},
   "outputs": [],
   "source": [
    "def getOutput(data, devType, edLevel, employment, age, outputName):\n",
    "    df = data\n",
    "    df = filter_multicat(df,'DevType',devType)\n",
    "    df = filter_multicat(df,'EdLevel',edLevel)\n",
    "    df = filter_multicat(df,'Employment',employment)\n",
    "    df = filter_multicat(df,'Age', age)\n",
    "    # il faut calculer salaire moyen et nb années exp moyen\n",
    "    return aggregate(df, outputName)"
   ]
  },
  {
   "cell_type": "code",
   "execution_count": 29,
   "metadata": {},
   "outputs": [
    {
     "data": {
      "text/html": [
       "<div>\n",
       "<style scoped>\n",
       "    .dataframe tbody tr th:only-of-type {\n",
       "        vertical-align: middle;\n",
       "    }\n",
       "\n",
       "    .dataframe tbody tr th {\n",
       "        vertical-align: top;\n",
       "    }\n",
       "\n",
       "    .dataframe thead th {\n",
       "        text-align: right;\n",
       "    }\n",
       "</style>\n",
       "<table border=\"1\" class=\"dataframe\">\n",
       "  <thead>\n",
       "    <tr style=\"text-align: right;\">\n",
       "      <th></th>\n",
       "      <th>techs</th>\n",
       "      <th>CompTotal</th>\n",
       "      <th>YearsCodePro</th>\n",
       "    </tr>\n",
       "  </thead>\n",
       "  <tbody>\n",
       "    <tr>\n",
       "      <th>0</th>\n",
       "      <td>JavaScript</td>\n",
       "      <td>45000.0</td>\n",
       "      <td>6.0</td>\n",
       "    </tr>\n",
       "    <tr>\n",
       "      <th>1</th>\n",
       "      <td>TypeScript</td>\n",
       "      <td>50500.0</td>\n",
       "      <td>6.0</td>\n",
       "    </tr>\n",
       "    <tr>\n",
       "      <th>2</th>\n",
       "      <td>C#</td>\n",
       "      <td>54000.0</td>\n",
       "      <td>5.5</td>\n",
       "    </tr>\n",
       "    <tr>\n",
       "      <th>3</th>\n",
       "      <td>Cpp</td>\n",
       "      <td>50000.0</td>\n",
       "      <td>5.0</td>\n",
       "    </tr>\n",
       "    <tr>\n",
       "      <th>4</th>\n",
       "      <td>HTML/CSS</td>\n",
       "      <td>42000.0</td>\n",
       "      <td>6.0</td>\n",
       "    </tr>\n",
       "    <tr>\n",
       "      <th>5</th>\n",
       "      <td>Python</td>\n",
       "      <td>52000.0</td>\n",
       "      <td>6.0</td>\n",
       "    </tr>\n",
       "    <tr>\n",
       "      <th>6</th>\n",
       "      <td>SQL</td>\n",
       "      <td>52000.0</td>\n",
       "      <td>6.0</td>\n",
       "    </tr>\n",
       "    <tr>\n",
       "      <th>7</th>\n",
       "      <td>Swift</td>\n",
       "      <td>58000.0</td>\n",
       "      <td>7.0</td>\n",
       "    </tr>\n",
       "    <tr>\n",
       "      <th>8</th>\n",
       "      <td>Lua</td>\n",
       "      <td>73500.0</td>\n",
       "      <td>9.0</td>\n",
       "    </tr>\n",
       "    <tr>\n",
       "      <th>9</th>\n",
       "      <td>PHP</td>\n",
       "      <td>42000.0</td>\n",
       "      <td>7.0</td>\n",
       "    </tr>\n",
       "    <tr>\n",
       "      <th>10</th>\n",
       "      <td>C</td>\n",
       "      <td>46500.0</td>\n",
       "      <td>5.0</td>\n",
       "    </tr>\n",
       "    <tr>\n",
       "      <th>11</th>\n",
       "      <td>Java</td>\n",
       "      <td>47000.0</td>\n",
       "      <td>6.0</td>\n",
       "    </tr>\n",
       "    <tr>\n",
       "      <th>13</th>\n",
       "      <td>Bash/Shell</td>\n",
       "      <td>55000.0</td>\n",
       "      <td>6.5</td>\n",
       "    </tr>\n",
       "    <tr>\n",
       "      <th>14</th>\n",
       "      <td>PowerShell</td>\n",
       "      <td>56550.0</td>\n",
       "      <td>6.5</td>\n",
       "    </tr>\n",
       "    <tr>\n",
       "      <th>15</th>\n",
       "      <td>Rust</td>\n",
       "      <td>39000.0</td>\n",
       "      <td>6.0</td>\n",
       "    </tr>\n",
       "    <tr>\n",
       "      <th>16</th>\n",
       "      <td>Elixir</td>\n",
       "      <td>39000.0</td>\n",
       "      <td>8.0</td>\n",
       "    </tr>\n",
       "    <tr>\n",
       "      <th>17</th>\n",
       "      <td>Erlang</td>\n",
       "      <td>200000.0</td>\n",
       "      <td>10.0</td>\n",
       "    </tr>\n",
       "    <tr>\n",
       "      <th>18</th>\n",
       "      <td>Ruby</td>\n",
       "      <td>62000.0</td>\n",
       "      <td>8.0</td>\n",
       "    </tr>\n",
       "    <tr>\n",
       "      <th>19</th>\n",
       "      <td>R</td>\n",
       "      <td>43800.0</td>\n",
       "      <td>8.0</td>\n",
       "    </tr>\n",
       "    <tr>\n",
       "      <th>20</th>\n",
       "      <td>Scala</td>\n",
       "      <td>33400.0</td>\n",
       "      <td>6.0</td>\n",
       "    </tr>\n",
       "    <tr>\n",
       "      <th>21</th>\n",
       "      <td>VBA</td>\n",
       "      <td>61500.0</td>\n",
       "      <td>8.0</td>\n",
       "    </tr>\n",
       "    <tr>\n",
       "      <th>22</th>\n",
       "      <td>Dart</td>\n",
       "      <td>40000.0</td>\n",
       "      <td>6.0</td>\n",
       "    </tr>\n",
       "    <tr>\n",
       "      <th>23</th>\n",
       "      <td>Go</td>\n",
       "      <td>58500.0</td>\n",
       "      <td>9.0</td>\n",
       "    </tr>\n",
       "    <tr>\n",
       "      <th>24</th>\n",
       "      <td>Kotlin</td>\n",
       "      <td>60000.0</td>\n",
       "      <td>8.0</td>\n",
       "    </tr>\n",
       "    <tr>\n",
       "      <th>25</th>\n",
       "      <td>Groovy</td>\n",
       "      <td>29900.0</td>\n",
       "      <td>6.5</td>\n",
       "    </tr>\n",
       "    <tr>\n",
       "      <th>26</th>\n",
       "      <td>MATLAB</td>\n",
       "      <td>5900.0</td>\n",
       "      <td>7.0</td>\n",
       "    </tr>\n",
       "    <tr>\n",
       "      <th>27</th>\n",
       "      <td>Perl</td>\n",
       "      <td>61500.0</td>\n",
       "      <td>8.0</td>\n",
       "    </tr>\n",
       "    <tr>\n",
       "      <th>28</th>\n",
       "      <td>Haskell</td>\n",
       "      <td>103400.0</td>\n",
       "      <td>9.0</td>\n",
       "    </tr>\n",
       "    <tr>\n",
       "      <th>29</th>\n",
       "      <td>Julia</td>\n",
       "      <td>3500.0</td>\n",
       "      <td>4.0</td>\n",
       "    </tr>\n",
       "    <tr>\n",
       "      <th>30</th>\n",
       "      <td>LISP</td>\n",
       "      <td>82000.0</td>\n",
       "      <td>11.0</td>\n",
       "    </tr>\n",
       "    <tr>\n",
       "      <th>31</th>\n",
       "      <td>Assembly</td>\n",
       "      <td>70000.0</td>\n",
       "      <td>9.5</td>\n",
       "    </tr>\n",
       "    <tr>\n",
       "      <th>32</th>\n",
       "      <td>F#</td>\n",
       "      <td>52000.0</td>\n",
       "      <td>7.0</td>\n",
       "    </tr>\n",
       "    <tr>\n",
       "      <th>34</th>\n",
       "      <td>APL</td>\n",
       "      <td>0.0</td>\n",
       "      <td>30.0</td>\n",
       "    </tr>\n",
       "    <tr>\n",
       "      <th>37</th>\n",
       "      <td>Objective-C</td>\n",
       "      <td>64000.0</td>\n",
       "      <td>8.0</td>\n",
       "    </tr>\n",
       "    <tr>\n",
       "      <th>39</th>\n",
       "      <td>OCaml</td>\n",
       "      <td>6800.0</td>\n",
       "      <td>8.0</td>\n",
       "    </tr>\n",
       "  </tbody>\n",
       "</table>\n",
       "</div>"
      ],
      "text/plain": [
       "          techs  CompTotal  YearsCodePro\n",
       "0    JavaScript    45000.0           6.0\n",
       "1    TypeScript    50500.0           6.0\n",
       "2            C#    54000.0           5.5\n",
       "3           Cpp    50000.0           5.0\n",
       "4      HTML/CSS    42000.0           6.0\n",
       "5        Python    52000.0           6.0\n",
       "6           SQL    52000.0           6.0\n",
       "7         Swift    58000.0           7.0\n",
       "8           Lua    73500.0           9.0\n",
       "9           PHP    42000.0           7.0\n",
       "10            C    46500.0           5.0\n",
       "11         Java    47000.0           6.0\n",
       "13   Bash/Shell    55000.0           6.5\n",
       "14   PowerShell    56550.0           6.5\n",
       "15         Rust    39000.0           6.0\n",
       "16       Elixir    39000.0           8.0\n",
       "17       Erlang   200000.0          10.0\n",
       "18         Ruby    62000.0           8.0\n",
       "19            R    43800.0           8.0\n",
       "20        Scala    33400.0           6.0\n",
       "21          VBA    61500.0           8.0\n",
       "22         Dart    40000.0           6.0\n",
       "23           Go    58500.0           9.0\n",
       "24       Kotlin    60000.0           8.0\n",
       "25       Groovy    29900.0           6.5\n",
       "26       MATLAB     5900.0           7.0\n",
       "27         Perl    61500.0           8.0\n",
       "28      Haskell   103400.0           9.0\n",
       "29        Julia     3500.0           4.0\n",
       "30         LISP    82000.0          11.0\n",
       "31     Assembly    70000.0           9.5\n",
       "32           F#    52000.0           7.0\n",
       "34          APL        0.0          30.0\n",
       "37  Objective-C    64000.0           8.0\n",
       "39        OCaml     6800.0           8.0"
      ]
     },
     "execution_count": 29,
     "metadata": {},
     "output_type": "execute_result"
    }
   ],
   "source": [
    "a = getOutput(df_filtered, 'Developer, game or graphics', \"Master\", 'Employed, full-time', '25-34 years old', 'LanguageHaveWorkedWith')\n",
    "a.dropna()"
   ]
  },
  {
   "attachments": {},
   "cell_type": "markdown",
   "metadata": {},
   "source": [
    "test d'affichage"
   ]
  },
  {
   "cell_type": "code",
   "execution_count": 30,
   "metadata": {},
   "outputs": [
    {
     "data": {
      "application/vnd.plotly.v1+json": {
       "config": {
        "plotlyServerURL": "https://plot.ly"
       },
       "data": [
        {
         "hovertemplate": "<b>%{hovertext}</b><br><br>YearsCodePro=%{x}<br>CompTotal=%{y}<extra></extra>",
         "hovertext": [
          "JavaScript",
          "TypeScript",
          "C#",
          "Cpp",
          "HTML/CSS",
          "Python",
          "SQL",
          "Swift",
          "Lua",
          "PHP",
          "C",
          "Java",
          "Delphi",
          "Bash/Shell",
          "PowerShell",
          "Rust",
          "Elixir",
          "Erlang",
          "Ruby",
          "R",
          "Scala",
          "VBA",
          "Dart",
          "Go",
          "Kotlin",
          "Groovy",
          "MATLAB",
          "Perl",
          "Haskell",
          "Julia",
          "LISP",
          "Assembly",
          "F#",
          "Clojure",
          "APL",
          "Crystal",
          "Fortran",
          "Objective-C",
          "SAS",
          "OCaml",
          "Solidity",
          "COBOL"
         ],
         "legendgroup": "",
         "marker": {
          "color": "#636efa",
          "symbol": "circle"
         },
         "mode": "markers",
         "name": "",
         "orientation": "v",
         "showlegend": false,
         "type": "scatter",
         "x": [
          6,
          6,
          5.5,
          5,
          6,
          6,
          6,
          7,
          9,
          7,
          5,
          6,
          null,
          6.5,
          6.5,
          6,
          8,
          10,
          8,
          8,
          6,
          8,
          6,
          9,
          8,
          6.5,
          7,
          8,
          9,
          4,
          11,
          9.5,
          7,
          null,
          30,
          null,
          null,
          8,
          null,
          8,
          null,
          null
         ],
         "xaxis": "x",
         "y": [
          45000,
          50500,
          54000,
          50000,
          42000,
          52000,
          52000,
          58000,
          73500,
          42000,
          46500,
          47000,
          null,
          55000,
          56550,
          39000,
          39000,
          200000,
          62000,
          43800,
          33400,
          61500,
          40000,
          58500,
          60000,
          29900,
          5900,
          61500,
          103400,
          3500,
          82000,
          70000,
          52000,
          null,
          0,
          null,
          null,
          64000,
          null,
          6800,
          null,
          null
         ],
         "yaxis": "y"
        }
       ],
       "layout": {
        "legend": {
         "tracegroupgap": 0
        },
        "margin": {
         "t": 60
        },
        "template": {
         "data": {
          "bar": [
           {
            "error_x": {
             "color": "#2a3f5f"
            },
            "error_y": {
             "color": "#2a3f5f"
            },
            "marker": {
             "line": {
              "color": "#E5ECF6",
              "width": 0.5
             },
             "pattern": {
              "fillmode": "overlay",
              "size": 10,
              "solidity": 0.2
             }
            },
            "type": "bar"
           }
          ],
          "barpolar": [
           {
            "marker": {
             "line": {
              "color": "#E5ECF6",
              "width": 0.5
             },
             "pattern": {
              "fillmode": "overlay",
              "size": 10,
              "solidity": 0.2
             }
            },
            "type": "barpolar"
           }
          ],
          "carpet": [
           {
            "aaxis": {
             "endlinecolor": "#2a3f5f",
             "gridcolor": "white",
             "linecolor": "white",
             "minorgridcolor": "white",
             "startlinecolor": "#2a3f5f"
            },
            "baxis": {
             "endlinecolor": "#2a3f5f",
             "gridcolor": "white",
             "linecolor": "white",
             "minorgridcolor": "white",
             "startlinecolor": "#2a3f5f"
            },
            "type": "carpet"
           }
          ],
          "choropleth": [
           {
            "colorbar": {
             "outlinewidth": 0,
             "ticks": ""
            },
            "type": "choropleth"
           }
          ],
          "contour": [
           {
            "colorbar": {
             "outlinewidth": 0,
             "ticks": ""
            },
            "colorscale": [
             [
              0,
              "#0d0887"
             ],
             [
              0.1111111111111111,
              "#46039f"
             ],
             [
              0.2222222222222222,
              "#7201a8"
             ],
             [
              0.3333333333333333,
              "#9c179e"
             ],
             [
              0.4444444444444444,
              "#bd3786"
             ],
             [
              0.5555555555555556,
              "#d8576b"
             ],
             [
              0.6666666666666666,
              "#ed7953"
             ],
             [
              0.7777777777777778,
              "#fb9f3a"
             ],
             [
              0.8888888888888888,
              "#fdca26"
             ],
             [
              1,
              "#f0f921"
             ]
            ],
            "type": "contour"
           }
          ],
          "contourcarpet": [
           {
            "colorbar": {
             "outlinewidth": 0,
             "ticks": ""
            },
            "type": "contourcarpet"
           }
          ],
          "heatmap": [
           {
            "colorbar": {
             "outlinewidth": 0,
             "ticks": ""
            },
            "colorscale": [
             [
              0,
              "#0d0887"
             ],
             [
              0.1111111111111111,
              "#46039f"
             ],
             [
              0.2222222222222222,
              "#7201a8"
             ],
             [
              0.3333333333333333,
              "#9c179e"
             ],
             [
              0.4444444444444444,
              "#bd3786"
             ],
             [
              0.5555555555555556,
              "#d8576b"
             ],
             [
              0.6666666666666666,
              "#ed7953"
             ],
             [
              0.7777777777777778,
              "#fb9f3a"
             ],
             [
              0.8888888888888888,
              "#fdca26"
             ],
             [
              1,
              "#f0f921"
             ]
            ],
            "type": "heatmap"
           }
          ],
          "heatmapgl": [
           {
            "colorbar": {
             "outlinewidth": 0,
             "ticks": ""
            },
            "colorscale": [
             [
              0,
              "#0d0887"
             ],
             [
              0.1111111111111111,
              "#46039f"
             ],
             [
              0.2222222222222222,
              "#7201a8"
             ],
             [
              0.3333333333333333,
              "#9c179e"
             ],
             [
              0.4444444444444444,
              "#bd3786"
             ],
             [
              0.5555555555555556,
              "#d8576b"
             ],
             [
              0.6666666666666666,
              "#ed7953"
             ],
             [
              0.7777777777777778,
              "#fb9f3a"
             ],
             [
              0.8888888888888888,
              "#fdca26"
             ],
             [
              1,
              "#f0f921"
             ]
            ],
            "type": "heatmapgl"
           }
          ],
          "histogram": [
           {
            "marker": {
             "pattern": {
              "fillmode": "overlay",
              "size": 10,
              "solidity": 0.2
             }
            },
            "type": "histogram"
           }
          ],
          "histogram2d": [
           {
            "colorbar": {
             "outlinewidth": 0,
             "ticks": ""
            },
            "colorscale": [
             [
              0,
              "#0d0887"
             ],
             [
              0.1111111111111111,
              "#46039f"
             ],
             [
              0.2222222222222222,
              "#7201a8"
             ],
             [
              0.3333333333333333,
              "#9c179e"
             ],
             [
              0.4444444444444444,
              "#bd3786"
             ],
             [
              0.5555555555555556,
              "#d8576b"
             ],
             [
              0.6666666666666666,
              "#ed7953"
             ],
             [
              0.7777777777777778,
              "#fb9f3a"
             ],
             [
              0.8888888888888888,
              "#fdca26"
             ],
             [
              1,
              "#f0f921"
             ]
            ],
            "type": "histogram2d"
           }
          ],
          "histogram2dcontour": [
           {
            "colorbar": {
             "outlinewidth": 0,
             "ticks": ""
            },
            "colorscale": [
             [
              0,
              "#0d0887"
             ],
             [
              0.1111111111111111,
              "#46039f"
             ],
             [
              0.2222222222222222,
              "#7201a8"
             ],
             [
              0.3333333333333333,
              "#9c179e"
             ],
             [
              0.4444444444444444,
              "#bd3786"
             ],
             [
              0.5555555555555556,
              "#d8576b"
             ],
             [
              0.6666666666666666,
              "#ed7953"
             ],
             [
              0.7777777777777778,
              "#fb9f3a"
             ],
             [
              0.8888888888888888,
              "#fdca26"
             ],
             [
              1,
              "#f0f921"
             ]
            ],
            "type": "histogram2dcontour"
           }
          ],
          "mesh3d": [
           {
            "colorbar": {
             "outlinewidth": 0,
             "ticks": ""
            },
            "type": "mesh3d"
           }
          ],
          "parcoords": [
           {
            "line": {
             "colorbar": {
              "outlinewidth": 0,
              "ticks": ""
             }
            },
            "type": "parcoords"
           }
          ],
          "pie": [
           {
            "automargin": true,
            "type": "pie"
           }
          ],
          "scatter": [
           {
            "fillpattern": {
             "fillmode": "overlay",
             "size": 10,
             "solidity": 0.2
            },
            "type": "scatter"
           }
          ],
          "scatter3d": [
           {
            "line": {
             "colorbar": {
              "outlinewidth": 0,
              "ticks": ""
             }
            },
            "marker": {
             "colorbar": {
              "outlinewidth": 0,
              "ticks": ""
             }
            },
            "type": "scatter3d"
           }
          ],
          "scattercarpet": [
           {
            "marker": {
             "colorbar": {
              "outlinewidth": 0,
              "ticks": ""
             }
            },
            "type": "scattercarpet"
           }
          ],
          "scattergeo": [
           {
            "marker": {
             "colorbar": {
              "outlinewidth": 0,
              "ticks": ""
             }
            },
            "type": "scattergeo"
           }
          ],
          "scattergl": [
           {
            "marker": {
             "colorbar": {
              "outlinewidth": 0,
              "ticks": ""
             }
            },
            "type": "scattergl"
           }
          ],
          "scattermapbox": [
           {
            "marker": {
             "colorbar": {
              "outlinewidth": 0,
              "ticks": ""
             }
            },
            "type": "scattermapbox"
           }
          ],
          "scatterpolar": [
           {
            "marker": {
             "colorbar": {
              "outlinewidth": 0,
              "ticks": ""
             }
            },
            "type": "scatterpolar"
           }
          ],
          "scatterpolargl": [
           {
            "marker": {
             "colorbar": {
              "outlinewidth": 0,
              "ticks": ""
             }
            },
            "type": "scatterpolargl"
           }
          ],
          "scatterternary": [
           {
            "marker": {
             "colorbar": {
              "outlinewidth": 0,
              "ticks": ""
             }
            },
            "type": "scatterternary"
           }
          ],
          "surface": [
           {
            "colorbar": {
             "outlinewidth": 0,
             "ticks": ""
            },
            "colorscale": [
             [
              0,
              "#0d0887"
             ],
             [
              0.1111111111111111,
              "#46039f"
             ],
             [
              0.2222222222222222,
              "#7201a8"
             ],
             [
              0.3333333333333333,
              "#9c179e"
             ],
             [
              0.4444444444444444,
              "#bd3786"
             ],
             [
              0.5555555555555556,
              "#d8576b"
             ],
             [
              0.6666666666666666,
              "#ed7953"
             ],
             [
              0.7777777777777778,
              "#fb9f3a"
             ],
             [
              0.8888888888888888,
              "#fdca26"
             ],
             [
              1,
              "#f0f921"
             ]
            ],
            "type": "surface"
           }
          ],
          "table": [
           {
            "cells": {
             "fill": {
              "color": "#EBF0F8"
             },
             "line": {
              "color": "white"
             }
            },
            "header": {
             "fill": {
              "color": "#C8D4E3"
             },
             "line": {
              "color": "white"
             }
            },
            "type": "table"
           }
          ]
         },
         "layout": {
          "annotationdefaults": {
           "arrowcolor": "#2a3f5f",
           "arrowhead": 0,
           "arrowwidth": 1
          },
          "autotypenumbers": "strict",
          "coloraxis": {
           "colorbar": {
            "outlinewidth": 0,
            "ticks": ""
           }
          },
          "colorscale": {
           "diverging": [
            [
             0,
             "#8e0152"
            ],
            [
             0.1,
             "#c51b7d"
            ],
            [
             0.2,
             "#de77ae"
            ],
            [
             0.3,
             "#f1b6da"
            ],
            [
             0.4,
             "#fde0ef"
            ],
            [
             0.5,
             "#f7f7f7"
            ],
            [
             0.6,
             "#e6f5d0"
            ],
            [
             0.7,
             "#b8e186"
            ],
            [
             0.8,
             "#7fbc41"
            ],
            [
             0.9,
             "#4d9221"
            ],
            [
             1,
             "#276419"
            ]
           ],
           "sequential": [
            [
             0,
             "#0d0887"
            ],
            [
             0.1111111111111111,
             "#46039f"
            ],
            [
             0.2222222222222222,
             "#7201a8"
            ],
            [
             0.3333333333333333,
             "#9c179e"
            ],
            [
             0.4444444444444444,
             "#bd3786"
            ],
            [
             0.5555555555555556,
             "#d8576b"
            ],
            [
             0.6666666666666666,
             "#ed7953"
            ],
            [
             0.7777777777777778,
             "#fb9f3a"
            ],
            [
             0.8888888888888888,
             "#fdca26"
            ],
            [
             1,
             "#f0f921"
            ]
           ],
           "sequentialminus": [
            [
             0,
             "#0d0887"
            ],
            [
             0.1111111111111111,
             "#46039f"
            ],
            [
             0.2222222222222222,
             "#7201a8"
            ],
            [
             0.3333333333333333,
             "#9c179e"
            ],
            [
             0.4444444444444444,
             "#bd3786"
            ],
            [
             0.5555555555555556,
             "#d8576b"
            ],
            [
             0.6666666666666666,
             "#ed7953"
            ],
            [
             0.7777777777777778,
             "#fb9f3a"
            ],
            [
             0.8888888888888888,
             "#fdca26"
            ],
            [
             1,
             "#f0f921"
            ]
           ]
          },
          "colorway": [
           "#636efa",
           "#EF553B",
           "#00cc96",
           "#ab63fa",
           "#FFA15A",
           "#19d3f3",
           "#FF6692",
           "#B6E880",
           "#FF97FF",
           "#FECB52"
          ],
          "font": {
           "color": "#2a3f5f"
          },
          "geo": {
           "bgcolor": "white",
           "lakecolor": "white",
           "landcolor": "#E5ECF6",
           "showlakes": true,
           "showland": true,
           "subunitcolor": "white"
          },
          "hoverlabel": {
           "align": "left"
          },
          "hovermode": "closest",
          "mapbox": {
           "style": "light"
          },
          "paper_bgcolor": "white",
          "plot_bgcolor": "#E5ECF6",
          "polar": {
           "angularaxis": {
            "gridcolor": "white",
            "linecolor": "white",
            "ticks": ""
           },
           "bgcolor": "#E5ECF6",
           "radialaxis": {
            "gridcolor": "white",
            "linecolor": "white",
            "ticks": ""
           }
          },
          "scene": {
           "xaxis": {
            "backgroundcolor": "#E5ECF6",
            "gridcolor": "white",
            "gridwidth": 2,
            "linecolor": "white",
            "showbackground": true,
            "ticks": "",
            "zerolinecolor": "white"
           },
           "yaxis": {
            "backgroundcolor": "#E5ECF6",
            "gridcolor": "white",
            "gridwidth": 2,
            "linecolor": "white",
            "showbackground": true,
            "ticks": "",
            "zerolinecolor": "white"
           },
           "zaxis": {
            "backgroundcolor": "#E5ECF6",
            "gridcolor": "white",
            "gridwidth": 2,
            "linecolor": "white",
            "showbackground": true,
            "ticks": "",
            "zerolinecolor": "white"
           }
          },
          "shapedefaults": {
           "line": {
            "color": "#2a3f5f"
           }
          },
          "ternary": {
           "aaxis": {
            "gridcolor": "white",
            "linecolor": "white",
            "ticks": ""
           },
           "baxis": {
            "gridcolor": "white",
            "linecolor": "white",
            "ticks": ""
           },
           "bgcolor": "#E5ECF6",
           "caxis": {
            "gridcolor": "white",
            "linecolor": "white",
            "ticks": ""
           }
          },
          "title": {
           "x": 0.05
          },
          "xaxis": {
           "automargin": true,
           "gridcolor": "white",
           "linecolor": "white",
           "ticks": "",
           "title": {
            "standoff": 15
           },
           "zerolinecolor": "white",
           "zerolinewidth": 2
          },
          "yaxis": {
           "automargin": true,
           "gridcolor": "white",
           "linecolor": "white",
           "ticks": "",
           "title": {
            "standoff": 15
           },
           "zerolinecolor": "white",
           "zerolinewidth": 2
          }
         }
        },
        "xaxis": {
         "anchor": "y",
         "domain": [
          0,
          1
         ],
         "title": {
          "text": "YearsCodePro"
         }
        },
        "yaxis": {
         "anchor": "x",
         "domain": [
          0,
          1
         ],
         "title": {
          "text": "CompTotal"
         }
        }
       }
      }
     },
     "metadata": {},
     "output_type": "display_data"
    }
   ],
   "source": [
    "import plotly.express as px\n",
    "\n",
    "fig = px.scatter(a, x=\"YearsCodePro\", y=\"CompTotal\",\n",
    "                 hover_name=\"techs\",\n",
    "                 log_x=False, size_max=60)\n",
    "fig"
   ]
  }
 ],
 "metadata": {
  "kernelspec": {
   "display_name": "Python 3",
   "language": "python",
   "name": "python3"
  },
  "language_info": {
   "codemirror_mode": {
    "name": "ipython",
    "version": 3
   },
   "file_extension": ".py",
   "mimetype": "text/x-python",
   "name": "python",
   "nbconvert_exporter": "python",
   "pygments_lexer": "ipython3",
   "version": "3.10.8"
  },
  "orig_nbformat": 4,
  "vscode": {
   "interpreter": {
    "hash": "811a7362ed9f666189841f0798f909cd2b4bf640e24017338d8fe21f8e275376"
   }
  }
 },
 "nbformat": 4,
 "nbformat_minor": 2
}
