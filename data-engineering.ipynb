{
 "cells": [
  {
   "cell_type": "markdown",
   "metadata": {},
   "source": [
    "# Data Engineering - Filter interesting data"
   ]
  },
  {
   "cell_type": "markdown",
   "metadata": {},
   "source": [
    "## Import librairies"
   ]
  },
  {
   "cell_type": "code",
   "execution_count": 1,
   "metadata": {},
   "outputs": [],
   "source": [
    "import numpy as np\n",
    "import pandas as pd\n",
    "import matplotlib.pyplot as plt\n",
    "import seaborn as sns"
   ]
  },
  {
   "cell_type": "markdown",
   "metadata": {},
   "source": [
    "## Read the dataset"
   ]
  },
  {
   "cell_type": "code",
   "execution_count": 2,
   "metadata": {},
   "outputs": [
    {
     "name": "stdout",
     "output_type": "stream",
     "text": [
      "73268\n"
     ]
    },
    {
     "data": {
      "text/html": [
       "<div>\n",
       "<style scoped>\n",
       "    .dataframe tbody tr th:only-of-type {\n",
       "        vertical-align: middle;\n",
       "    }\n",
       "\n",
       "    .dataframe tbody tr th {\n",
       "        vertical-align: top;\n",
       "    }\n",
       "\n",
       "    .dataframe thead th {\n",
       "        text-align: right;\n",
       "    }\n",
       "</style>\n",
       "<table border=\"1\" class=\"dataframe\">\n",
       "  <thead>\n",
       "    <tr style=\"text-align: right;\">\n",
       "      <th></th>\n",
       "      <th>ResponseId</th>\n",
       "      <th>MainBranch</th>\n",
       "      <th>Employment</th>\n",
       "      <th>RemoteWork</th>\n",
       "      <th>CodingActivities</th>\n",
       "      <th>EdLevel</th>\n",
       "      <th>LearnCode</th>\n",
       "      <th>LearnCodeOnline</th>\n",
       "      <th>LearnCodeCoursesCert</th>\n",
       "      <th>YearsCode</th>\n",
       "      <th>...</th>\n",
       "      <th>TimeSearching</th>\n",
       "      <th>TimeAnswering</th>\n",
       "      <th>Onboarding</th>\n",
       "      <th>ProfessionalTech</th>\n",
       "      <th>TrueFalse_1</th>\n",
       "      <th>TrueFalse_2</th>\n",
       "      <th>TrueFalse_3</th>\n",
       "      <th>SurveyLength</th>\n",
       "      <th>SurveyEase</th>\n",
       "      <th>ConvertedCompYearly</th>\n",
       "    </tr>\n",
       "  </thead>\n",
       "  <tbody>\n",
       "    <tr>\n",
       "      <th>0</th>\n",
       "      <td>1</td>\n",
       "      <td>None of these</td>\n",
       "      <td>NaN</td>\n",
       "      <td>NaN</td>\n",
       "      <td>NaN</td>\n",
       "      <td>NaN</td>\n",
       "      <td>NaN</td>\n",
       "      <td>NaN</td>\n",
       "      <td>NaN</td>\n",
       "      <td>NaN</td>\n",
       "      <td>...</td>\n",
       "      <td>NaN</td>\n",
       "      <td>NaN</td>\n",
       "      <td>NaN</td>\n",
       "      <td>NaN</td>\n",
       "      <td>NaN</td>\n",
       "      <td>NaN</td>\n",
       "      <td>NaN</td>\n",
       "      <td>NaN</td>\n",
       "      <td>NaN</td>\n",
       "      <td>NaN</td>\n",
       "    </tr>\n",
       "    <tr>\n",
       "      <th>1</th>\n",
       "      <td>2</td>\n",
       "      <td>I am a developer by profession</td>\n",
       "      <td>Employed, full-time</td>\n",
       "      <td>Fully remote</td>\n",
       "      <td>Hobby;Contribute to open-source projects</td>\n",
       "      <td>NaN</td>\n",
       "      <td>NaN</td>\n",
       "      <td>NaN</td>\n",
       "      <td>NaN</td>\n",
       "      <td>NaN</td>\n",
       "      <td>...</td>\n",
       "      <td>NaN</td>\n",
       "      <td>NaN</td>\n",
       "      <td>NaN</td>\n",
       "      <td>NaN</td>\n",
       "      <td>NaN</td>\n",
       "      <td>NaN</td>\n",
       "      <td>NaN</td>\n",
       "      <td>Too long</td>\n",
       "      <td>Difficult</td>\n",
       "      <td>NaN</td>\n",
       "    </tr>\n",
       "    <tr>\n",
       "      <th>2</th>\n",
       "      <td>3</td>\n",
       "      <td>I am not primarily a developer, but I write co...</td>\n",
       "      <td>Employed, full-time</td>\n",
       "      <td>Hybrid (some remote, some in-person)</td>\n",
       "      <td>Hobby</td>\n",
       "      <td>Master’s degree (M.A., M.S., M.Eng., MBA, etc.)</td>\n",
       "      <td>Books / Physical media;Friend or family member...</td>\n",
       "      <td>Technical documentation;Blogs;Programming Game...</td>\n",
       "      <td>NaN</td>\n",
       "      <td>14</td>\n",
       "      <td>...</td>\n",
       "      <td>NaN</td>\n",
       "      <td>NaN</td>\n",
       "      <td>NaN</td>\n",
       "      <td>NaN</td>\n",
       "      <td>NaN</td>\n",
       "      <td>NaN</td>\n",
       "      <td>NaN</td>\n",
       "      <td>Appropriate in length</td>\n",
       "      <td>Neither easy nor difficult</td>\n",
       "      <td>40205.0</td>\n",
       "    </tr>\n",
       "    <tr>\n",
       "      <th>3</th>\n",
       "      <td>4</td>\n",
       "      <td>I am a developer by profession</td>\n",
       "      <td>Employed, full-time</td>\n",
       "      <td>Fully remote</td>\n",
       "      <td>I don’t code outside of work</td>\n",
       "      <td>Bachelor’s degree (B.A., B.S., B.Eng., etc.)</td>\n",
       "      <td>Books / Physical media;School (i.e., Universit...</td>\n",
       "      <td>NaN</td>\n",
       "      <td>NaN</td>\n",
       "      <td>20</td>\n",
       "      <td>...</td>\n",
       "      <td>NaN</td>\n",
       "      <td>NaN</td>\n",
       "      <td>NaN</td>\n",
       "      <td>NaN</td>\n",
       "      <td>NaN</td>\n",
       "      <td>NaN</td>\n",
       "      <td>NaN</td>\n",
       "      <td>Appropriate in length</td>\n",
       "      <td>Easy</td>\n",
       "      <td>215232.0</td>\n",
       "    </tr>\n",
       "    <tr>\n",
       "      <th>4</th>\n",
       "      <td>5</td>\n",
       "      <td>I am a developer by profession</td>\n",
       "      <td>Employed, full-time</td>\n",
       "      <td>Hybrid (some remote, some in-person)</td>\n",
       "      <td>Hobby</td>\n",
       "      <td>Bachelor’s degree (B.A., B.S., B.Eng., etc.)</td>\n",
       "      <td>Other online resources (e.g., videos, blogs, f...</td>\n",
       "      <td>Technical documentation;Blogs;Stack Overflow;O...</td>\n",
       "      <td>NaN</td>\n",
       "      <td>8</td>\n",
       "      <td>...</td>\n",
       "      <td>NaN</td>\n",
       "      <td>NaN</td>\n",
       "      <td>NaN</td>\n",
       "      <td>NaN</td>\n",
       "      <td>NaN</td>\n",
       "      <td>NaN</td>\n",
       "      <td>NaN</td>\n",
       "      <td>Too long</td>\n",
       "      <td>Easy</td>\n",
       "      <td>NaN</td>\n",
       "    </tr>\n",
       "  </tbody>\n",
       "</table>\n",
       "<p>5 rows × 79 columns</p>\n",
       "</div>"
      ],
      "text/plain": [
       "   ResponseId                                         MainBranch  \\\n",
       "0           1                                      None of these   \n",
       "1           2                     I am a developer by profession   \n",
       "2           3  I am not primarily a developer, but I write co...   \n",
       "3           4                     I am a developer by profession   \n",
       "4           5                     I am a developer by profession   \n",
       "\n",
       "            Employment                            RemoteWork  \\\n",
       "0                  NaN                                   NaN   \n",
       "1  Employed, full-time                          Fully remote   \n",
       "2  Employed, full-time  Hybrid (some remote, some in-person)   \n",
       "3  Employed, full-time                          Fully remote   \n",
       "4  Employed, full-time  Hybrid (some remote, some in-person)   \n",
       "\n",
       "                           CodingActivities  \\\n",
       "0                                       NaN   \n",
       "1  Hobby;Contribute to open-source projects   \n",
       "2                                     Hobby   \n",
       "3              I don’t code outside of work   \n",
       "4                                     Hobby   \n",
       "\n",
       "                                           EdLevel  \\\n",
       "0                                              NaN   \n",
       "1                                              NaN   \n",
       "2  Master’s degree (M.A., M.S., M.Eng., MBA, etc.)   \n",
       "3     Bachelor’s degree (B.A., B.S., B.Eng., etc.)   \n",
       "4     Bachelor’s degree (B.A., B.S., B.Eng., etc.)   \n",
       "\n",
       "                                           LearnCode  \\\n",
       "0                                                NaN   \n",
       "1                                                NaN   \n",
       "2  Books / Physical media;Friend or family member...   \n",
       "3  Books / Physical media;School (i.e., Universit...   \n",
       "4  Other online resources (e.g., videos, blogs, f...   \n",
       "\n",
       "                                     LearnCodeOnline LearnCodeCoursesCert  \\\n",
       "0                                                NaN                  NaN   \n",
       "1                                                NaN                  NaN   \n",
       "2  Technical documentation;Blogs;Programming Game...                  NaN   \n",
       "3                                                NaN                  NaN   \n",
       "4  Technical documentation;Blogs;Stack Overflow;O...                  NaN   \n",
       "\n",
       "  YearsCode  ... TimeSearching TimeAnswering Onboarding ProfessionalTech  \\\n",
       "0       NaN  ...           NaN           NaN        NaN              NaN   \n",
       "1       NaN  ...           NaN           NaN        NaN              NaN   \n",
       "2        14  ...           NaN           NaN        NaN              NaN   \n",
       "3        20  ...           NaN           NaN        NaN              NaN   \n",
       "4         8  ...           NaN           NaN        NaN              NaN   \n",
       "\n",
       "  TrueFalse_1 TrueFalse_2 TrueFalse_3           SurveyLength  \\\n",
       "0         NaN         NaN         NaN                    NaN   \n",
       "1         NaN         NaN         NaN               Too long   \n",
       "2         NaN         NaN         NaN  Appropriate in length   \n",
       "3         NaN         NaN         NaN  Appropriate in length   \n",
       "4         NaN         NaN         NaN               Too long   \n",
       "\n",
       "                   SurveyEase ConvertedCompYearly  \n",
       "0                         NaN                 NaN  \n",
       "1                   Difficult                 NaN  \n",
       "2  Neither easy nor difficult             40205.0  \n",
       "3                        Easy            215232.0  \n",
       "4                        Easy                 NaN  \n",
       "\n",
       "[5 rows x 79 columns]"
      ]
     },
     "execution_count": 2,
     "metadata": {},
     "output_type": "execute_result"
    }
   ],
   "source": [
    "df = pd.read_csv('survey_results_public.csv')\n",
    "print(len(df))\n",
    "df.head()"
   ]
  },
  {
   "cell_type": "markdown",
   "metadata": {},
   "source": [
    "## Filter the column for the dataset of the first page\n",
    "\n",
    "The input columns will be used as a filter. These are the columns to keep :\n",
    "\n",
    "- YearsCodePro (Years of coding as a pro)\n",
    "- EdLevel (Education level)\n",
    "- Devtype (Development type)\n",
    "- Country\n",
    "- OrgSize (Organization Size)\n",
    "\n",
    "The output columns to keep are :\n",
    "\n",
    "- CompTotal (Total Salary)\n",
    "- CompFreq (Annual or mensual salary)\n",
    "\n",
    "These two columns can be broadcaster into one, for instance converting everything into an annual salary.\n",
    "\n",
    "Additionnally, the following columns have to be filtered :\n",
    "\n",
    "The MainBranch column will have to be filtered to only keep the line containing \"I am a developer by profession\".\n",
    "\n"
   ]
  },
  {
   "cell_type": "code",
   "execution_count": 3,
   "metadata": {},
   "outputs": [
    {
     "name": "stdout",
     "output_type": "stream",
     "text": [
      "73268\n",
      "53507\n",
      "21113\n"
     ]
    },
    {
     "data": {
      "text/html": [
       "<div>\n",
       "<style scoped>\n",
       "    .dataframe tbody tr th:only-of-type {\n",
       "        vertical-align: middle;\n",
       "    }\n",
       "\n",
       "    .dataframe tbody tr th {\n",
       "        vertical-align: top;\n",
       "    }\n",
       "\n",
       "    .dataframe thead th {\n",
       "        text-align: right;\n",
       "    }\n",
       "</style>\n",
       "<table border=\"1\" class=\"dataframe\">\n",
       "  <thead>\n",
       "    <tr style=\"text-align: right;\">\n",
       "      <th></th>\n",
       "      <th>EdLevel</th>\n",
       "      <th>DevType</th>\n",
       "      <th>OrgSize</th>\n",
       "      <th>Country</th>\n",
       "      <th>YearsCodePro</th>\n",
       "      <th>YearlySalary</th>\n",
       "    </tr>\n",
       "  </thead>\n",
       "  <tbody>\n",
       "    <tr>\n",
       "      <th>8</th>\n",
       "      <td>Master’s degree (M.A., M.S., M.Eng., MBA, etc.)</td>\n",
       "      <td>Developer, back-end</td>\n",
       "      <td>I don’t know</td>\n",
       "      <td>Netherlands</td>\n",
       "      <td>6</td>\n",
       "      <td>46000</td>\n",
       "    </tr>\n",
       "    <tr>\n",
       "      <th>10</th>\n",
       "      <td>Bachelor’s degree (B.A., B.S., B.Eng., etc.)</td>\n",
       "      <td>Developer, full-stack;Developer, back-end</td>\n",
       "      <td>100 to 499 employees</td>\n",
       "      <td>United Kingdom of Great Britain and Northern I...</td>\n",
       "      <td>2</td>\n",
       "      <td>48000</td>\n",
       "    </tr>\n",
       "    <tr>\n",
       "      <th>12</th>\n",
       "      <td>Bachelor’s degree (B.A., B.S., B.Eng., etc.)</td>\n",
       "      <td>Developer, full-stack</td>\n",
       "      <td>2 to 9 employees</td>\n",
       "      <td>United States of America</td>\n",
       "      <td>5</td>\n",
       "      <td>65000</td>\n",
       "    </tr>\n",
       "    <tr>\n",
       "      <th>14</th>\n",
       "      <td>Master’s degree (M.A., M.S., M.Eng., MBA, etc.)</td>\n",
       "      <td>Developer, full-stack;Academic researcher;DevO...</td>\n",
       "      <td>5,000 to 9,999 employees</td>\n",
       "      <td>United States of America</td>\n",
       "      <td>5</td>\n",
       "      <td>110000</td>\n",
       "    </tr>\n",
       "    <tr>\n",
       "      <th>17</th>\n",
       "      <td>Master’s degree (M.A., M.S., M.Eng., MBA, etc.)</td>\n",
       "      <td>Engineer, data</td>\n",
       "      <td>1,000 to 4,999 employees</td>\n",
       "      <td>Austria</td>\n",
       "      <td>10</td>\n",
       "      <td>190000</td>\n",
       "    </tr>\n",
       "    <tr>\n",
       "      <th>...</th>\n",
       "      <td>...</td>\n",
       "      <td>...</td>\n",
       "      <td>...</td>\n",
       "      <td>...</td>\n",
       "      <td>...</td>\n",
       "      <td>...</td>\n",
       "    </tr>\n",
       "    <tr>\n",
       "      <th>73251</th>\n",
       "      <td>Master’s degree (M.A., M.S., M.Eng., MBA, etc.)</td>\n",
       "      <td>Developer, full-stack</td>\n",
       "      <td>20 to 99 employees</td>\n",
       "      <td>France</td>\n",
       "      <td>8</td>\n",
       "      <td>65000</td>\n",
       "    </tr>\n",
       "    <tr>\n",
       "      <th>73253</th>\n",
       "      <td>Master’s degree (M.A., M.S., M.Eng., MBA, etc.)</td>\n",
       "      <td>Developer, back-end</td>\n",
       "      <td>500 to 999 employees</td>\n",
       "      <td>Australia</td>\n",
       "      <td>3</td>\n",
       "      <td>121000</td>\n",
       "    </tr>\n",
       "    <tr>\n",
       "      <th>73261</th>\n",
       "      <td>Master’s degree (M.A., M.S., M.Eng., MBA, etc.)</td>\n",
       "      <td>Developer, full-stack</td>\n",
       "      <td>10,000 or more employees</td>\n",
       "      <td>France</td>\n",
       "      <td>2</td>\n",
       "      <td>36000</td>\n",
       "    </tr>\n",
       "    <tr>\n",
       "      <th>73264</th>\n",
       "      <td>Master’s degree (M.A., M.S., M.Eng., MBA, etc.)</td>\n",
       "      <td>Data scientist or machine learning specialist</td>\n",
       "      <td>I don’t know</td>\n",
       "      <td>United States of America</td>\n",
       "      <td>5</td>\n",
       "      <td>107000</td>\n",
       "    </tr>\n",
       "    <tr>\n",
       "      <th>73266</th>\n",
       "      <td>Bachelor’s degree (B.A., B.S., B.Eng., etc.)</td>\n",
       "      <td>Developer, front-end;Developer, desktop or ent...</td>\n",
       "      <td>10 to 19 employees</td>\n",
       "      <td>United Kingdom of Great Britain and Northern I...</td>\n",
       "      <td>31</td>\n",
       "      <td>58500</td>\n",
       "    </tr>\n",
       "  </tbody>\n",
       "</table>\n",
       "<p>21113 rows × 6 columns</p>\n",
       "</div>"
      ],
      "text/plain": [
       "                                               EdLevel  \\\n",
       "8      Master’s degree (M.A., M.S., M.Eng., MBA, etc.)   \n",
       "10        Bachelor’s degree (B.A., B.S., B.Eng., etc.)   \n",
       "12        Bachelor’s degree (B.A., B.S., B.Eng., etc.)   \n",
       "14     Master’s degree (M.A., M.S., M.Eng., MBA, etc.)   \n",
       "17     Master’s degree (M.A., M.S., M.Eng., MBA, etc.)   \n",
       "...                                                ...   \n",
       "73251  Master’s degree (M.A., M.S., M.Eng., MBA, etc.)   \n",
       "73253  Master’s degree (M.A., M.S., M.Eng., MBA, etc.)   \n",
       "73261  Master’s degree (M.A., M.S., M.Eng., MBA, etc.)   \n",
       "73264  Master’s degree (M.A., M.S., M.Eng., MBA, etc.)   \n",
       "73266     Bachelor’s degree (B.A., B.S., B.Eng., etc.)   \n",
       "\n",
       "                                                 DevType  \\\n",
       "8                                    Developer, back-end   \n",
       "10             Developer, full-stack;Developer, back-end   \n",
       "12                                 Developer, full-stack   \n",
       "14     Developer, full-stack;Academic researcher;DevO...   \n",
       "17                                        Engineer, data   \n",
       "...                                                  ...   \n",
       "73251                              Developer, full-stack   \n",
       "73253                                Developer, back-end   \n",
       "73261                              Developer, full-stack   \n",
       "73264      Data scientist or machine learning specialist   \n",
       "73266  Developer, front-end;Developer, desktop or ent...   \n",
       "\n",
       "                        OrgSize  \\\n",
       "8                  I don’t know   \n",
       "10         100 to 499 employees   \n",
       "12             2 to 9 employees   \n",
       "14     5,000 to 9,999 employees   \n",
       "17     1,000 to 4,999 employees   \n",
       "...                         ...   \n",
       "73251        20 to 99 employees   \n",
       "73253      500 to 999 employees   \n",
       "73261  10,000 or more employees   \n",
       "73264              I don’t know   \n",
       "73266        10 to 19 employees   \n",
       "\n",
       "                                                 Country YearsCodePro  \\\n",
       "8                                            Netherlands            6   \n",
       "10     United Kingdom of Great Britain and Northern I...            2   \n",
       "12                              United States of America            5   \n",
       "14                              United States of America            5   \n",
       "17                                               Austria           10   \n",
       "...                                                  ...          ...   \n",
       "73251                                             France            8   \n",
       "73253                                          Australia            3   \n",
       "73261                                             France            2   \n",
       "73264                           United States of America            5   \n",
       "73266  United Kingdom of Great Britain and Northern I...           31   \n",
       "\n",
       "      YearlySalary  \n",
       "8            46000  \n",
       "10           48000  \n",
       "12           65000  \n",
       "14          110000  \n",
       "17          190000  \n",
       "...            ...  \n",
       "73251        65000  \n",
       "73253       121000  \n",
       "73261        36000  \n",
       "73264       107000  \n",
       "73266        58500  \n",
       "\n",
       "[21113 rows x 6 columns]"
      ]
     },
     "execution_count": 3,
     "metadata": {},
     "output_type": "execute_result"
    }
   ],
   "source": [
    "# Filter the data to only keep profesionnal developers\n",
    "print(len(df))\n",
    "df_filtered = df[df['MainBranch'].str.contains(\"I am a developer by profession\")]\n",
    "print(len(df_filtered))\n",
    "\n",
    "# Also filter to only relevants countries\n",
    "def filter(df, column, filters):\n",
    "    return df[df[column].isin(filters)]\n",
    "\n",
    "countries = [\n",
    "    'United States of America',\n",
    "    'Switzerland',\n",
    "    'United Kingdom of Great Britain and Northern Ireland',\n",
    "    'France',\n",
    "    'Germany',\n",
    "    'Netherlands',\n",
    "    'Spain',\n",
    "    'Italy',\n",
    "    'Austria',\n",
    "    'Italy',\n",
    "    'Canada',\n",
    "    'Ireland',\n",
    "    'Sweden',\n",
    "    'Norway',\n",
    "    'Australia',\n",
    "    'Denmark'\n",
    "]\n",
    "\n",
    "df_filtered = filter(df_filtered,'Country',countries)\n",
    "\n",
    "# df_filtered = df_filtered[df_filtered['Country'].str.contains(\"America\")]\n",
    "\n",
    "selectedInput = [\n",
    "    'EdLevel',\n",
    "    'DevType',\n",
    "    'OrgSize',\n",
    "    'Country',\n",
    "    'YearsCodePro'\n",
    "]\n",
    "selectedOutput = [\n",
    "    'CompTotal',\n",
    "    'CompFreq'\n",
    "]\n",
    "\n",
    "df_features = df_filtered[selectedInput + selectedOutput]\n",
    "# Remove row that have NaN salary\n",
    "df_features = df_features[df_features['CompTotal'].notna()]\n",
    "df_features = df_features[df_features['CompFreq'].notna()]\n",
    "\n",
    "# Convert monthly salary to yearly, then drop the CompTotal and CompFreq columns\n",
    "df_features['YearlySalary'] = df_features.apply(lambda row: int(row['CompTotal'] * 12) if row['CompFreq'] == \"Monthly\" else int(row['CompTotal']), axis=1)\n",
    "df_features = df_features.drop(['CompTotal', 'CompFreq'] , axis=1)\n",
    "\n",
    "# Filter outliers\n",
    "min_yearly_salary = 0\n",
    "max_yearly_salary = 1e7\n",
    "df_features = df_features.loc[df_features['YearlySalary'] > min_yearly_salary]\n",
    "df_features = df_features.loc[df_features['YearlySalary'] < max_yearly_salary]\n",
    "\n",
    "print(len(df_features))\n",
    "\n",
    "df_features"
   ]
  },
  {
   "cell_type": "code",
   "execution_count": 4,
   "metadata": {},
   "outputs": [
    {
     "data": {
      "text/html": [
       "<div>\n",
       "<style scoped>\n",
       "    .dataframe tbody tr th:only-of-type {\n",
       "        vertical-align: middle;\n",
       "    }\n",
       "\n",
       "    .dataframe tbody tr th {\n",
       "        vertical-align: top;\n",
       "    }\n",
       "\n",
       "    .dataframe thead th {\n",
       "        text-align: right;\n",
       "    }\n",
       "</style>\n",
       "<table border=\"1\" class=\"dataframe\">\n",
       "  <thead>\n",
       "    <tr style=\"text-align: right;\">\n",
       "      <th></th>\n",
       "      <th>EdLevel</th>\n",
       "      <th>DevType</th>\n",
       "      <th>OrgSize</th>\n",
       "      <th>Country</th>\n",
       "      <th>YearsCodePro</th>\n",
       "      <th>YearlySalary</th>\n",
       "    </tr>\n",
       "  </thead>\n",
       "  <tbody>\n",
       "    <tr>\n",
       "      <th>8</th>\n",
       "      <td>Master’s degree (M.A., M.S., M.Eng., MBA, etc.)</td>\n",
       "      <td>Developer, back-end</td>\n",
       "      <td>I don’t know</td>\n",
       "      <td>Netherlands</td>\n",
       "      <td>6</td>\n",
       "      <td>46000</td>\n",
       "    </tr>\n",
       "    <tr>\n",
       "      <th>10</th>\n",
       "      <td>Bachelor’s degree (B.A., B.S., B.Eng., etc.)</td>\n",
       "      <td>Developer, full-stack</td>\n",
       "      <td>100 to 499 employees</td>\n",
       "      <td>United Kingdom of Great Britain and Northern I...</td>\n",
       "      <td>2</td>\n",
       "      <td>48000</td>\n",
       "    </tr>\n",
       "    <tr>\n",
       "      <th>10</th>\n",
       "      <td>Bachelor’s degree (B.A., B.S., B.Eng., etc.)</td>\n",
       "      <td>Developer, back-end</td>\n",
       "      <td>100 to 499 employees</td>\n",
       "      <td>United Kingdom of Great Britain and Northern I...</td>\n",
       "      <td>2</td>\n",
       "      <td>48000</td>\n",
       "    </tr>\n",
       "    <tr>\n",
       "      <th>12</th>\n",
       "      <td>Bachelor’s degree (B.A., B.S., B.Eng., etc.)</td>\n",
       "      <td>Developer, full-stack</td>\n",
       "      <td>2 to 9 employees</td>\n",
       "      <td>United States of America</td>\n",
       "      <td>5</td>\n",
       "      <td>65000</td>\n",
       "    </tr>\n",
       "    <tr>\n",
       "      <th>14</th>\n",
       "      <td>Master’s degree (M.A., M.S., M.Eng., MBA, etc.)</td>\n",
       "      <td>Developer, full-stack</td>\n",
       "      <td>5,000 to 9,999 employees</td>\n",
       "      <td>United States of America</td>\n",
       "      <td>5</td>\n",
       "      <td>110000</td>\n",
       "    </tr>\n",
       "    <tr>\n",
       "      <th>...</th>\n",
       "      <td>...</td>\n",
       "      <td>...</td>\n",
       "      <td>...</td>\n",
       "      <td>...</td>\n",
       "      <td>...</td>\n",
       "      <td>...</td>\n",
       "    </tr>\n",
       "    <tr>\n",
       "      <th>73253</th>\n",
       "      <td>Master’s degree (M.A., M.S., M.Eng., MBA, etc.)</td>\n",
       "      <td>Developer, back-end</td>\n",
       "      <td>500 to 999 employees</td>\n",
       "      <td>Australia</td>\n",
       "      <td>3</td>\n",
       "      <td>121000</td>\n",
       "    </tr>\n",
       "    <tr>\n",
       "      <th>73261</th>\n",
       "      <td>Master’s degree (M.A., M.S., M.Eng., MBA, etc.)</td>\n",
       "      <td>Developer, full-stack</td>\n",
       "      <td>10,000 or more employees</td>\n",
       "      <td>France</td>\n",
       "      <td>2</td>\n",
       "      <td>36000</td>\n",
       "    </tr>\n",
       "    <tr>\n",
       "      <th>73264</th>\n",
       "      <td>Master’s degree (M.A., M.S., M.Eng., MBA, etc.)</td>\n",
       "      <td>Data scientist or machine learning specialist</td>\n",
       "      <td>I don’t know</td>\n",
       "      <td>United States of America</td>\n",
       "      <td>5</td>\n",
       "      <td>107000</td>\n",
       "    </tr>\n",
       "    <tr>\n",
       "      <th>73266</th>\n",
       "      <td>Bachelor’s degree (B.A., B.S., B.Eng., etc.)</td>\n",
       "      <td>Developer, front-end</td>\n",
       "      <td>10 to 19 employees</td>\n",
       "      <td>United Kingdom of Great Britain and Northern I...</td>\n",
       "      <td>31</td>\n",
       "      <td>58500</td>\n",
       "    </tr>\n",
       "    <tr>\n",
       "      <th>73266</th>\n",
       "      <td>Bachelor’s degree (B.A., B.S., B.Eng., etc.)</td>\n",
       "      <td>Developer, desktop or enterprise applications</td>\n",
       "      <td>10 to 19 employees</td>\n",
       "      <td>United Kingdom of Great Britain and Northern I...</td>\n",
       "      <td>31</td>\n",
       "      <td>58500</td>\n",
       "    </tr>\n",
       "  </tbody>\n",
       "</table>\n",
       "<p>56772 rows × 6 columns</p>\n",
       "</div>"
      ],
      "text/plain": [
       "                                               EdLevel  \\\n",
       "8      Master’s degree (M.A., M.S., M.Eng., MBA, etc.)   \n",
       "10        Bachelor’s degree (B.A., B.S., B.Eng., etc.)   \n",
       "10        Bachelor’s degree (B.A., B.S., B.Eng., etc.)   \n",
       "12        Bachelor’s degree (B.A., B.S., B.Eng., etc.)   \n",
       "14     Master’s degree (M.A., M.S., M.Eng., MBA, etc.)   \n",
       "...                                                ...   \n",
       "73253  Master’s degree (M.A., M.S., M.Eng., MBA, etc.)   \n",
       "73261  Master’s degree (M.A., M.S., M.Eng., MBA, etc.)   \n",
       "73264  Master’s degree (M.A., M.S., M.Eng., MBA, etc.)   \n",
       "73266     Bachelor’s degree (B.A., B.S., B.Eng., etc.)   \n",
       "73266     Bachelor’s degree (B.A., B.S., B.Eng., etc.)   \n",
       "\n",
       "                                             DevType  \\\n",
       "8                                Developer, back-end   \n",
       "10                             Developer, full-stack   \n",
       "10                               Developer, back-end   \n",
       "12                             Developer, full-stack   \n",
       "14                             Developer, full-stack   \n",
       "...                                              ...   \n",
       "73253                            Developer, back-end   \n",
       "73261                          Developer, full-stack   \n",
       "73264  Data scientist or machine learning specialist   \n",
       "73266                           Developer, front-end   \n",
       "73266  Developer, desktop or enterprise applications   \n",
       "\n",
       "                        OrgSize  \\\n",
       "8                  I don’t know   \n",
       "10         100 to 499 employees   \n",
       "10         100 to 499 employees   \n",
       "12             2 to 9 employees   \n",
       "14     5,000 to 9,999 employees   \n",
       "...                         ...   \n",
       "73253      500 to 999 employees   \n",
       "73261  10,000 or more employees   \n",
       "73264              I don’t know   \n",
       "73266        10 to 19 employees   \n",
       "73266        10 to 19 employees   \n",
       "\n",
       "                                                 Country YearsCodePro  \\\n",
       "8                                            Netherlands            6   \n",
       "10     United Kingdom of Great Britain and Northern I...            2   \n",
       "10     United Kingdom of Great Britain and Northern I...            2   \n",
       "12                              United States of America            5   \n",
       "14                              United States of America            5   \n",
       "...                                                  ...          ...   \n",
       "73253                                          Australia            3   \n",
       "73261                                             France            2   \n",
       "73264                           United States of America            5   \n",
       "73266  United Kingdom of Great Britain and Northern I...           31   \n",
       "73266  United Kingdom of Great Britain and Northern I...           31   \n",
       "\n",
       "      YearlySalary  \n",
       "8            46000  \n",
       "10           48000  \n",
       "10           48000  \n",
       "12           65000  \n",
       "14          110000  \n",
       "...            ...  \n",
       "73253       121000  \n",
       "73261        36000  \n",
       "73264       107000  \n",
       "73266        58500  \n",
       "73266        58500  \n",
       "\n",
       "[56772 rows x 6 columns]"
      ]
     },
     "execution_count": 4,
     "metadata": {},
     "output_type": "execute_result"
    }
   ],
   "source": [
    "df_features['DevType'] = df_features['DevType'].str.split(';')\n",
    "df_features = df_features.explode(['DevType'])\n",
    "df_features"
   ]
  },
  {
   "attachments": {},
   "cell_type": "markdown",
   "metadata": {},
   "source": [
    "Replace education level too long"
   ]
  },
  {
   "cell_type": "code",
   "execution_count": 5,
   "metadata": {},
   "outputs": [
    {
     "data": {
      "text/plain": [
       "Bachelor                                     24590\n",
       "Master                                       14759\n",
       "University study without earning a degree     7713\n",
       "Gymnasium                                     3118\n",
       "Associate degree                              2381\n",
       "Ph.D.                                         2208\n",
       "Professional degree                            849\n",
       "Something else                                 670\n",
       "Elementary school                              465\n",
       "Name: EdLevel, dtype: int64"
      ]
     },
     "execution_count": 5,
     "metadata": {},
     "output_type": "execute_result"
    }
   ],
   "source": [
    "df_features['EdLevel'] = df_features['EdLevel'].replace(to_replace=\"Master’s degree (M.A., M.S., M.Eng., MBA, etc.)\", value='Master')\n",
    "df_features['EdLevel'] = df_features['EdLevel'].replace(to_replace=\"Bachelor’s degree (B.A., B.S., B.Eng., etc.)\", value='Bachelor')\n",
    "df_features['EdLevel'] = df_features['EdLevel'].replace(to_replace=\"Secondary school (e.g. American high school, German Realschule or Gymnasium, etc.)\", value='Gymnasium')\n",
    "df_features['EdLevel'] = df_features['EdLevel'].replace(to_replace=\"Some college/university study without earning a degree\", value='University study without earning a degree')\n",
    "df_features['EdLevel'] = df_features['EdLevel'].replace(to_replace=\"Associate degree (A.A., A.S., etc.)\", value='Associate degree')\n",
    "df_features['EdLevel'] = df_features['EdLevel'].replace(to_replace=\"Professional degree (JD, MD, etc.)\", value='Professional degree')\n",
    "df_features['EdLevel'] = df_features['EdLevel'].replace(to_replace=\"Other doctoral degree (Ph.D., Ed.D., etc.)\", value='Ph.D.')\n",
    "df_features['EdLevel'] = df_features['EdLevel'].replace(to_replace=\"Primary/elementary school\", value='Elementary school')\n",
    "df_features['EdLevel'].value_counts()"
   ]
  },
  {
   "cell_type": "code",
   "execution_count": 6,
   "metadata": {},
   "outputs": [],
   "source": [
    "df_features['Country'] = df_features['Country'].replace(to_replace=\"United Kingdom of Great Britain and Northern Ireland\", value='United Kingdom')"
   ]
  },
  {
   "attachments": {},
   "cell_type": "markdown",
   "metadata": {},
   "source": [
    "Parse the YearsCodePro column"
   ]
  },
  {
   "cell_type": "code",
   "execution_count": 7,
   "metadata": {},
   "outputs": [
    {
     "data": {
      "text/plain": [
       "<IntegerArray>\n",
       "[   6,    2,    5,   10,   22,    4,   20,    9,   14,   21,   15,   25,    7,\n",
       "    8,   12,   19,    3,    1,   17,   28,   24,   11,   23,   45,    0,   18,\n",
       "   40,   37,   46,   32,   13,   31,   39,   27,   16,   26,   30,   35,   29,\n",
       "   42,   38, <NA>,   34,   36,   41,   44,   33,   48,   50,   43,   49,   47]\n",
       "Length: 52, dtype: Int64"
      ]
     },
     "execution_count": 7,
     "metadata": {},
     "output_type": "execute_result"
    }
   ],
   "source": [
    "df_features['YearsCodePro'] = df_features['YearsCodePro'].str.replace('Less than 1 year', '0')\n",
    "df_features['YearsCodePro'] = df_features['YearsCodePro'].str.replace('More than 50 years', '50')\n",
    "df_features['YearsCodePro'] = pd.to_numeric(df_features['YearsCodePro'], downcast='integer').astype('Int64')\n",
    "df_features['YearsCodePro'].unique()"
   ]
  },
  {
   "attachments": {},
   "cell_type": "markdown",
   "metadata": {},
   "source": [
    "Remove YearlySalary outliers"
   ]
  },
  {
   "cell_type": "code",
   "execution_count": 8,
   "metadata": {},
   "outputs": [
    {
     "data": {
      "text/plain": [
       "['I don’t know',\n",
       " '100 - 499',\n",
       " '2 - 9',\n",
       " '5,000 - 9,999',\n",
       " '1,000 - 4,999',\n",
       " '20 - 99',\n",
       " '10,000+',\n",
       " '1',\n",
       " '500 - 999',\n",
       " '10 - 19',\n",
       " nan]"
      ]
     },
     "execution_count": 8,
     "metadata": {},
     "output_type": "execute_result"
    }
   ],
   "source": [
    "df_features['OrgSize'] = df_features['OrgSize'].replace(to_replace=\"Just me - I am a freelancer, sole proprietor, etc.\", value='1')\n",
    "df_features['OrgSize'] = df_features['OrgSize'].replace(to_replace=\"2 to 9 employees\", value='2 - 9')\n",
    "df_features['OrgSize'] = df_features['OrgSize'].replace(to_replace=\"10 to 19 employees\", value='10 - 19')\n",
    "df_features['OrgSize'] = df_features['OrgSize'].replace(to_replace=\"20 to 99 employees\", value='20 - 99')\n",
    "df_features['OrgSize'] = df_features['OrgSize'].replace(to_replace=\"100 to 499 employees\", value='100 - 499')\n",
    "df_features['OrgSize'] = df_features['OrgSize'].replace(to_replace=\"500 to 999 employees\", value='500 - 999')\n",
    "df_features['OrgSize'] = df_features['OrgSize'].replace(to_replace=\"1,000 to 4,999 employees\", value='1,000 - 4,999')\n",
    "df_features['OrgSize'] = df_features['OrgSize'].replace(to_replace=\"5,000 to 9,999 employees\", value='5,000 - 9,999')\n",
    "df_features['OrgSize'] = df_features['OrgSize'].replace(to_replace=\"10,000 or more employees\", value='10,000+')\n",
    "df_features['OrgSize'].unique().tolist()"
   ]
  },
  {
   "cell_type": "code",
   "execution_count": 9,
   "metadata": {},
   "outputs": [
    {
     "data": {
      "text/html": [
       "<div>\n",
       "<style scoped>\n",
       "    .dataframe tbody tr th:only-of-type {\n",
       "        vertical-align: middle;\n",
       "    }\n",
       "\n",
       "    .dataframe tbody tr th {\n",
       "        vertical-align: top;\n",
       "    }\n",
       "\n",
       "    .dataframe thead th {\n",
       "        text-align: right;\n",
       "    }\n",
       "</style>\n",
       "<table border=\"1\" class=\"dataframe\">\n",
       "  <thead>\n",
       "    <tr style=\"text-align: right;\">\n",
       "      <th></th>\n",
       "      <th>EdLevel</th>\n",
       "      <th>DevType</th>\n",
       "      <th>OrgSize</th>\n",
       "      <th>Country</th>\n",
       "      <th>YearsCodePro</th>\n",
       "      <th>YearlySalary</th>\n",
       "    </tr>\n",
       "  </thead>\n",
       "  <tbody>\n",
       "    <tr>\n",
       "      <th>8</th>\n",
       "      <td>Master</td>\n",
       "      <td>Developer, back-end</td>\n",
       "      <td>I don’t know</td>\n",
       "      <td>Netherlands</td>\n",
       "      <td>6</td>\n",
       "      <td>46000</td>\n",
       "    </tr>\n",
       "    <tr>\n",
       "      <th>10</th>\n",
       "      <td>Bachelor</td>\n",
       "      <td>Developer, full-stack</td>\n",
       "      <td>100 - 499</td>\n",
       "      <td>United Kingdom</td>\n",
       "      <td>2</td>\n",
       "      <td>48000</td>\n",
       "    </tr>\n",
       "    <tr>\n",
       "      <th>10</th>\n",
       "      <td>Bachelor</td>\n",
       "      <td>Developer, back-end</td>\n",
       "      <td>100 - 499</td>\n",
       "      <td>United Kingdom</td>\n",
       "      <td>2</td>\n",
       "      <td>48000</td>\n",
       "    </tr>\n",
       "    <tr>\n",
       "      <th>12</th>\n",
       "      <td>Bachelor</td>\n",
       "      <td>Developer, full-stack</td>\n",
       "      <td>2 - 9</td>\n",
       "      <td>United States of America</td>\n",
       "      <td>5</td>\n",
       "      <td>65000</td>\n",
       "    </tr>\n",
       "    <tr>\n",
       "      <th>14</th>\n",
       "      <td>Master</td>\n",
       "      <td>Developer, full-stack</td>\n",
       "      <td>5,000 - 9,999</td>\n",
       "      <td>United States of America</td>\n",
       "      <td>5</td>\n",
       "      <td>110000</td>\n",
       "    </tr>\n",
       "    <tr>\n",
       "      <th>...</th>\n",
       "      <td>...</td>\n",
       "      <td>...</td>\n",
       "      <td>...</td>\n",
       "      <td>...</td>\n",
       "      <td>...</td>\n",
       "      <td>...</td>\n",
       "    </tr>\n",
       "    <tr>\n",
       "      <th>73253</th>\n",
       "      <td>Master</td>\n",
       "      <td>Developer, back-end</td>\n",
       "      <td>500 - 999</td>\n",
       "      <td>Australia</td>\n",
       "      <td>3</td>\n",
       "      <td>121000</td>\n",
       "    </tr>\n",
       "    <tr>\n",
       "      <th>73261</th>\n",
       "      <td>Master</td>\n",
       "      <td>Developer, full-stack</td>\n",
       "      <td>10,000+</td>\n",
       "      <td>France</td>\n",
       "      <td>2</td>\n",
       "      <td>36000</td>\n",
       "    </tr>\n",
       "    <tr>\n",
       "      <th>73264</th>\n",
       "      <td>Master</td>\n",
       "      <td>Data scientist or machine learning specialist</td>\n",
       "      <td>I don’t know</td>\n",
       "      <td>United States of America</td>\n",
       "      <td>5</td>\n",
       "      <td>107000</td>\n",
       "    </tr>\n",
       "    <tr>\n",
       "      <th>73266</th>\n",
       "      <td>Bachelor</td>\n",
       "      <td>Developer, front-end</td>\n",
       "      <td>10 - 19</td>\n",
       "      <td>United Kingdom</td>\n",
       "      <td>31</td>\n",
       "      <td>58500</td>\n",
       "    </tr>\n",
       "    <tr>\n",
       "      <th>73266</th>\n",
       "      <td>Bachelor</td>\n",
       "      <td>Developer, desktop or enterprise applications</td>\n",
       "      <td>10 - 19</td>\n",
       "      <td>United Kingdom</td>\n",
       "      <td>31</td>\n",
       "      <td>58500</td>\n",
       "    </tr>\n",
       "  </tbody>\n",
       "</table>\n",
       "<p>56772 rows × 6 columns</p>\n",
       "</div>"
      ],
      "text/plain": [
       "        EdLevel                                        DevType        OrgSize  \\\n",
       "8        Master                            Developer, back-end   I don’t know   \n",
       "10     Bachelor                          Developer, full-stack      100 - 499   \n",
       "10     Bachelor                            Developer, back-end      100 - 499   \n",
       "12     Bachelor                          Developer, full-stack          2 - 9   \n",
       "14       Master                          Developer, full-stack  5,000 - 9,999   \n",
       "...         ...                                            ...            ...   \n",
       "73253    Master                            Developer, back-end      500 - 999   \n",
       "73261    Master                          Developer, full-stack        10,000+   \n",
       "73264    Master  Data scientist or machine learning specialist   I don’t know   \n",
       "73266  Bachelor                           Developer, front-end        10 - 19   \n",
       "73266  Bachelor  Developer, desktop or enterprise applications        10 - 19   \n",
       "\n",
       "                        Country  YearsCodePro YearlySalary  \n",
       "8                   Netherlands             6        46000  \n",
       "10               United Kingdom             2        48000  \n",
       "10               United Kingdom             2        48000  \n",
       "12     United States of America             5        65000  \n",
       "14     United States of America             5       110000  \n",
       "...                         ...           ...          ...  \n",
       "73253                 Australia             3       121000  \n",
       "73261                    France             2        36000  \n",
       "73264  United States of America             5       107000  \n",
       "73266            United Kingdom            31        58500  \n",
       "73266            United Kingdom            31        58500  \n",
       "\n",
       "[56772 rows x 6 columns]"
      ]
     },
     "execution_count": 9,
     "metadata": {},
     "output_type": "execute_result"
    }
   ],
   "source": [
    "df_features"
   ]
  },
  {
   "cell_type": "code",
   "execution_count": 10,
   "metadata": {},
   "outputs": [],
   "source": [
    "df_features = df_features.dropna()"
   ]
  },
  {
   "attachments": {},
   "cell_type": "markdown",
   "metadata": {},
   "source": [
    "# Export the CSV file"
   ]
  },
  {
   "cell_type": "code",
   "execution_count": 11,
   "metadata": {},
   "outputs": [],
   "source": [
    "df_features.to_csv('app/salary_by_category.csv', sep=',', encoding='utf-8')"
   ]
  },
  {
   "attachments": {},
   "cell_type": "markdown",
   "metadata": {},
   "source": [
    "# Try Visualization"
   ]
  },
  {
   "cell_type": "code",
   "execution_count": 12,
   "metadata": {},
   "outputs": [
    {
     "data": {
      "text/plain": [
       "<AxesSubplot: xlabel='YearlySalary', ylabel='EdLevel'>"
      ]
     },
     "execution_count": 12,
     "metadata": {},
     "output_type": "execute_result"
    },
    {
     "data": {
      "image/png": "[encoded data removed]",
      "text/plain": [
       "<Figure size 1200x900 with 1 Axes>"
      ]
     },
     "metadata": {},
     "output_type": "display_data"
    }
   ],
   "source": [
    "plt.figure(figsize=(12, 9))\n",
    "sns.boxplot(x='YearlySalary', y='EdLevel', data=df_features, showfliers=False, orient=\"h\", whis=[10, 90])"
   ]
  },
  {
   "cell_type": "code",
   "execution_count": 13,
   "metadata": {},
   "outputs": [
    {
     "data": {
      "text/plain": [
       "['Developer, back-end',\n",
       " 'Developer, full-stack',\n",
       " 'Academic researcher',\n",
       " 'DevOps specialist',\n",
       " 'Engineer, data',\n",
       " 'Developer, desktop or enterprise applications',\n",
       " 'Developer, mobile',\n",
       " 'Developer, embedded applications or devices',\n",
       " 'Developer, game or graphics',\n",
       " 'Developer, front-end',\n",
       " 'Developer, QA or test',\n",
       " 'Database administrator',\n",
       " 'Cloud infrastructure engineer',\n",
       " 'Data or business analyst',\n",
       " 'Designer',\n",
       " 'Student',\n",
       " 'Engineering manager',\n",
       " 'Project manager',\n",
       " 'Product manager',\n",
       " 'Senior Executive (C-Suite, VP, etc.)',\n",
       " 'System administrator',\n",
       " 'Marketing or sales professional',\n",
       " 'Data scientist or machine learning specialist',\n",
       " 'Scientist',\n",
       " 'Security professional',\n",
       " 'Engineer, site reliability',\n",
       " 'Educator',\n",
       " 'Other (please specify):',\n",
       " 'Blockchain']"
      ]
     },
     "execution_count": 13,
     "metadata": {},
     "output_type": "execute_result"
    }
   ],
   "source": [
    "# Get unique strings in the DevType column (especially useful for creating the dropmenu)\n",
    "df_features['DevType'].unique().tolist()"
   ]
  },
  {
   "cell_type": "code",
   "execution_count": 14,
   "metadata": {},
   "outputs": [
    {
     "name": "stderr",
     "output_type": "stream",
     "text": [
      "C:\\Users\\anton\\AppData\\Local\\Temp\\ipykernel_46752\\110816886.py:2: SettingWithCopyWarning: \n",
      "A value is trying to be set on a copy of a slice from a DataFrame.\n",
      "Try using .loc[row_indexer,col_indexer] = value instead\n",
      "\n",
      "See the caveats in the documentation: https://pandas.pydata.org/pandas-docs/stable/user_guide/indexing.html#returning-a-view-versus-a-copy\n",
      "  df_features['DevType'] = df_features['DevType'].fillna(\"\")\n",
      "C:\\Users\\anton\\AppData\\Local\\Temp\\ipykernel_46752\\110816886.py:11: FutureWarning: The default value of numeric_only in DataFrameGroupBy.mean is deprecated. In a future version, numeric_only will default to False. Either specify numeric_only or select only columns which should be valid for the function.\n",
      "  df_ds_years = df_ds.groupby(['YearsCodePro']).mean()\n"
     ]
    },
    {
     "data": {
      "text/plain": [
       "<AxesSubplot: xlabel='YearsCodePro'>"
      ]
     },
     "execution_count": 14,
     "metadata": {},
     "output_type": "execute_result"
    },
    {
     "data": {
      "image/png": "[encoded data removed]",
      "text/plain": [
       "<Figure size 640x480 with 1 Axes>"
      ]
     },
     "metadata": {},
     "output_type": "display_data"
    }
   ],
   "source": [
    "# Display the histogram for the Data Scientists\n",
    "df_features['DevType'] = df_features['DevType'].fillna(\"\")\n",
    "df_ds = df_features[df_features['DevType'].str.contains(\"Data scientist\")]\n",
    "df_ds\n",
    "\n",
    "# Filter the salary to remove the outliers\n",
    "df_ds = df_ds.loc[df_ds['YearlySalary'] > df_ds.YearlySalary.quantile(0.1)]\n",
    "df_ds = df_ds.loc[df_ds['YearlySalary'] < df_ds.YearlySalary.quantile(0.9)]\n",
    "\n",
    "df_ds = df_ds.sort_values(by=['YearsCodePro'])\n",
    "df_ds_years = df_ds.groupby(['YearsCodePro']).mean()\n",
    "\n",
    "df_ds_years.plot.bar()"
   ]
  },
  {
   "cell_type": "code",
   "execution_count": 15,
   "metadata": {},
   "outputs": [
    {
     "data": {
      "text/html": [
       "<div>\n",
       "<style scoped>\n",
       "    .dataframe tbody tr th:only-of-type {\n",
       "        vertical-align: middle;\n",
       "    }\n",
       "\n",
       "    .dataframe tbody tr th {\n",
       "        vertical-align: top;\n",
       "    }\n",
       "\n",
       "    .dataframe thead th {\n",
       "        text-align: right;\n",
       "    }\n",
       "</style>\n",
       "<table border=\"1\" class=\"dataframe\">\n",
       "  <thead>\n",
       "    <tr style=\"text-align: right;\">\n",
       "      <th></th>\n",
       "      <th>YearlySalary</th>\n",
       "    </tr>\n",
       "  </thead>\n",
       "  <tbody>\n",
       "    <tr>\n",
       "      <th>0</th>\n",
       "      <td>96000.0</td>\n",
       "    </tr>\n",
       "    <tr>\n",
       "      <th>5</th>\n",
       "      <td>105000.0</td>\n",
       "    </tr>\n",
       "    <tr>\n",
       "      <th>10</th>\n",
       "      <td>116000.0</td>\n",
       "    </tr>\n",
       "    <tr>\n",
       "      <th>15</th>\n",
       "      <td>148000.0</td>\n",
       "    </tr>\n",
       "    <tr>\n",
       "      <th>20</th>\n",
       "      <td>150000.0</td>\n",
       "    </tr>\n",
       "  </tbody>\n",
       "</table>\n",
       "</div>"
      ],
      "text/plain": [
       "    YearlySalary\n",
       "0        96000.0\n",
       "5       105000.0\n",
       "10      116000.0\n",
       "15      148000.0\n",
       "20      150000.0"
      ]
     },
     "metadata": {},
     "output_type": "display_data"
    },
    {
     "data": {
      "text/plain": [
       "<AxesSubplot: >"
      ]
     },
     "execution_count": 15,
     "metadata": {},
     "output_type": "execute_result"
    },
    {
     "data": {
      "image/png": "[encoded data removed]",
      "text/plain": [
       "<Figure size 640x480 with 1 Axes>"
      ]
     },
     "metadata": {},
     "output_type": "display_data"
    }
   ],
   "source": [
    "# Create a new dataframe, containing a smoothed experience by salary visualization.\n",
    "# The point to display are : < 1, 1-4, 5-9, 10-19, 20+\n",
    "\n",
    "df_exp = pd.DataFrame()\n",
    "df_exp[\"YearlySalary\"] = [df_ds.loc[df_ds[\"YearsCodePro\"] == 0][\"YearlySalary\"].mean(),\n",
    "                          df_ds.loc[df_ds[\"YearsCodePro\"].between(1, 4, inclusive=\"both\")][\"YearlySalary\"].mean(),\n",
    "                          df_ds.loc[df_ds[\"YearsCodePro\"].between(5, 9, inclusive=\"both\")][\"YearlySalary\"].mean(),\n",
    "                          df_ds.loc[df_ds[\"YearsCodePro\"].between(10, 19, inclusive=\"both\")][\"YearlySalary\"].mean(),\n",
    "                          df_ds.loc[df_ds[\"YearsCodePro\"] >= 20][\"YearlySalary\"].mean()]\n",
    "\n",
    "df_exp.index = np.arange(0, 21, 5)\n",
    "df_exp[\"YearlySalary\"] = df_exp[\"YearlySalary\"].round(-3)\n",
    "display(df_exp)\n",
    "\n",
    "from scipy.interpolate import interp1d\n",
    "f1 = interp1d(np.arange(0, 21, 5), df_exp['YearlySalary'],kind='quadratic')\n",
    "\n",
    "df_exp_inter = pd.DataFrame()\n",
    "new_index = np.arange(21)\n",
    "df_exp_inter.index = new_index\n",
    "df_exp_inter['YearlySalary'] = f1(new_index)\n",
    "df_exp_inter.plot.area()"
   ]
  },
  {
   "cell_type": "code",
   "execution_count": 16,
   "metadata": {},
   "outputs": [
    {
     "data": {
      "application/vnd.plotly.v1+json": {
       "config": {
        "plotlyServerURL": "https://plot.ly"
       },
       "data": [
        {
         "fillpattern": {
          "shape": ""
         },
         "legendgroup": "",
         "line": {
          "color": "#636efa",
          "shape": "spline"
         },
         "marker": {
          "symbol": "circle"
         },
         "mode": "lines",
         "name": "",
         "orientation": "v",
         "showlegend": false,
         "stackgroup": "1",
         "type": "scatter",
         "x": [
          0,
          5,
          10,
          15,
          20
         ],
         "xaxis": "x",
         "y": [
          96000,
          105000,
          116000,
          148000,
          150000
         ],
         "yaxis": "y"
        }
       ],
       "layout": {
        "height": 500,
        "hovermode": "y",
        "legend": {
         "tracegroupgap": 0
        },
        "template": {
         "data": {
          "bar": [
           {
            "error_x": {
             "color": "#2a3f5f"
            },
            "error_y": {
             "color": "#2a3f5f"
            },
            "marker": {
             "line": {
              "color": "#E5ECF6",
              "width": 0.5
             },
             "pattern": {
              "fillmode": "overlay",
              "size": 10,
              "solidity": 0.2
             }
            },
            "type": "bar"
           }
          ],
          "barpolar": [
           {
            "marker": {
             "line": {
              "color": "#E5ECF6",
              "width": 0.5
             },
             "pattern": {
              "fillmode": "overlay",
              "size": 10,
              "solidity": 0.2
             }
            },
            "type": "barpolar"
           }
          ],
          "carpet": [
           {
            "aaxis": {
             "endlinecolor": "#2a3f5f",
             "gridcolor": "white",
             "linecolor": "white",
             "minorgridcolor": "white",
             "startlinecolor": "#2a3f5f"
            },
            "baxis": {
             "endlinecolor": "#2a3f5f",
             "gridcolor": "white",
             "linecolor": "white",
             "minorgridcolor": "white",
             "startlinecolor": "#2a3f5f"
            },
            "type": "carpet"
           }
          ],
          "choropleth": [
           {
            "colorbar": {
             "outlinewidth": 0,
             "ticks": ""
            },
            "type": "choropleth"
           }
          ],
          "contour": [
           {
            "colorbar": {
             "outlinewidth": 0,
             "ticks": ""
            },
            "colorscale": [
             [
              0,
              "#0d0887"
             ],
             [
              0.1111111111111111,
              "#46039f"
             ],
             [
              0.2222222222222222,
              "#7201a8"
             ],
             [
              0.3333333333333333,
              "#9c179e"
             ],
             [
              0.4444444444444444,
              "#bd3786"
             ],
             [
              0.5555555555555556,
              "#d8576b"
             ],
             [
              0.6666666666666666,
              "#ed7953"
             ],
             [
              0.7777777777777778,
              "#fb9f3a"
             ],
             [
              0.8888888888888888,
              "#fdca26"
             ],
             [
              1,
              "#f0f921"
             ]
            ],
            "type": "contour"
           }
          ],
          "contourcarpet": [
           {
            "colorbar": {
             "outlinewidth": 0,
             "ticks": ""
            },
            "type": "contourcarpet"
           }
          ],
          "heatmap": [
           {
            "colorbar": {
             "outlinewidth": 0,
             "ticks": ""
            },
            "colorscale": [
             [
              0,
              "#0d0887"
             ],
             [
              0.1111111111111111,
              "#46039f"
             ],
             [
              0.2222222222222222,
              "#7201a8"
             ],
             [
              0.3333333333333333,
              "#9c179e"
             ],
             [
              0.4444444444444444,
              "#bd3786"
             ],
             [
              0.5555555555555556,
              "#d8576b"
             ],
             [
              0.6666666666666666,
              "#ed7953"
             ],
             [
              0.7777777777777778,
              "#fb9f3a"
             ],
             [
              0.8888888888888888,
              "#fdca26"
             ],
             [
              1,
              "#f0f921"
             ]
            ],
            "type": "heatmap"
           }
          ],
          "heatmapgl": [
           {
            "colorbar": {
             "outlinewidth": 0,
             "ticks": ""
            },
            "colorscale": [
             [
              0,
              "#0d0887"
             ],
             [
              0.1111111111111111,
              "#46039f"
             ],
             [
              0.2222222222222222,
              "#7201a8"
             ],
             [
              0.3333333333333333,
              "#9c179e"
             ],
             [
              0.4444444444444444,
              "#bd3786"
             ],
             [
              0.5555555555555556,
              "#d8576b"
             ],
             [
              0.6666666666666666,
              "#ed7953"
             ],
             [
              0.7777777777777778,
              "#fb9f3a"
             ],
             [
              0.8888888888888888,
              "#fdca26"
             ],
             [
              1,
              "#f0f921"
             ]
            ],
            "type": "heatmapgl"
           }
          ],
          "histogram": [
           {
            "marker": {
             "pattern": {
              "fillmode": "overlay",
              "size": 10,
              "solidity": 0.2
             }
            },
            "type": "histogram"
           }
          ],
          "histogram2d": [
           {
            "colorbar": {
             "outlinewidth": 0,
             "ticks": ""
            },
            "colorscale": [
             [
              0,
              "#0d0887"
             ],
             [
              0.1111111111111111,
              "#46039f"
             ],
             [
              0.2222222222222222,
              "#7201a8"
             ],
             [
              0.3333333333333333,
              "#9c179e"
             ],
             [
              0.4444444444444444,
              "#bd3786"
             ],
             [
              0.5555555555555556,
              "#d8576b"
             ],
             [
              0.6666666666666666,
              "#ed7953"
             ],
             [
              0.7777777777777778,
              "#fb9f3a"
             ],
             [
              0.8888888888888888,
              "#fdca26"
             ],
             [
              1,
              "#f0f921"
             ]
            ],
            "type": "histogram2d"
           }
          ],
          "histogram2dcontour": [
           {
            "colorbar": {
             "outlinewidth": 0,
             "ticks": ""
            },
            "colorscale": [
             [
              0,
              "#0d0887"
             ],
             [
              0.1111111111111111,
              "#46039f"
             ],
             [
              0.2222222222222222,
              "#7201a8"
             ],
             [
              0.3333333333333333,
              "#9c179e"
             ],
             [
              0.4444444444444444,
              "#bd3786"
             ],
             [
              0.5555555555555556,
              "#d8576b"
             ],
             [
              0.6666666666666666,
              "#ed7953"
             ],
             [
              0.7777777777777778,
              "#fb9f3a"
             ],
             [
              0.8888888888888888,
              "#fdca26"
             ],
             [
              1,
              "#f0f921"
             ]
            ],
            "type": "histogram2dcontour"
           }
          ],
          "mesh3d": [
           {
            "colorbar": {
             "outlinewidth": 0,
             "ticks": ""
            },
            "type": "mesh3d"
           }
          ],
          "parcoords": [
           {
            "line": {
             "colorbar": {
              "outlinewidth": 0,
              "ticks": ""
             }
            },
            "type": "parcoords"
           }
          ],
          "pie": [
           {
            "automargin": true,
            "type": "pie"
           }
          ],
          "scatter": [
           {
            "fillpattern": {
             "fillmode": "overlay",
             "size": 10,
             "solidity": 0.2
            },
            "type": "scatter"
           }
          ],
          "scatter3d": [
           {
            "line": {
             "colorbar": {
              "outlinewidth": 0,
              "ticks": ""
             }
            },
            "marker": {
             "colorbar": {
              "outlinewidth": 0,
              "ticks": ""
             }
            },
            "type": "scatter3d"
           }
          ],
          "scattercarpet": [
           {
            "marker": {
             "colorbar": {
              "outlinewidth": 0,
              "ticks": ""
             }
            },
            "type": "scattercarpet"
           }
          ],
          "scattergeo": [
           {
            "marker": {
             "colorbar": {
              "outlinewidth": 0,
              "ticks": ""
             }
            },
            "type": "scattergeo"
           }
          ],
          "scattergl": [
           {
            "marker": {
             "colorbar": {
              "outlinewidth": 0,
              "ticks": ""
             }
            },
            "type": "scattergl"
           }
          ],
          "scattermapbox": [
           {
            "marker": {
             "colorbar": {
              "outlinewidth": 0,
              "ticks": ""
             }
            },
            "type": "scattermapbox"
           }
          ],
          "scatterpolar": [
           {
            "marker": {
             "colorbar": {
              "outlinewidth": 0,
              "ticks": ""
             }
            },
            "type": "scatterpolar"
           }
          ],
          "scatterpolargl": [
           {
            "marker": {
             "colorbar": {
              "outlinewidth": 0,
              "ticks": ""
             }
            },
            "type": "scatterpolargl"
           }
          ],
          "scatterternary": [
           {
            "marker": {
             "colorbar": {
              "outlinewidth": 0,
              "ticks": ""
             }
            },
            "type": "scatterternary"
           }
          ],
          "surface": [
           {
            "colorbar": {
             "outlinewidth": 0,
             "ticks": ""
            },
            "colorscale": [
             [
              0,
              "#0d0887"
             ],
             [
              0.1111111111111111,
              "#46039f"
             ],
             [
              0.2222222222222222,
              "#7201a8"
             ],
             [
              0.3333333333333333,
              "#9c179e"
             ],
             [
              0.4444444444444444,
              "#bd3786"
             ],
             [
              0.5555555555555556,
              "#d8576b"
             ],
             [
              0.6666666666666666,
              "#ed7953"
             ],
             [
              0.7777777777777778,
              "#fb9f3a"
             ],
             [
              0.8888888888888888,
              "#fdca26"
             ],
             [
              1,
              "#f0f921"
             ]
            ],
            "type": "surface"
           }
          ],
          "table": [
           {
            "cells": {
             "fill": {
              "color": "#EBF0F8"
             },
             "line": {
              "color": "white"
             }
            },
            "header": {
             "fill": {
              "color": "#C8D4E3"
             },
             "line": {
              "color": "white"
             }
            },
            "type": "table"
           }
          ]
         },
         "layout": {
          "annotationdefaults": {
           "arrowcolor": "#2a3f5f",
           "arrowhead": 0,
           "arrowwidth": 1
          },
          "autotypenumbers": "strict",
          "coloraxis": {
           "colorbar": {
            "outlinewidth": 0,
            "ticks": ""
           }
          },
          "colorscale": {
           "diverging": [
            [
             0,
             "#8e0152"
            ],
            [
             0.1,
             "#c51b7d"
            ],
            [
             0.2,
             "#de77ae"
            ],
            [
             0.3,
             "#f1b6da"
            ],
            [
             0.4,
             "#fde0ef"
            ],
            [
             0.5,
             "#f7f7f7"
            ],
            [
             0.6,
             "#e6f5d0"
            ],
            [
             0.7,
             "#b8e186"
            ],
            [
             0.8,
             "#7fbc41"
            ],
            [
             0.9,
             "#4d9221"
            ],
            [
             1,
             "#276419"
            ]
           ],
           "sequential": [
            [
             0,
             "#0d0887"
            ],
            [
             0.1111111111111111,
             "#46039f"
            ],
            [
             0.2222222222222222,
             "#7201a8"
            ],
            [
             0.3333333333333333,
             "#9c179e"
            ],
            [
             0.4444444444444444,
             "#bd3786"
            ],
            [
             0.5555555555555556,
             "#d8576b"
            ],
            [
             0.6666666666666666,
             "#ed7953"
            ],
            [
             0.7777777777777778,
             "#fb9f3a"
            ],
            [
             0.8888888888888888,
             "#fdca26"
            ],
            [
             1,
             "#f0f921"
            ]
           ],
           "sequentialminus": [
            [
             0,
             "#0d0887"
            ],
            [
             0.1111111111111111,
             "#46039f"
            ],
            [
             0.2222222222222222,
             "#7201a8"
            ],
            [
             0.3333333333333333,
             "#9c179e"
            ],
            [
             0.4444444444444444,
             "#bd3786"
            ],
            [
             0.5555555555555556,
             "#d8576b"
            ],
            [
             0.6666666666666666,
             "#ed7953"
            ],
            [
             0.7777777777777778,
             "#fb9f3a"
            ],
            [
             0.8888888888888888,
             "#fdca26"
            ],
            [
             1,
             "#f0f921"
            ]
           ]
          },
          "colorway": [
           "#636efa",
           "#EF553B",
           "#00cc96",
           "#ab63fa",
           "#FFA15A",
           "#19d3f3",
           "#FF6692",
           "#B6E880",
           "#FF97FF",
           "#FECB52"
          ],
          "font": {
           "color": "#2a3f5f"
          },
          "geo": {
           "bgcolor": "white",
           "lakecolor": "white",
           "landcolor": "#E5ECF6",
           "showlakes": true,
           "showland": true,
           "subunitcolor": "white"
          },
          "hoverlabel": {
           "align": "left"
          },
          "hovermode": "closest",
          "mapbox": {
           "style": "light"
          },
          "paper_bgcolor": "white",
          "plot_bgcolor": "#E5ECF6",
          "polar": {
           "angularaxis": {
            "gridcolor": "white",
            "linecolor": "white",
            "ticks": ""
           },
           "bgcolor": "#E5ECF6",
           "radialaxis": {
            "gridcolor": "white",
            "linecolor": "white",
            "ticks": ""
           }
          },
          "scene": {
           "xaxis": {
            "backgroundcolor": "#E5ECF6",
            "gridcolor": "white",
            "gridwidth": 2,
            "linecolor": "white",
            "showbackground": true,
            "ticks": "",
            "zerolinecolor": "white"
           },
           "yaxis": {
            "backgroundcolor": "#E5ECF6",
            "gridcolor": "white",
            "gridwidth": 2,
            "linecolor": "white",
            "showbackground": true,
            "ticks": "",
            "zerolinecolor": "white"
           },
           "zaxis": {
            "backgroundcolor": "#E5ECF6",
            "gridcolor": "white",
            "gridwidth": 2,
            "linecolor": "white",
            "showbackground": true,
            "ticks": "",
            "zerolinecolor": "white"
           }
          },
          "shapedefaults": {
           "line": {
            "color": "#2a3f5f"
           }
          },
          "ternary": {
           "aaxis": {
            "gridcolor": "white",
            "linecolor": "white",
            "ticks": ""
           },
           "baxis": {
            "gridcolor": "white",
            "linecolor": "white",
            "ticks": ""
           },
           "bgcolor": "#E5ECF6",
           "caxis": {
            "gridcolor": "white",
            "linecolor": "white",
            "ticks": ""
           }
          },
          "title": {
           "x": 0.05
          },
          "xaxis": {
           "automargin": true,
           "gridcolor": "white",
           "linecolor": "white",
           "ticks": "",
           "title": {
            "standoff": 15
           },
           "zerolinecolor": "white",
           "zerolinewidth": 2
          },
          "yaxis": {
           "automargin": true,
           "gridcolor": "white",
           "linecolor": "white",
           "ticks": "",
           "title": {
            "standoff": 15
           },
           "zerolinecolor": "white",
           "zerolinewidth": 2
          }
         }
        },
        "title": {
         "text": "Data Scientist<br><sup>Pay by experience</sup>"
        },
        "width": 750,
        "xaxis": {
         "anchor": "y",
         "domain": [
          0,
          1
         ],
         "tickmode": "array",
         "ticktext": [
          "< 1 yr",
          "1-4 yr",
          "5-9 yr",
          "10-19 yr",
          "20+ yr"
         ],
         "tickvals": [
          0,
          5,
          10,
          15,
          20
         ],
         "title": {
          "text": "Experience"
         }
        },
        "yaxis": {
         "anchor": "x",
         "domain": [
          0,
          1
         ],
         "range": [
          80000,
          160000
         ],
         "title": {
          "text": "Yearly Salary [$]"
         }
        }
       }
      }
     },
     "metadata": {},
     "output_type": "display_data"
    }
   ],
   "source": [
    "import plotly.express as px\n",
    "# df = px.data.gapminder()\n",
    "fig = px.area(df_exp, y='YearlySalary', range_y=[80e3,160e3], line_shape='spline' ,title=\"Data Scientist<br><sup>Pay by experience</sup>\", width=750, height=500)\n",
    "fig.update_traces(mode=\"lines\", hovertemplate=None)\n",
    "fig.update_layout(hovermode=\"y\",\n",
    "    xaxis_title=\"Experience\",\n",
    "    yaxis_title=\"Yearly Salary [$]\",)\n",
    "\n",
    "fig.update_layout(\n",
    "    xaxis = dict(\n",
    "        tickmode = 'array',\n",
    "        tickvals = [0, 5, 10, 15, 20],\n",
    "        ticktext = ['< 1 yr', '1-4 yr', '5-9 yr', '10-19 yr', '20+ yr',]\n",
    "    )\n",
    ")\n",
    "\n",
    "fig.show()"
   ]
  }
 ],
 "metadata": {
  "kernelspec": {
   "display_name": "HES",
   "language": "python",
   "name": "python3"
  },
  "language_info": {
   "codemirror_mode": {
    "name": "ipython",
    "version": 3
   },
   "file_extension": ".py",
   "mimetype": "text/x-python",
   "name": "python",
   "nbconvert_exporter": "python",
   "pygments_lexer": "ipython3",
   "version": "3.10.7"
  },
  "orig_nbformat": 4,
  "vscode": {
   "interpreter": {
    "hash": "8d616c03da174ca347d792915be784cacce866d474a632727902760813fd2978"
   }
  }
 },
 "nbformat": 4,
 "nbformat_minor": 2
}
