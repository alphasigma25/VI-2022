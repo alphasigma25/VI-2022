{
 "cells": [
  {
   "cell_type": "code",
   "execution_count": 1,
   "metadata": {},
   "outputs": [],
   "source": [
    "import numpy as np\n",
    "import pandas as pd\n",
    "import matplotlib.pyplot as plt\n",
    "import seaborn as sns"
   ]
  },
  {
   "cell_type": "code",
   "execution_count": 2,
   "metadata": {},
   "outputs": [
    {
     "name": "stdout",
     "output_type": "stream",
     "text": [
      "73268\n"
     ]
    },
    {
     "data": {
      "text/html": [
       "<div>\n",
       "<style scoped>\n",
       "    .dataframe tbody tr th:only-of-type {\n",
       "        vertical-align: middle;\n",
       "    }\n",
       "\n",
       "    .dataframe tbody tr th {\n",
       "        vertical-align: top;\n",
       "    }\n",
       "\n",
       "    .dataframe thead th {\n",
       "        text-align: right;\n",
       "    }\n",
       "</style>\n",
       "<table border=\"1\" class=\"dataframe\">\n",
       "  <thead>\n",
       "    <tr style=\"text-align: right;\">\n",
       "      <th></th>\n",
       "      <th>ResponseId</th>\n",
       "      <th>MainBranch</th>\n",
       "      <th>Employment</th>\n",
       "      <th>RemoteWork</th>\n",
       "      <th>CodingActivities</th>\n",
       "      <th>EdLevel</th>\n",
       "      <th>LearnCode</th>\n",
       "      <th>LearnCodeOnline</th>\n",
       "      <th>LearnCodeCoursesCert</th>\n",
       "      <th>YearsCode</th>\n",
       "      <th>...</th>\n",
       "      <th>TimeSearching</th>\n",
       "      <th>TimeAnswering</th>\n",
       "      <th>Onboarding</th>\n",
       "      <th>ProfessionalTech</th>\n",
       "      <th>TrueFalse_1</th>\n",
       "      <th>TrueFalse_2</th>\n",
       "      <th>TrueFalse_3</th>\n",
       "      <th>SurveyLength</th>\n",
       "      <th>SurveyEase</th>\n",
       "      <th>ConvertedCompYearly</th>\n",
       "    </tr>\n",
       "  </thead>\n",
       "  <tbody>\n",
       "    <tr>\n",
       "      <th>0</th>\n",
       "      <td>1</td>\n",
       "      <td>None of these</td>\n",
       "      <td>NaN</td>\n",
       "      <td>NaN</td>\n",
       "      <td>NaN</td>\n",
       "      <td>NaN</td>\n",
       "      <td>NaN</td>\n",
       "      <td>NaN</td>\n",
       "      <td>NaN</td>\n",
       "      <td>NaN</td>\n",
       "      <td>...</td>\n",
       "      <td>NaN</td>\n",
       "      <td>NaN</td>\n",
       "      <td>NaN</td>\n",
       "      <td>NaN</td>\n",
       "      <td>NaN</td>\n",
       "      <td>NaN</td>\n",
       "      <td>NaN</td>\n",
       "      <td>NaN</td>\n",
       "      <td>NaN</td>\n",
       "      <td>NaN</td>\n",
       "    </tr>\n",
       "    <tr>\n",
       "      <th>1</th>\n",
       "      <td>2</td>\n",
       "      <td>I am a developer by profession</td>\n",
       "      <td>Employed, full-time</td>\n",
       "      <td>Fully remote</td>\n",
       "      <td>Hobby;Contribute to open-source projects</td>\n",
       "      <td>NaN</td>\n",
       "      <td>NaN</td>\n",
       "      <td>NaN</td>\n",
       "      <td>NaN</td>\n",
       "      <td>NaN</td>\n",
       "      <td>...</td>\n",
       "      <td>NaN</td>\n",
       "      <td>NaN</td>\n",
       "      <td>NaN</td>\n",
       "      <td>NaN</td>\n",
       "      <td>NaN</td>\n",
       "      <td>NaN</td>\n",
       "      <td>NaN</td>\n",
       "      <td>Too long</td>\n",
       "      <td>Difficult</td>\n",
       "      <td>NaN</td>\n",
       "    </tr>\n",
       "    <tr>\n",
       "      <th>2</th>\n",
       "      <td>3</td>\n",
       "      <td>I am not primarily a developer, but I write co...</td>\n",
       "      <td>Employed, full-time</td>\n",
       "      <td>Hybrid (some remote, some in-person)</td>\n",
       "      <td>Hobby</td>\n",
       "      <td>Master’s degree (M.A., M.S., M.Eng., MBA, etc.)</td>\n",
       "      <td>Books / Physical media;Friend or family member...</td>\n",
       "      <td>Technical documentation;Blogs;Programming Game...</td>\n",
       "      <td>NaN</td>\n",
       "      <td>14</td>\n",
       "      <td>...</td>\n",
       "      <td>NaN</td>\n",
       "      <td>NaN</td>\n",
       "      <td>NaN</td>\n",
       "      <td>NaN</td>\n",
       "      <td>NaN</td>\n",
       "      <td>NaN</td>\n",
       "      <td>NaN</td>\n",
       "      <td>Appropriate in length</td>\n",
       "      <td>Neither easy nor difficult</td>\n",
       "      <td>40205.0</td>\n",
       "    </tr>\n",
       "    <tr>\n",
       "      <th>3</th>\n",
       "      <td>4</td>\n",
       "      <td>I am a developer by profession</td>\n",
       "      <td>Employed, full-time</td>\n",
       "      <td>Fully remote</td>\n",
       "      <td>I don’t code outside of work</td>\n",
       "      <td>Bachelor’s degree (B.A., B.S., B.Eng., etc.)</td>\n",
       "      <td>Books / Physical media;School (i.e., Universit...</td>\n",
       "      <td>NaN</td>\n",
       "      <td>NaN</td>\n",
       "      <td>20</td>\n",
       "      <td>...</td>\n",
       "      <td>NaN</td>\n",
       "      <td>NaN</td>\n",
       "      <td>NaN</td>\n",
       "      <td>NaN</td>\n",
       "      <td>NaN</td>\n",
       "      <td>NaN</td>\n",
       "      <td>NaN</td>\n",
       "      <td>Appropriate in length</td>\n",
       "      <td>Easy</td>\n",
       "      <td>215232.0</td>\n",
       "    </tr>\n",
       "    <tr>\n",
       "      <th>4</th>\n",
       "      <td>5</td>\n",
       "      <td>I am a developer by profession</td>\n",
       "      <td>Employed, full-time</td>\n",
       "      <td>Hybrid (some remote, some in-person)</td>\n",
       "      <td>Hobby</td>\n",
       "      <td>Bachelor’s degree (B.A., B.S., B.Eng., etc.)</td>\n",
       "      <td>Other online resources (e.g., videos, blogs, f...</td>\n",
       "      <td>Technical documentation;Blogs;Stack Overflow;O...</td>\n",
       "      <td>NaN</td>\n",
       "      <td>8</td>\n",
       "      <td>...</td>\n",
       "      <td>NaN</td>\n",
       "      <td>NaN</td>\n",
       "      <td>NaN</td>\n",
       "      <td>NaN</td>\n",
       "      <td>NaN</td>\n",
       "      <td>NaN</td>\n",
       "      <td>NaN</td>\n",
       "      <td>Too long</td>\n",
       "      <td>Easy</td>\n",
       "      <td>NaN</td>\n",
       "    </tr>\n",
       "  </tbody>\n",
       "</table>\n",
       "<p>5 rows × 79 columns</p>\n",
       "</div>"
      ],
      "text/plain": [
       "   ResponseId                                         MainBranch  \\\n",
       "0           1                                      None of these   \n",
       "1           2                     I am a developer by profession   \n",
       "2           3  I am not primarily a developer, but I write co...   \n",
       "3           4                     I am a developer by profession   \n",
       "4           5                     I am a developer by profession   \n",
       "\n",
       "            Employment                            RemoteWork  \\\n",
       "0                  NaN                                   NaN   \n",
       "1  Employed, full-time                          Fully remote   \n",
       "2  Employed, full-time  Hybrid (some remote, some in-person)   \n",
       "3  Employed, full-time                          Fully remote   \n",
       "4  Employed, full-time  Hybrid (some remote, some in-person)   \n",
       "\n",
       "                           CodingActivities  \\\n",
       "0                                       NaN   \n",
       "1  Hobby;Contribute to open-source projects   \n",
       "2                                     Hobby   \n",
       "3              I don’t code outside of work   \n",
       "4                                     Hobby   \n",
       "\n",
       "                                           EdLevel  \\\n",
       "0                                              NaN   \n",
       "1                                              NaN   \n",
       "2  Master’s degree (M.A., M.S., M.Eng., MBA, etc.)   \n",
       "3     Bachelor’s degree (B.A., B.S., B.Eng., etc.)   \n",
       "4     Bachelor’s degree (B.A., B.S., B.Eng., etc.)   \n",
       "\n",
       "                                           LearnCode  \\\n",
       "0                                                NaN   \n",
       "1                                                NaN   \n",
       "2  Books / Physical media;Friend or family member...   \n",
       "3  Books / Physical media;School (i.e., Universit...   \n",
       "4  Other online resources (e.g., videos, blogs, f...   \n",
       "\n",
       "                                     LearnCodeOnline LearnCodeCoursesCert  \\\n",
       "0                                                NaN                  NaN   \n",
       "1                                                NaN                  NaN   \n",
       "2  Technical documentation;Blogs;Programming Game...                  NaN   \n",
       "3                                                NaN                  NaN   \n",
       "4  Technical documentation;Blogs;Stack Overflow;O...                  NaN   \n",
       "\n",
       "  YearsCode  ... TimeSearching TimeAnswering Onboarding ProfessionalTech  \\\n",
       "0       NaN  ...           NaN           NaN        NaN              NaN   \n",
       "1       NaN  ...           NaN           NaN        NaN              NaN   \n",
       "2        14  ...           NaN           NaN        NaN              NaN   \n",
       "3        20  ...           NaN           NaN        NaN              NaN   \n",
       "4         8  ...           NaN           NaN        NaN              NaN   \n",
       "\n",
       "  TrueFalse_1 TrueFalse_2 TrueFalse_3           SurveyLength  \\\n",
       "0         NaN         NaN         NaN                    NaN   \n",
       "1         NaN         NaN         NaN               Too long   \n",
       "2         NaN         NaN         NaN  Appropriate in length   \n",
       "3         NaN         NaN         NaN  Appropriate in length   \n",
       "4         NaN         NaN         NaN               Too long   \n",
       "\n",
       "                   SurveyEase ConvertedCompYearly  \n",
       "0                         NaN                 NaN  \n",
       "1                   Difficult                 NaN  \n",
       "2  Neither easy nor difficult             40205.0  \n",
       "3                        Easy            215232.0  \n",
       "4                        Easy                 NaN  \n",
       "\n",
       "[5 rows x 79 columns]"
      ]
     },
     "execution_count": 2,
     "metadata": {},
     "output_type": "execute_result"
    }
   ],
   "source": [
    "df = pd.read_csv('survey_results_public.csv')\n",
    "print(len(df))\n",
    "df.head()"
   ]
  },
  {
   "cell_type": "code",
   "execution_count": 5,
   "metadata": {},
   "outputs": [
    {
     "name": "stdout",
     "output_type": "stream",
     "text": [
      "73268\n",
      "53507\n",
      "20261\n"
     ]
    },
    {
     "data": {
      "text/html": [
       "<div>\n",
       "<style scoped>\n",
       "    .dataframe tbody tr th:only-of-type {\n",
       "        vertical-align: middle;\n",
       "    }\n",
       "\n",
       "    .dataframe tbody tr th {\n",
       "        vertical-align: top;\n",
       "    }\n",
       "\n",
       "    .dataframe thead th {\n",
       "        text-align: right;\n",
       "    }\n",
       "</style>\n",
       "<table border=\"1\" class=\"dataframe\">\n",
       "  <thead>\n",
       "    <tr style=\"text-align: right;\">\n",
       "      <th></th>\n",
       "      <th>MentalHealth</th>\n",
       "      <th>DevType</th>\n",
       "      <th>YearlySalary</th>\n",
       "    </tr>\n",
       "  </thead>\n",
       "  <tbody>\n",
       "    <tr>\n",
       "      <th>8</th>\n",
       "      <td>Or, in your own words:</td>\n",
       "      <td>Developer, back-end</td>\n",
       "      <td>46000</td>\n",
       "    </tr>\n",
       "    <tr>\n",
       "      <th>10</th>\n",
       "      <td>None of the above</td>\n",
       "      <td>Developer, full-stack;Developer, back-end</td>\n",
       "      <td>48000</td>\n",
       "    </tr>\n",
       "    <tr>\n",
       "      <th>12</th>\n",
       "      <td>None of the above</td>\n",
       "      <td>Developer, full-stack</td>\n",
       "      <td>65000</td>\n",
       "    </tr>\n",
       "    <tr>\n",
       "      <th>14</th>\n",
       "      <td>None of the above</td>\n",
       "      <td>Developer, full-stack;Academic researcher;DevO...</td>\n",
       "      <td>110000</td>\n",
       "    </tr>\n",
       "    <tr>\n",
       "      <th>17</th>\n",
       "      <td>None of the above</td>\n",
       "      <td>Engineer, data</td>\n",
       "      <td>190000</td>\n",
       "    </tr>\n",
       "    <tr>\n",
       "      <th>...</th>\n",
       "      <td>...</td>\n",
       "      <td>...</td>\n",
       "      <td>...</td>\n",
       "    </tr>\n",
       "    <tr>\n",
       "      <th>73251</th>\n",
       "      <td>None of the above</td>\n",
       "      <td>Developer, full-stack</td>\n",
       "      <td>65000</td>\n",
       "    </tr>\n",
       "    <tr>\n",
       "      <th>73253</th>\n",
       "      <td>None of the above</td>\n",
       "      <td>Developer, back-end</td>\n",
       "      <td>121000</td>\n",
       "    </tr>\n",
       "    <tr>\n",
       "      <th>73261</th>\n",
       "      <td>None of the above</td>\n",
       "      <td>Developer, full-stack</td>\n",
       "      <td>36000</td>\n",
       "    </tr>\n",
       "    <tr>\n",
       "      <th>73264</th>\n",
       "      <td>None of the above</td>\n",
       "      <td>Data scientist or machine learning specialist</td>\n",
       "      <td>107000</td>\n",
       "    </tr>\n",
       "    <tr>\n",
       "      <th>73266</th>\n",
       "      <td>None of the above</td>\n",
       "      <td>Developer, front-end;Developer, desktop or ent...</td>\n",
       "      <td>58500</td>\n",
       "    </tr>\n",
       "  </tbody>\n",
       "</table>\n",
       "<p>20261 rows × 3 columns</p>\n",
       "</div>"
      ],
      "text/plain": [
       "                 MentalHealth  \\\n",
       "8      Or, in your own words:   \n",
       "10          None of the above   \n",
       "12          None of the above   \n",
       "14          None of the above   \n",
       "17          None of the above   \n",
       "...                       ...   \n",
       "73251       None of the above   \n",
       "73253       None of the above   \n",
       "73261       None of the above   \n",
       "73264       None of the above   \n",
       "73266       None of the above   \n",
       "\n",
       "                                                 DevType YearlySalary  \n",
       "8                                    Developer, back-end        46000  \n",
       "10             Developer, full-stack;Developer, back-end        48000  \n",
       "12                                 Developer, full-stack        65000  \n",
       "14     Developer, full-stack;Academic researcher;DevO...       110000  \n",
       "17                                        Engineer, data       190000  \n",
       "...                                                  ...          ...  \n",
       "73251                              Developer, full-stack        65000  \n",
       "73253                                Developer, back-end       121000  \n",
       "73261                              Developer, full-stack        36000  \n",
       "73264      Data scientist or machine learning specialist       107000  \n",
       "73266  Developer, front-end;Developer, desktop or ent...        58500  \n",
       "\n",
       "[20261 rows x 3 columns]"
      ]
     },
     "execution_count": 5,
     "metadata": {},
     "output_type": "execute_result"
    }
   ],
   "source": [
    "# Filter the data to only keep profesionnal developers\n",
    "print(len(df))\n",
    "df_filtered = df[df['MainBranch'].str.contains(\"I am a developer by profession\")]\n",
    "print(len(df_filtered))\n",
    "\n",
    "# Also filter to only relevants countries\n",
    "def filter(df, column, filters):\n",
    "    return df[df[column].isin(filters)]\n",
    "\n",
    "countries = [\n",
    "    'United States of America',\n",
    "    'Switzerland',\n",
    "    'United Kingdom of Great Britain and Northern Ireland',\n",
    "    'France',\n",
    "    'Germany',\n",
    "    'Netherlands',\n",
    "    'Spain',\n",
    "    'Italy',\n",
    "    'Austria',\n",
    "    'Italy',\n",
    "    'Canada',\n",
    "    'Ireland',\n",
    "    'Sweden',\n",
    "    'Norway',\n",
    "    'Australia',\n",
    "    'Denmark'\n",
    "]\n",
    "\n",
    "df_filtered = filter(df_filtered,'Country',countries)\n",
    "\n",
    "# df_filtered = df_filtered[df_filtered['Country'].str.contains(\"America\")]\n",
    "\n",
    "selectedColumns = [\n",
    "    'MentalHealth',\n",
    "    'DevType',\n",
    "    'CompTotal',\n",
    "    'CompFreq'\n",
    "]\n",
    "\n",
    "df_features = df_filtered[selectedColumns]\n",
    "# Remove row that have NaN salary\n",
    "df_features = df_features[df_features['CompTotal'].notna()]\n",
    "df_features = df_features[df_features['CompFreq'].notna()]\n",
    "df_features = df_features[df_features['MentalHealth'].notna()]\n",
    "\n",
    "# Convert monthly salary to yearly, then drop the CompTotal and CompFreq columns\n",
    "df_features['YearlySalary'] = df_features.apply(lambda row: int(row['CompTotal'] * 12) if row['CompFreq'] == \"Monthly\" else int(row['CompTotal']), axis=1)\n",
    "df_features = df_features.drop(['CompTotal', 'CompFreq'] , axis=1)\n",
    "\n",
    "# Filter outliers\n",
    "min_yearly_salary = 0\n",
    "max_yearly_salary = 1e7\n",
    "df_features = df_features.loc[df_features['YearlySalary'] > min_yearly_salary]\n",
    "df_features = df_features.loc[df_features['YearlySalary'] < max_yearly_salary]\n",
    "\n",
    "print(len(df_features))\n",
    "\n",
    "df_features"
   ]
  },
  {
   "cell_type": "code",
   "execution_count": 6,
   "metadata": {},
   "outputs": [
    {
     "data": {
      "text/plain": [
       "array(['Or, in your own words:', 'None of the above',\n",
       "       'I have a mood or emotional disorder (e.g., depression, bipolar disorder, etc.)',\n",
       "       'I have an anxiety disorder',\n",
       "       'I have learning differences (e.g., Dyslexic, Dyslexia, etc.)',\n",
       "       'Prefer not to say',\n",
       "       'I have a concentration and/or memory disorder (e.g., ADHD, etc.)',\n",
       "       \"I have autism / an autism spectrum disorder (e.g. Asperger's, etc.)\"],\n",
       "      dtype=object)"
      ]
     },
     "execution_count": 6,
     "metadata": {},
     "output_type": "execute_result"
    }
   ],
   "source": [
    "# df_features['MentalHealth'] = df_features['MentalHealth'].str.split(';')\n",
    "# df_features = df_features.explode(['MentalHealth'])\n",
    "# display(df_features['MentalHealth'].unique())\n",
    "df_features['MentalHealth'].str.split(';').explode().unique()\n",
    "\n",
    "# Only keep 'anxiety' and 'depression'\n",
    "# mental_illnesses = ['I have an anxiety disorder', \n",
    "#                      'I have a mood or emotional disorder (e.g., depression, bipolar disorder, etc.)']\n",
    "# df_features = filter(df_features,'MentalHealth',mental_illnesses)"
   ]
  },
  {
   "cell_type": "code",
   "execution_count": 8,
   "metadata": {},
   "outputs": [
    {
     "data": {
      "text/plain": [
       "array(['Or, in your own words:', 'None of the above', 'Depression',\n",
       "       'Anxiety',\n",
       "       'I have learning differences (e.g., Dyslexic, Dyslexia, etc.)',\n",
       "       'Prefer not to say',\n",
       "       'I have a concentration and/or memory disorder (e.g., ADHD, etc.)',\n",
       "       \"I have autism / an autism spectrum disorder (e.g. Asperger's, etc.)\"],\n",
       "      dtype=object)"
      ]
     },
     "execution_count": 8,
     "metadata": {},
     "output_type": "execute_result"
    }
   ],
   "source": [
    "df_features['MentalHealth'] = df_features['MentalHealth'].str.replace(\"I have a mood or emotional disorder \\(e.g., depression, bipolar disorder, etc.\\)\", 'Depression', regex=True)\n",
    "df_features['MentalHealth'] = df_features['MentalHealth'].str.replace(\"I have an anxiety disorder\", 'Anxiety', regex=True)\n",
    "\n",
    "df_features['MentalHealth'].str.split(';').explode().unique()"
   ]
  },
  {
   "cell_type": "code",
   "execution_count": 9,
   "metadata": {},
   "outputs": [],
   "source": [
    "df_features = df_features.dropna()"
   ]
  },
  {
   "cell_type": "code",
   "execution_count": 10,
   "metadata": {},
   "outputs": [
    {
     "data": {
      "text/html": [
       "<div>\n",
       "<style scoped>\n",
       "    .dataframe tbody tr th:only-of-type {\n",
       "        vertical-align: middle;\n",
       "    }\n",
       "\n",
       "    .dataframe tbody tr th {\n",
       "        vertical-align: top;\n",
       "    }\n",
       "\n",
       "    .dataframe thead th {\n",
       "        text-align: right;\n",
       "    }\n",
       "</style>\n",
       "<table border=\"1\" class=\"dataframe\">\n",
       "  <thead>\n",
       "    <tr style=\"text-align: right;\">\n",
       "      <th></th>\n",
       "      <th>MentalHealth</th>\n",
       "      <th>DevType</th>\n",
       "      <th>YearlySalary</th>\n",
       "    </tr>\n",
       "  </thead>\n",
       "  <tbody>\n",
       "    <tr>\n",
       "      <th>8</th>\n",
       "      <td>Or, in your own words:</td>\n",
       "      <td>Developer, back-end</td>\n",
       "      <td>46000</td>\n",
       "    </tr>\n",
       "    <tr>\n",
       "      <th>10</th>\n",
       "      <td>None of the above</td>\n",
       "      <td>Developer, full-stack;Developer, back-end</td>\n",
       "      <td>48000</td>\n",
       "    </tr>\n",
       "    <tr>\n",
       "      <th>12</th>\n",
       "      <td>None of the above</td>\n",
       "      <td>Developer, full-stack</td>\n",
       "      <td>65000</td>\n",
       "    </tr>\n",
       "    <tr>\n",
       "      <th>14</th>\n",
       "      <td>None of the above</td>\n",
       "      <td>Developer, full-stack;Academic researcher;DevO...</td>\n",
       "      <td>110000</td>\n",
       "    </tr>\n",
       "    <tr>\n",
       "      <th>17</th>\n",
       "      <td>None of the above</td>\n",
       "      <td>Engineer, data</td>\n",
       "      <td>190000</td>\n",
       "    </tr>\n",
       "    <tr>\n",
       "      <th>...</th>\n",
       "      <td>...</td>\n",
       "      <td>...</td>\n",
       "      <td>...</td>\n",
       "    </tr>\n",
       "    <tr>\n",
       "      <th>73251</th>\n",
       "      <td>None of the above</td>\n",
       "      <td>Developer, full-stack</td>\n",
       "      <td>65000</td>\n",
       "    </tr>\n",
       "    <tr>\n",
       "      <th>73253</th>\n",
       "      <td>None of the above</td>\n",
       "      <td>Developer, back-end</td>\n",
       "      <td>121000</td>\n",
       "    </tr>\n",
       "    <tr>\n",
       "      <th>73261</th>\n",
       "      <td>None of the above</td>\n",
       "      <td>Developer, full-stack</td>\n",
       "      <td>36000</td>\n",
       "    </tr>\n",
       "    <tr>\n",
       "      <th>73264</th>\n",
       "      <td>None of the above</td>\n",
       "      <td>Data scientist or machine learning specialist</td>\n",
       "      <td>107000</td>\n",
       "    </tr>\n",
       "    <tr>\n",
       "      <th>73266</th>\n",
       "      <td>None of the above</td>\n",
       "      <td>Developer, front-end;Developer, desktop or ent...</td>\n",
       "      <td>58500</td>\n",
       "    </tr>\n",
       "  </tbody>\n",
       "</table>\n",
       "<p>20227 rows × 3 columns</p>\n",
       "</div>"
      ],
      "text/plain": [
       "                 MentalHealth  \\\n",
       "8      Or, in your own words:   \n",
       "10          None of the above   \n",
       "12          None of the above   \n",
       "14          None of the above   \n",
       "17          None of the above   \n",
       "...                       ...   \n",
       "73251       None of the above   \n",
       "73253       None of the above   \n",
       "73261       None of the above   \n",
       "73264       None of the above   \n",
       "73266       None of the above   \n",
       "\n",
       "                                                 DevType YearlySalary  \n",
       "8                                    Developer, back-end        46000  \n",
       "10             Developer, full-stack;Developer, back-end        48000  \n",
       "12                                 Developer, full-stack        65000  \n",
       "14     Developer, full-stack;Academic researcher;DevO...       110000  \n",
       "17                                        Engineer, data       190000  \n",
       "...                                                  ...          ...  \n",
       "73251                              Developer, full-stack        65000  \n",
       "73253                                Developer, back-end       121000  \n",
       "73261                              Developer, full-stack        36000  \n",
       "73264      Data scientist or machine learning specialist       107000  \n",
       "73266  Developer, front-end;Developer, desktop or ent...        58500  \n",
       "\n",
       "[20227 rows x 3 columns]"
      ]
     },
     "execution_count": 10,
     "metadata": {},
     "output_type": "execute_result"
    }
   ],
   "source": [
    "df_features"
   ]
  },
  {
   "cell_type": "code",
   "execution_count": 11,
   "metadata": {},
   "outputs": [],
   "source": [
    "# Export the CSV\n",
    "df_features.to_csv('mental_health.csv', sep=',', encoding='utf-8')"
   ]
  },
  {
   "attachments": {},
   "cell_type": "markdown",
   "metadata": {},
   "source": [
    "## Test the visualization"
   ]
  },
  {
   "cell_type": "code",
   "execution_count": 14,
   "metadata": {},
   "outputs": [],
   "source": [
    "# Get the proportions mental illness by DevType\n",
    "# df_mh = pd.DataFrame()\n",
    "# df_mh.set_index(df_features['DevType'].unique())\n",
    "# df_mh['Anxiety'] = df_features['MentalHealth'].str.count('Anxiety', normalize=True) * 100\n",
    "# dev_type_list = df_features['DevType'].str.split(';').dropna().explode().unique().tolist()"
   ]
  },
  {
   "cell_type": "code",
   "execution_count": 50,
   "metadata": {},
   "outputs": [
    {
     "name": "stderr",
     "output_type": "stream",
     "text": [
      "C:\\Users\\Antony\\AppData\\Local\\Temp\\ipykernel_9244\\4294898406.py:34: UserWarning:\n",
      "\n",
      "This pattern is interpreted as a regular expression, and has match groups. To actually get the groups, use str.extract.\n",
      "\n"
     ]
    },
    {
     "data": {
      "text/html": [
       "<div>\n",
       "<style scoped>\n",
       "    .dataframe tbody tr th:only-of-type {\n",
       "        vertical-align: middle;\n",
       "    }\n",
       "\n",
       "    .dataframe tbody tr th {\n",
       "        vertical-align: top;\n",
       "    }\n",
       "\n",
       "    .dataframe thead th {\n",
       "        text-align: right;\n",
       "    }\n",
       "</style>\n",
       "<table border=\"1\" class=\"dataframe\">\n",
       "  <thead>\n",
       "    <tr style=\"text-align: right;\">\n",
       "      <th></th>\n",
       "      <th>DevType</th>\n",
       "      <th>Depression</th>\n",
       "    </tr>\n",
       "  </thead>\n",
       "  <tbody>\n",
       "    <tr>\n",
       "      <th>0</th>\n",
       "      <td>Senior Executive (C-Suite, VP, etc.)</td>\n",
       "      <td>0.000000</td>\n",
       "    </tr>\n",
       "    <tr>\n",
       "      <th>1</th>\n",
       "      <td>Student</td>\n",
       "      <td>0.076923</td>\n",
       "    </tr>\n",
       "    <tr>\n",
       "      <th>2</th>\n",
       "      <td>Marketing or sales professional</td>\n",
       "      <td>0.086957</td>\n",
       "    </tr>\n",
       "    <tr>\n",
       "      <th>3</th>\n",
       "      <td>Data scientist or machine learning specialist</td>\n",
       "      <td>0.099359</td>\n",
       "    </tr>\n",
       "    <tr>\n",
       "      <th>4</th>\n",
       "      <td>Project manager</td>\n",
       "      <td>0.101744</td>\n",
       "    </tr>\n",
       "    <tr>\n",
       "      <th>5</th>\n",
       "      <td>Developer, embedded applications or devices</td>\n",
       "      <td>0.109409</td>\n",
       "    </tr>\n",
       "    <tr>\n",
       "      <th>6</th>\n",
       "      <td>Developer, mobile</td>\n",
       "      <td>0.112164</td>\n",
       "    </tr>\n",
       "    <tr>\n",
       "      <th>7</th>\n",
       "      <td>Cloud infrastructure engineer</td>\n",
       "      <td>0.112752</td>\n",
       "    </tr>\n",
       "    <tr>\n",
       "      <th>8</th>\n",
       "      <td>Engineer, data</td>\n",
       "      <td>0.115217</td>\n",
       "    </tr>\n",
       "    <tr>\n",
       "      <th>9</th>\n",
       "      <td>System administrator</td>\n",
       "      <td>0.115304</td>\n",
       "    </tr>\n",
       "    <tr>\n",
       "      <th>10</th>\n",
       "      <td>Engineering manager</td>\n",
       "      <td>0.117155</td>\n",
       "    </tr>\n",
       "    <tr>\n",
       "      <th>11</th>\n",
       "      <td>Designer</td>\n",
       "      <td>0.117978</td>\n",
       "    </tr>\n",
       "    <tr>\n",
       "      <th>12</th>\n",
       "      <td>Data or business analyst</td>\n",
       "      <td>0.118841</td>\n",
       "    </tr>\n",
       "    <tr>\n",
       "      <th>13</th>\n",
       "      <td>Blockchain</td>\n",
       "      <td>0.123457</td>\n",
       "    </tr>\n",
       "    <tr>\n",
       "      <th>14</th>\n",
       "      <td>Product manager</td>\n",
       "      <td>0.127273</td>\n",
       "    </tr>\n",
       "    <tr>\n",
       "      <th>15</th>\n",
       "      <td>Database administrator</td>\n",
       "      <td>0.131034</td>\n",
       "    </tr>\n",
       "    <tr>\n",
       "      <th>16</th>\n",
       "      <td>Developer, desktop or enterprise applications</td>\n",
       "      <td>0.132124</td>\n",
       "    </tr>\n",
       "    <tr>\n",
       "      <th>17</th>\n",
       "      <td>Developer, full-stack</td>\n",
       "      <td>0.134026</td>\n",
       "    </tr>\n",
       "    <tr>\n",
       "      <th>18</th>\n",
       "      <td>DevOps specialist</td>\n",
       "      <td>0.135011</td>\n",
       "    </tr>\n",
       "    <tr>\n",
       "      <th>19</th>\n",
       "      <td>Developer, front-end</td>\n",
       "      <td>0.138871</td>\n",
       "    </tr>\n",
       "    <tr>\n",
       "      <th>20</th>\n",
       "      <td>Developer, back-end</td>\n",
       "      <td>0.143942</td>\n",
       "    </tr>\n",
       "    <tr>\n",
       "      <th>21</th>\n",
       "      <td>Engineer, site reliability</td>\n",
       "      <td>0.147186</td>\n",
       "    </tr>\n",
       "    <tr>\n",
       "      <th>22</th>\n",
       "      <td>Security professional</td>\n",
       "      <td>0.147982</td>\n",
       "    </tr>\n",
       "    <tr>\n",
       "      <th>23</th>\n",
       "      <td>Developer, game or graphics</td>\n",
       "      <td>0.149351</td>\n",
       "    </tr>\n",
       "    <tr>\n",
       "      <th>24</th>\n",
       "      <td>Other</td>\n",
       "      <td>0.163462</td>\n",
       "    </tr>\n",
       "    <tr>\n",
       "      <th>25</th>\n",
       "      <td>Scientist</td>\n",
       "      <td>0.167883</td>\n",
       "    </tr>\n",
       "    <tr>\n",
       "      <th>26</th>\n",
       "      <td>Academic researcher</td>\n",
       "      <td>0.168067</td>\n",
       "    </tr>\n",
       "    <tr>\n",
       "      <th>27</th>\n",
       "      <td>Educator</td>\n",
       "      <td>0.174497</td>\n",
       "    </tr>\n",
       "    <tr>\n",
       "      <th>28</th>\n",
       "      <td>Developer, QA or test</td>\n",
       "      <td>0.177249</td>\n",
       "    </tr>\n",
       "  </tbody>\n",
       "</table>\n",
       "</div>"
      ],
      "text/plain": [
       "                                          DevType  Depression\n",
       "0            Senior Executive (C-Suite, VP, etc.)    0.000000\n",
       "1                                         Student    0.076923\n",
       "2                 Marketing or sales professional    0.086957\n",
       "3   Data scientist or machine learning specialist    0.099359\n",
       "4                                 Project manager    0.101744\n",
       "5     Developer, embedded applications or devices    0.109409\n",
       "6                               Developer, mobile    0.112164\n",
       "7                   Cloud infrastructure engineer    0.112752\n",
       "8                                  Engineer, data    0.115217\n",
       "9                            System administrator    0.115304\n",
       "10                            Engineering manager    0.117155\n",
       "11                                       Designer    0.117978\n",
       "12                       Data or business analyst    0.118841\n",
       "13                                     Blockchain    0.123457\n",
       "14                                Product manager    0.127273\n",
       "15                         Database administrator    0.131034\n",
       "16  Developer, desktop or enterprise applications    0.132124\n",
       "17                          Developer, full-stack    0.134026\n",
       "18                              DevOps specialist    0.135011\n",
       "19                           Developer, front-end    0.138871\n",
       "20                            Developer, back-end    0.143942\n",
       "21                     Engineer, site reliability    0.147186\n",
       "22                          Security professional    0.147982\n",
       "23                    Developer, game or graphics    0.149351\n",
       "24                                          Other    0.163462\n",
       "25                                      Scientist    0.167883\n",
       "26                            Academic researcher    0.168067\n",
       "27                                       Educator    0.174497\n",
       "28                          Developer, QA or test    0.177249"
      ]
     },
     "execution_count": 50,
     "metadata": {},
     "output_type": "execute_result"
    }
   ],
   "source": [
    "DevType = [\n",
    "    'Developer, full-stack',\n",
    "    'Academic researcher',\n",
    "    'DevOps specialist',\n",
    "    'Developer, back-end',\n",
    "    'Developer, desktop or enterprise applications',\n",
    "    'Developer, embedded applications or devices',\n",
    "    'Developer, game or graphics',\n",
    "    'Developer, front-end',\n",
    "    'Engineer, data',\n",
    "    'Developer, QA or test',\n",
    "    'Developer, mobile',\n",
    "    'Database administrator',\n",
    "    'Cloud infrastructure engineer',\n",
    "    'Data or business analyst',\n",
    "    'Designer',\n",
    "    'Marketing or sales professional',\n",
    "    'Data scientist or machine learning specialist',\n",
    "    'Security professional',\n",
    "    'Project manager',\n",
    "    'Senior Executive (C-Suite, VP, etc.)',\n",
    "    'Engineering manager',\n",
    "    'System administrator',\n",
    "    'Scientist',\n",
    "    'Product manager',\n",
    "    'Engineer, site reliability',\n",
    "    'Educator',\n",
    "    'Other',\n",
    "    'Blockchain',\n",
    "    'Student'\n",
    "]\n",
    "\n",
    "def filter_multicat(df : pd.DataFrame, column, filter) -> pd.DataFrame:\n",
    "    return df[df[column].str.contains(filter)]\n",
    "\n",
    "def aggregate_health(data, mental_health_type: str):\n",
    "    output = pd.DataFrame()\n",
    "    numbers = []\n",
    "    for devType in DevType:\n",
    "        df = filter_multicat(data, 'DevType', devType)\n",
    "        total = df.shape[0]\n",
    "        # print(total)\n",
    "        # print(filter_multicat(df, 'MentalHealth', mental_health_type).size)\n",
    "        if total > 0:\n",
    "            numbers.append(filter_multicat(df, 'MentalHealth', mental_health_type).shape[0]/total)\n",
    "        else:\n",
    "            numbers.append(0)\n",
    "    output['DevType'] = DevType\n",
    "    output[mental_health_type] = numbers\n",
    "    return output\n",
    "\n",
    "def getHealthOutput(data, salary_min, salary_max, mental_health_type):\n",
    "    df = data\n",
    "    # Filter the salary\n",
    "    df = df.loc[df['YearlySalary'] > salary_min]\n",
    "    df = df.loc[df['YearlySalary'] < salary_max]\n",
    "\n",
    "    # Get the proportion of the data for each DevType\n",
    "    return aggregate_health(df, mental_health_type)\n",
    "\n",
    "df = getHealthOutput(df_features, 80e3,160e3, 'Depression')\n",
    "df = df.sort_values(by=['Depression'])\n",
    "df = df.reset_index(drop=True)\n",
    "df"
   ]
  },
  {
   "cell_type": "code",
   "execution_count": 84,
   "metadata": {},
   "outputs": [
    {
     "data": {
      "application/vnd.plotly.v1+json": {
       "config": {
        "plotlyServerURL": "https://plot.ly"
       },
       "data": [
        {
         "orientation": "h",
         "type": "bar",
         "x": [
          0,
          0.07692307692307693,
          0.08695652173913043,
          0.09935897435897435,
          0.10174418604651163,
          0.10940919037199125,
          0.11216429699842022,
          0.11275167785234899,
          0.11521739130434783,
          0.11530398322851153,
          0.11715481171548117,
          0.11797752808988764,
          0.11884057971014493,
          0.12345679012345678,
          0.12727272727272726,
          0.1310344827586207,
          0.13212435233160622,
          0.13402641191345885,
          0.13501144164759726,
          0.1388712745719721,
          0.14394189501485638,
          0.1471861471861472,
          0.14798206278026907,
          0.14935064935064934,
          0.16346153846153846,
          0.1678832116788321,
          0.16806722689075632,
          0.174496644295302,
          0.17724867724867724
         ],
         "xaxis": "x",
         "y": [
          "Senior Executive (C-Suite, VP, etc.)",
          "Student",
          "Marketing or sales professional",
          "Data scientist or machine learning specialist",
          "Project manager",
          "Developer, embedded applications or devices",
          "Developer, mobile",
          "Cloud infrastructure engineer",
          "Engineer, data",
          "System administrator",
          "Engineering manager",
          "Designer",
          "Data or business analyst",
          "Blockchain",
          "Product manager",
          "Database administrator",
          "Developer, desktop or enterprise applications",
          "Developer, full-stack",
          "DevOps specialist",
          "Developer, front-end",
          "Developer, back-end",
          "Engineer, site reliability",
          "Security professional",
          "Developer, game or graphics",
          "Other",
          "Scientist",
          "Academic researcher",
          "Educator",
          "Developer, QA or test"
         ],
         "yaxis": "y"
        },
        {
         "orientation": "h",
         "type": "bar",
         "x": [
          0,
          0.07692307692307693,
          0.08695652173913043,
          0.09935897435897435,
          0.10174418604651163,
          0.10940919037199125,
          0.11216429699842022,
          0.11275167785234899,
          0.11521739130434783,
          0.11530398322851153,
          0.11715481171548117,
          0.11797752808988764,
          0.11884057971014493,
          0.12345679012345678,
          0.12727272727272726,
          0.1310344827586207,
          0.13212435233160622,
          0.13402641191345885,
          0.13501144164759726,
          0.1388712745719721,
          0.14394189501485638,
          0.1471861471861472,
          0.14798206278026907,
          0.14935064935064934,
          0.16346153846153846,
          0.1678832116788321,
          0.16806722689075632,
          0.174496644295302,
          0.17724867724867724
         ],
         "xaxis": "x2",
         "y": [
          "Senior Executive (C-Suite, VP, etc.)",
          "Student",
          "Marketing or sales professional",
          "Data scientist or machine learning specialist",
          "Project manager",
          "Developer, embedded applications or devices",
          "Developer, mobile",
          "Cloud infrastructure engineer",
          "Engineer, data",
          "System administrator",
          "Engineering manager",
          "Designer",
          "Data or business analyst",
          "Blockchain",
          "Product manager",
          "Database administrator",
          "Developer, desktop or enterprise applications",
          "Developer, full-stack",
          "DevOps specialist",
          "Developer, front-end",
          "Developer, back-end",
          "Engineer, site reliability",
          "Security professional",
          "Developer, game or graphics",
          "Other",
          "Scientist",
          "Academic researcher",
          "Educator",
          "Developer, QA or test"
         ],
         "yaxis": "y2"
        }
       ],
       "layout": {
        "polar": {
         "radialaxis": {
          "showticklabels": false
         }
        },
        "template": {
         "data": {
          "bar": [
           {
            "error_x": {
             "color": "#2a3f5f"
            },
            "error_y": {
             "color": "#2a3f5f"
            },
            "marker": {
             "line": {
              "color": "#E5ECF6",
              "width": 0.5
             },
             "pattern": {
              "fillmode": "overlay",
              "size": 10,
              "solidity": 0.2
             }
            },
            "type": "bar"
           }
          ],
          "barpolar": [
           {
            "marker": {
             "line": {
              "color": "#E5ECF6",
              "width": 0.5
             },
             "pattern": {
              "fillmode": "overlay",
              "size": 10,
              "solidity": 0.2
             }
            },
            "type": "barpolar"
           }
          ],
          "carpet": [
           {
            "aaxis": {
             "endlinecolor": "#2a3f5f",
             "gridcolor": "white",
             "linecolor": "white",
             "minorgridcolor": "white",
             "startlinecolor": "#2a3f5f"
            },
            "baxis": {
             "endlinecolor": "#2a3f5f",
             "gridcolor": "white",
             "linecolor": "white",
             "minorgridcolor": "white",
             "startlinecolor": "#2a3f5f"
            },
            "type": "carpet"
           }
          ],
          "choropleth": [
           {
            "colorbar": {
             "outlinewidth": 0,
             "ticks": ""
            },
            "type": "choropleth"
           }
          ],
          "contour": [
           {
            "colorbar": {
             "outlinewidth": 0,
             "ticks": ""
            },
            "colorscale": [
             [
              0,
              "#0d0887"
             ],
             [
              0.1111111111111111,
              "#46039f"
             ],
             [
              0.2222222222222222,
              "#7201a8"
             ],
             [
              0.3333333333333333,
              "#9c179e"
             ],
             [
              0.4444444444444444,
              "#bd3786"
             ],
             [
              0.5555555555555556,
              "#d8576b"
             ],
             [
              0.6666666666666666,
              "#ed7953"
             ],
             [
              0.7777777777777778,
              "#fb9f3a"
             ],
             [
              0.8888888888888888,
              "#fdca26"
             ],
             [
              1,
              "#f0f921"
             ]
            ],
            "type": "contour"
           }
          ],
          "contourcarpet": [
           {
            "colorbar": {
             "outlinewidth": 0,
             "ticks": ""
            },
            "type": "contourcarpet"
           }
          ],
          "heatmap": [
           {
            "colorbar": {
             "outlinewidth": 0,
             "ticks": ""
            },
            "colorscale": [
             [
              0,
              "#0d0887"
             ],
             [
              0.1111111111111111,
              "#46039f"
             ],
             [
              0.2222222222222222,
              "#7201a8"
             ],
             [
              0.3333333333333333,
              "#9c179e"
             ],
             [
              0.4444444444444444,
              "#bd3786"
             ],
             [
              0.5555555555555556,
              "#d8576b"
             ],
             [
              0.6666666666666666,
              "#ed7953"
             ],
             [
              0.7777777777777778,
              "#fb9f3a"
             ],
             [
              0.8888888888888888,
              "#fdca26"
             ],
             [
              1,
              "#f0f921"
             ]
            ],
            "type": "heatmap"
           }
          ],
          "heatmapgl": [
           {
            "colorbar": {
             "outlinewidth": 0,
             "ticks": ""
            },
            "colorscale": [
             [
              0,
              "#0d0887"
             ],
             [
              0.1111111111111111,
              "#46039f"
             ],
             [
              0.2222222222222222,
              "#7201a8"
             ],
             [
              0.3333333333333333,
              "#9c179e"
             ],
             [
              0.4444444444444444,
              "#bd3786"
             ],
             [
              0.5555555555555556,
              "#d8576b"
             ],
             [
              0.6666666666666666,
              "#ed7953"
             ],
             [
              0.7777777777777778,
              "#fb9f3a"
             ],
             [
              0.8888888888888888,
              "#fdca26"
             ],
             [
              1,
              "#f0f921"
             ]
            ],
            "type": "heatmapgl"
           }
          ],
          "histogram": [
           {
            "marker": {
             "pattern": {
              "fillmode": "overlay",
              "size": 10,
              "solidity": 0.2
             }
            },
            "type": "histogram"
           }
          ],
          "histogram2d": [
           {
            "colorbar": {
             "outlinewidth": 0,
             "ticks": ""
            },
            "colorscale": [
             [
              0,
              "#0d0887"
             ],
             [
              0.1111111111111111,
              "#46039f"
             ],
             [
              0.2222222222222222,
              "#7201a8"
             ],
             [
              0.3333333333333333,
              "#9c179e"
             ],
             [
              0.4444444444444444,
              "#bd3786"
             ],
             [
              0.5555555555555556,
              "#d8576b"
             ],
             [
              0.6666666666666666,
              "#ed7953"
             ],
             [
              0.7777777777777778,
              "#fb9f3a"
             ],
             [
              0.8888888888888888,
              "#fdca26"
             ],
             [
              1,
              "#f0f921"
             ]
            ],
            "type": "histogram2d"
           }
          ],
          "histogram2dcontour": [
           {
            "colorbar": {
             "outlinewidth": 0,
             "ticks": ""
            },
            "colorscale": [
             [
              0,
              "#0d0887"
             ],
             [
              0.1111111111111111,
              "#46039f"
             ],
             [
              0.2222222222222222,
              "#7201a8"
             ],
             [
              0.3333333333333333,
              "#9c179e"
             ],
             [
              0.4444444444444444,
              "#bd3786"
             ],
             [
              0.5555555555555556,
              "#d8576b"
             ],
             [
              0.6666666666666666,
              "#ed7953"
             ],
             [
              0.7777777777777778,
              "#fb9f3a"
             ],
             [
              0.8888888888888888,
              "#fdca26"
             ],
             [
              1,
              "#f0f921"
             ]
            ],
            "type": "histogram2dcontour"
           }
          ],
          "mesh3d": [
           {
            "colorbar": {
             "outlinewidth": 0,
             "ticks": ""
            },
            "type": "mesh3d"
           }
          ],
          "parcoords": [
           {
            "line": {
             "colorbar": {
              "outlinewidth": 0,
              "ticks": ""
             }
            },
            "type": "parcoords"
           }
          ],
          "pie": [
           {
            "automargin": true,
            "type": "pie"
           }
          ],
          "scatter": [
           {
            "fillpattern": {
             "fillmode": "overlay",
             "size": 10,
             "solidity": 0.2
            },
            "type": "scatter"
           }
          ],
          "scatter3d": [
           {
            "line": {
             "colorbar": {
              "outlinewidth": 0,
              "ticks": ""
             }
            },
            "marker": {
             "colorbar": {
              "outlinewidth": 0,
              "ticks": ""
             }
            },
            "type": "scatter3d"
           }
          ],
          "scattercarpet": [
           {
            "marker": {
             "colorbar": {
              "outlinewidth": 0,
              "ticks": ""
             }
            },
            "type": "scattercarpet"
           }
          ],
          "scattergeo": [
           {
            "marker": {
             "colorbar": {
              "outlinewidth": 0,
              "ticks": ""
             }
            },
            "type": "scattergeo"
           }
          ],
          "scattergl": [
           {
            "marker": {
             "colorbar": {
              "outlinewidth": 0,
              "ticks": ""
             }
            },
            "type": "scattergl"
           }
          ],
          "scattermapbox": [
           {
            "marker": {
             "colorbar": {
              "outlinewidth": 0,
              "ticks": ""
             }
            },
            "type": "scattermapbox"
           }
          ],
          "scatterpolar": [
           {
            "marker": {
             "colorbar": {
              "outlinewidth": 0,
              "ticks": ""
             }
            },
            "type": "scatterpolar"
           }
          ],
          "scatterpolargl": [
           {
            "marker": {
             "colorbar": {
              "outlinewidth": 0,
              "ticks": ""
             }
            },
            "type": "scatterpolargl"
           }
          ],
          "scatterternary": [
           {
            "marker": {
             "colorbar": {
              "outlinewidth": 0,
              "ticks": ""
             }
            },
            "type": "scatterternary"
           }
          ],
          "surface": [
           {
            "colorbar": {
             "outlinewidth": 0,
             "ticks": ""
            },
            "colorscale": [
             [
              0,
              "#0d0887"
             ],
             [
              0.1111111111111111,
              "#46039f"
             ],
             [
              0.2222222222222222,
              "#7201a8"
             ],
             [
              0.3333333333333333,
              "#9c179e"
             ],
             [
              0.4444444444444444,
              "#bd3786"
             ],
             [
              0.5555555555555556,
              "#d8576b"
             ],
             [
              0.6666666666666666,
              "#ed7953"
             ],
             [
              0.7777777777777778,
              "#fb9f3a"
             ],
             [
              0.8888888888888888,
              "#fdca26"
             ],
             [
              1,
              "#f0f921"
             ]
            ],
            "type": "surface"
           }
          ],
          "table": [
           {
            "cells": {
             "fill": {
              "color": "#EBF0F8"
             },
             "line": {
              "color": "white"
             }
            },
            "header": {
             "fill": {
              "color": "#C8D4E3"
             },
             "line": {
              "color": "white"
             }
            },
            "type": "table"
           }
          ]
         },
         "layout": {
          "annotationdefaults": {
           "arrowcolor": "#2a3f5f",
           "arrowhead": 0,
           "arrowwidth": 1
          },
          "autotypenumbers": "strict",
          "coloraxis": {
           "colorbar": {
            "outlinewidth": 0,
            "ticks": ""
           }
          },
          "colorscale": {
           "diverging": [
            [
             0,
             "#8e0152"
            ],
            [
             0.1,
             "#c51b7d"
            ],
            [
             0.2,
             "#de77ae"
            ],
            [
             0.3,
             "#f1b6da"
            ],
            [
             0.4,
             "#fde0ef"
            ],
            [
             0.5,
             "#f7f7f7"
            ],
            [
             0.6,
             "#e6f5d0"
            ],
            [
             0.7,
             "#b8e186"
            ],
            [
             0.8,
             "#7fbc41"
            ],
            [
             0.9,
             "#4d9221"
            ],
            [
             1,
             "#276419"
            ]
           ],
           "sequential": [
            [
             0,
             "#0d0887"
            ],
            [
             0.1111111111111111,
             "#46039f"
            ],
            [
             0.2222222222222222,
             "#7201a8"
            ],
            [
             0.3333333333333333,
             "#9c179e"
            ],
            [
             0.4444444444444444,
             "#bd3786"
            ],
            [
             0.5555555555555556,
             "#d8576b"
            ],
            [
             0.6666666666666666,
             "#ed7953"
            ],
            [
             0.7777777777777778,
             "#fb9f3a"
            ],
            [
             0.8888888888888888,
             "#fdca26"
            ],
            [
             1,
             "#f0f921"
            ]
           ],
           "sequentialminus": [
            [
             0,
             "#0d0887"
            ],
            [
             0.1111111111111111,
             "#46039f"
            ],
            [
             0.2222222222222222,
             "#7201a8"
            ],
            [
             0.3333333333333333,
             "#9c179e"
            ],
            [
             0.4444444444444444,
             "#bd3786"
            ],
            [
             0.5555555555555556,
             "#d8576b"
            ],
            [
             0.6666666666666666,
             "#ed7953"
            ],
            [
             0.7777777777777778,
             "#fb9f3a"
            ],
            [
             0.8888888888888888,
             "#fdca26"
            ],
            [
             1,
             "#f0f921"
            ]
           ]
          },
          "colorway": [
           "#636efa",
           "#EF553B",
           "#00cc96",
           "#ab63fa",
           "#FFA15A",
           "#19d3f3",
           "#FF6692",
           "#B6E880",
           "#FF97FF",
           "#FECB52"
          ],
          "font": {
           "color": "#2a3f5f"
          },
          "geo": {
           "bgcolor": "white",
           "lakecolor": "white",
           "landcolor": "#E5ECF6",
           "showlakes": true,
           "showland": true,
           "subunitcolor": "white"
          },
          "hoverlabel": {
           "align": "left"
          },
          "hovermode": "closest",
          "mapbox": {
           "style": "light"
          },
          "paper_bgcolor": "white",
          "plot_bgcolor": "#E5ECF6",
          "polar": {
           "angularaxis": {
            "gridcolor": "white",
            "linecolor": "white",
            "ticks": ""
           },
           "bgcolor": "#E5ECF6",
           "radialaxis": {
            "gridcolor": "white",
            "linecolor": "white",
            "ticks": ""
           }
          },
          "scene": {
           "xaxis": {
            "backgroundcolor": "#E5ECF6",
            "gridcolor": "white",
            "gridwidth": 2,
            "linecolor": "white",
            "showbackground": true,
            "ticks": "",
            "zerolinecolor": "white"
           },
           "yaxis": {
            "backgroundcolor": "#E5ECF6",
            "gridcolor": "white",
            "gridwidth": 2,
            "linecolor": "white",
            "showbackground": true,
            "ticks": "",
            "zerolinecolor": "white"
           },
           "zaxis": {
            "backgroundcolor": "#E5ECF6",
            "gridcolor": "white",
            "gridwidth": 2,
            "linecolor": "white",
            "showbackground": true,
            "ticks": "",
            "zerolinecolor": "white"
           }
          },
          "shapedefaults": {
           "line": {
            "color": "#2a3f5f"
           }
          },
          "ternary": {
           "aaxis": {
            "gridcolor": "white",
            "linecolor": "white",
            "ticks": ""
           },
           "baxis": {
            "gridcolor": "white",
            "linecolor": "white",
            "ticks": ""
           },
           "bgcolor": "#E5ECF6",
           "caxis": {
            "gridcolor": "white",
            "linecolor": "white",
            "ticks": ""
           }
          },
          "title": {
           "x": 0.05
          },
          "xaxis": {
           "automargin": true,
           "gridcolor": "white",
           "linecolor": "white",
           "ticks": "",
           "title": {
            "standoff": 15
           },
           "zerolinecolor": "white",
           "zerolinewidth": 2
          },
          "yaxis": {
           "automargin": true,
           "gridcolor": "white",
           "linecolor": "white",
           "ticks": "",
           "title": {
            "standoff": 15
           },
           "zerolinecolor": "white",
           "zerolinewidth": 2
          }
         }
        },
        "xaxis": {
         "anchor": "y",
         "autorange": "reversed",
         "domain": [
          0,
          0.45
         ],
         "showticklabels": false
        },
        "xaxis2": {
         "anchor": "y2",
         "domain": [
          0.55,
          1
         ]
        },
        "yaxis": {
         "anchor": "x",
         "domain": [
          0,
          1
         ]
        },
        "yaxis2": {
         "anchor": "x2",
         "domain": [
          0,
          1
         ],
         "showticklabels": false
        }
       }
      }
     },
     "metadata": {},
     "output_type": "display_data"
    }
   ],
   "source": [
    "from plotly.subplots import make_subplots\n",
    "import plotly.graph_objects as go\n",
    "\n",
    "# df = px.data.stocks()\n",
    "fig = make_subplots(rows=1, cols=2)\n",
    "fig.append_trace(go.Bar(x=df[\"Depression\"], y=df[\"DevType\"], orientation='h'), row=1, col=1)\n",
    "fig.append_trace(go.Bar(x=df[\"Depression\"], y=df[\"DevType\"], orientation='h'), row=1, col=2)\n",
    "fig.update_xaxes(autorange='reversed', col=1, showticklabels=False)\n",
    "fig.update_yaxes(col=2, showticklabels=False)\n",
    "fig.update_layout(polar = dict(radialaxis = dict(showticklabels = False)))\n",
    "# fig.update_layout(bargap=0.2)\n",
    "# fig.update_traces(width=1)\n",
    "fig.show()"
   ]
  }
 ],
 "metadata": {
  "kernelspec": {
   "display_name": "HES",
   "language": "python",
   "name": "python3"
  },
  "language_info": {
   "codemirror_mode": {
    "name": "ipython",
    "version": 3
   },
   "file_extension": ".py",
   "mimetype": "text/x-python",
   "name": "python",
   "nbconvert_exporter": "python",
   "pygments_lexer": "ipython3",
   "version": "3.10.0"
  },
  "orig_nbformat": 4,
  "vscode": {
   "interpreter": {
    "hash": "76924d8f9ac984ffb0b26bf840b67d856f694ea177b697518c965ec6c90704e4"
   }
  }
 },
 "nbformat": 4,
 "nbformat_minor": 2
}
